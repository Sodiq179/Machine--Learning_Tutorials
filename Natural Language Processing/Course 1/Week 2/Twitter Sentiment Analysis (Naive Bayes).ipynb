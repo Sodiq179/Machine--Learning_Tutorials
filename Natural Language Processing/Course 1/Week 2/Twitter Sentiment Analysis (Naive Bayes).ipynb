{
 "cells": [
  {
   "cell_type": "markdown",
   "id": "00d4eb72",
   "metadata": {},
   "source": [
    "# Twitter Sentiment Analysis"
   ]
  },
  {
   "cell_type": "markdown",
   "id": "4966f7bf",
   "metadata": {},
   "source": [
    "### Importing necessary Libraries"
   ]
  },
  {
   "cell_type": "code",
   "execution_count": 1,
   "id": "8692aebf",
   "metadata": {},
   "outputs": [],
   "source": [
    "import re\n",
    "import nltk\n",
    "import string\n",
    "import random\n",
    "import numpy as np\n",
    "import pandas as pd\n",
    "import matplotlib.pyplot as plt\n",
    "\n",
    "from nltk.corpus import twitter_samples, stopwords\n",
    "from nltk.stem import PorterStemmer\n",
    "from nltk.tokenize import TweetTokenizer\n",
    "\n",
    "from sklearn.model_selection import train_test_split\n",
    "from sklearn.metrics import accuracy_score, f1_score, precision_score, recall_score, confusion_matrix, classification_report\n",
    "\n",
    "from sklearn.linear_model import LogisticRegression\n",
    "\n",
    "import warnings\n",
    "warnings.filterwarnings('ignore')"
   ]
  },
  {
   "cell_type": "code",
   "execution_count": 2,
   "id": "1d6e81a5",
   "metadata": {},
   "outputs": [
    {
     "name": "stderr",
     "output_type": "stream",
     "text": [
      "[nltk_data] Downloading package twitter_samples to C:\\Users\\Sodiq Agba\n",
      "[nltk_data]     ML\\AppData\\Roaming\\nltk_data...\n",
      "[nltk_data]   Package twitter_samples is already up-to-date!\n",
      "[nltk_data] Downloading package stopwords to C:\\Users\\Sodiq Agba\n",
      "[nltk_data]     ML\\AppData\\Roaming\\nltk_data...\n",
      "[nltk_data]   Package stopwords is already up-to-date!\n"
     ]
    },
    {
     "data": {
      "text/plain": [
       "True"
      ]
     },
     "execution_count": 2,
     "metadata": {},
     "output_type": "execute_result"
    }
   ],
   "source": [
    "nltk.download('twitter_samples')\n",
    "nltk.download('stopwords')"
   ]
  },
  {
   "cell_type": "markdown",
   "id": "ed6e0f82",
   "metadata": {},
   "source": [
    "# Importing Dataset"
   ]
  },
  {
   "cell_type": "code",
   "execution_count": 3,
   "id": "069ee753",
   "metadata": {},
   "outputs": [],
   "source": [
    "positive_tweets = twitter_samples.strings('positive_tweets.json')\n",
    "negative_tweets = twitter_samples.strings('negative_tweets.json')"
   ]
  },
  {
   "cell_type": "code",
   "execution_count": 4,
   "id": "b5d19ef8",
   "metadata": {},
   "outputs": [
    {
     "data": {
      "text/plain": [
       "('@Lamb2ja Hey James! How odd :/ Please call our Contact Centre on 02392441234 and we will be able to assist you :) Many thanks!',\n",
       " \"Everything in the kids section of IKEA is so cute. Shame I'm nearly 19 in 2 months :(\")"
      ]
     },
     "execution_count": 4,
     "metadata": {},
     "output_type": "execute_result"
    }
   ],
   "source": [
    "positive_tweets[1], negative_tweets[1]"
   ]
  },
  {
   "cell_type": "code",
   "execution_count": 5,
   "id": "264eb102",
   "metadata": {},
   "outputs": [
    {
     "data": {
      "text/plain": [
       "(5000, 5000)"
      ]
     },
     "execution_count": 5,
     "metadata": {},
     "output_type": "execute_result"
    }
   ],
   "source": [
    "len(positive_tweets), len(negative_tweets)"
   ]
  },
  {
   "cell_type": "markdown",
   "id": "b38f7196",
   "metadata": {},
   "source": [
    "### Dataframe"
   ]
  },
  {
   "cell_type": "code",
   "execution_count": 6,
   "id": "30266e09",
   "metadata": {},
   "outputs": [],
   "source": [
    "positive_df = pd.DataFrame({'Tweets': positive_tweets, 'Sentiment' : np.ones(len(positive_tweets))})\n",
    "negative_df = pd.DataFrame({'Tweets': negative_tweets, 'Sentiment': np.zeros(len(positive_tweets))})\n",
    "\n",
    "tweets_df = pd.concat([positive_df, negative_df], axis = 0).sample(n = 10000).reset_index(drop = True)"
   ]
  },
  {
   "cell_type": "code",
   "execution_count": 7,
   "id": "bf9f651e",
   "metadata": {},
   "outputs": [
    {
     "data": {
      "text/html": [
       "<div>\n",
       "<style scoped>\n",
       "    .dataframe tbody tr th:only-of-type {\n",
       "        vertical-align: middle;\n",
       "    }\n",
       "\n",
       "    .dataframe tbody tr th {\n",
       "        vertical-align: top;\n",
       "    }\n",
       "\n",
       "    .dataframe thead th {\n",
       "        text-align: right;\n",
       "    }\n",
       "</style>\n",
       "<table border=\"1\" class=\"dataframe\">\n",
       "  <thead>\n",
       "    <tr style=\"text-align: right;\">\n",
       "      <th></th>\n",
       "      <th>Tweets</th>\n",
       "      <th>Sentiment</th>\n",
       "    </tr>\n",
       "  </thead>\n",
       "  <tbody>\n",
       "    <tr>\n",
       "      <th>0</th>\n",
       "      <td>.... My gosh ... I'm really bad at physics :(</td>\n",
       "      <td>0.0</td>\n",
       "    </tr>\n",
       "    <tr>\n",
       "      <th>1</th>\n",
       "      <td>@jan_iyer :( u didnt wish suriya anna....</td>\n",
       "      <td>0.0</td>\n",
       "    </tr>\n",
       "    <tr>\n",
       "      <th>2</th>\n",
       "      <td>vidcon :(((</td>\n",
       "      <td>0.0</td>\n",
       "    </tr>\n",
       "    <tr>\n",
       "      <th>3</th>\n",
       "      <td>@Atunci_CoV @QuetaAuthor :( rude</td>\n",
       "      <td>0.0</td>\n",
       "    </tr>\n",
       "    <tr>\n",
       "      <th>4</th>\n",
       "      <td>@fxnno_ i knew u would be sad :( were having a...</td>\n",
       "      <td>0.0</td>\n",
       "    </tr>\n",
       "  </tbody>\n",
       "</table>\n",
       "</div>"
      ],
      "text/plain": [
       "                                              Tweets  Sentiment\n",
       "0      .... My gosh ... I'm really bad at physics :(        0.0\n",
       "1          @jan_iyer :( u didnt wish suriya anna....        0.0\n",
       "2                                        vidcon :(((        0.0\n",
       "3                   @Atunci_CoV @QuetaAuthor :( rude        0.0\n",
       "4  @fxnno_ i knew u would be sad :( were having a...        0.0"
      ]
     },
     "execution_count": 7,
     "metadata": {},
     "output_type": "execute_result"
    }
   ],
   "source": [
    "tweets_df.head()"
   ]
  },
  {
   "cell_type": "code",
   "execution_count": 8,
   "id": "51557a9c",
   "metadata": {},
   "outputs": [
    {
     "data": {
      "text/plain": [
       "0.0    0.5\n",
       "1.0    0.5\n",
       "Name: Sentiment, dtype: float64"
      ]
     },
     "execution_count": 8,
     "metadata": {},
     "output_type": "execute_result"
    }
   ],
   "source": [
    "tweets_df['Sentiment'].value_counts(normalize = True)"
   ]
  },
  {
   "cell_type": "code",
   "execution_count": 9,
   "id": "bbcf30f8",
   "metadata": {},
   "outputs": [
    {
     "data": {
      "image/png": "[encoded data removed]",
      "text/plain": [
       "<Figure size 360x360 with 1 Axes>"
      ]
     },
     "metadata": {},
     "output_type": "display_data"
    }
   ],
   "source": [
    "fig = plt.figure(figsize = (5,5))\n",
    "\n",
    "labels = 'Positive tweets', 'Negative_tweets'\n",
    "\n",
    "X = [len(positive_tweets), len(negative_tweets)]\n",
    "\n",
    "plt.pie(x = X , labels = labels, startangle=90, shadow = True, autopct='%1.0f%%')\n",
    "\n",
    "plt.axis('equal')\n",
    "\n",
    "plt.show()"
   ]
  },
  {
   "cell_type": "markdown",
   "id": "2f83b908",
   "metadata": {},
   "source": [
    "# Data Preprocessing Functions"
   ]
  },
  {
   "cell_type": "markdown",
   "id": "054a7d1e",
   "metadata": {},
   "source": [
    "### Tweet cleaning"
   ]
  },
  {
   "cell_type": "code",
   "execution_count": 10,
   "id": "93457867",
   "metadata": {},
   "outputs": [],
   "source": [
    "def tweet_cleaning(tweet):\n",
    "    ### Removing Hyper links\n",
    "    new_tweet = re.sub(r'https?://.[.]\\w{2}[/]\\w+', '', tweet)\n",
    "    ### Removing @ sign\n",
    "    new_tweet = re.sub(r'@', '', new_tweet)\n",
    "    ### Removing Hash tag\n",
    "    new_tweet = re.sub(r'#', '', new_tweet)\n",
    "    return new_tweet"
   ]
  },
  {
   "cell_type": "markdown",
   "id": "798ed38d",
   "metadata": {},
   "source": [
    "### Tokenization"
   ]
  },
  {
   "cell_type": "code",
   "execution_count": 11,
   "id": "607c5725",
   "metadata": {},
   "outputs": [],
   "source": [
    "def tweet_tokenizer(tweet):\n",
    "    tokenizer = TweetTokenizer(preserve_case= False, reduce_len=False, strip_handles=False)\n",
    "    return tokenizer.tokenize(tweet)"
   ]
  },
  {
   "cell_type": "markdown",
   "id": "35a21123",
   "metadata": {},
   "source": [
    "### Stemming"
   ]
  },
  {
   "cell_type": "code",
   "execution_count": 12,
   "id": "64934f5d",
   "metadata": {},
   "outputs": [],
   "source": [
    "def tweet_stemmer(word_list):\n",
    "    stemmer = PorterStemmer()\n",
    "    stemmed_word = []\n",
    "    for word in word_list:\n",
    "        stemmed_word.append(stemmer.stem(word))\n",
    "    return stemmed_word"
   ]
  },
  {
   "cell_type": "markdown",
   "id": "bf674a6b",
   "metadata": {},
   "source": [
    "### Removing stopwords and Punctuation"
   ]
  },
  {
   "cell_type": "code",
   "execution_count": 13,
   "id": "d28a70aa",
   "metadata": {},
   "outputs": [],
   "source": [
    "def token_clean(token):\n",
    "    punctuations = string.punctuation\n",
    "    stop_words = stopwords.words('english')\n",
    "    new_token = [word for word in token if word not in punctuations if word not in stop_words]\n",
    "    return new_token"
   ]
  },
  {
   "cell_type": "markdown",
   "id": "65c294b2",
   "metadata": {},
   "source": [
    "### Single Clean Function"
   ]
  },
  {
   "cell_type": "code",
   "execution_count": 14,
   "id": "d65e238d",
   "metadata": {},
   "outputs": [],
   "source": [
    "def tweet_to_token(tweet):\n",
    "    cleaned_tweet = tweet_cleaning(tweet)\n",
    "    token = tweet_tokenizer(cleaned_tweet)\n",
    "    token_stem = tweet_stemmer(token)\n",
    "    final_token = token_clean(token_stem)\n",
    "    \n",
    "    return final_token"
   ]
  },
  {
   "cell_type": "markdown",
   "id": "15789cc4",
   "metadata": {},
   "source": [
    "### Bag of words"
   ]
  },
  {
   "cell_type": "code",
   "execution_count": 15,
   "id": "9410b0c3",
   "metadata": {},
   "outputs": [],
   "source": [
    "def Bag_of_words(tweet_token):\n",
    "    BOW = []\n",
    "    for token in tweet_token:\n",
    "        for word in token:\n",
    "            BOW.append(word)\n",
    "    return BOW"
   ]
  },
  {
   "cell_type": "markdown",
   "id": "86bf020e",
   "metadata": {},
   "source": [
    "### Weight dictionary"
   ]
  },
  {
   "cell_type": "code",
   "execution_count": 16,
   "id": "6cefd3f5",
   "metadata": {},
   "outputs": [],
   "source": [
    "def word_weight_dict(BOW, bow):\n",
    "    word_dict = {}\n",
    "    for x in BOW:\n",
    "        word_dict[x] = 0\n",
    "        for y in bow:\n",
    "            if x == y:\n",
    "                word_dict[x] += 1\n",
    "            else:\n",
    "                word_dict[x] += 0\n",
    "    return word_dict"
   ]
  },
  {
   "cell_type": "markdown",
   "id": "1e6ef50d",
   "metadata": {},
   "source": [
    "## Applying Cleaning Functions"
   ]
  },
  {
   "cell_type": "code",
   "execution_count": 17,
   "id": "1d48db56",
   "metadata": {},
   "outputs": [],
   "source": [
    "tweets_df['Token'] = tweets_df['Tweets'].apply(tweet_to_token)"
   ]
  },
  {
   "cell_type": "code",
   "execution_count": 18,
   "id": "a0b0d927",
   "metadata": {},
   "outputs": [],
   "source": [
    "bow = Bag_of_words(tweets_df['Token'])\n",
    "bow = pd.Series(bow).unique()"
   ]
  },
  {
   "cell_type": "markdown",
   "id": "e4a73575",
   "metadata": {},
   "source": [
    "### Words dictionary"
   ]
  },
  {
   "cell_type": "code",
   "execution_count": 19,
   "id": "76dfa67b",
   "metadata": {},
   "outputs": [],
   "source": [
    "positive_bow = Bag_of_words(tweets_df['Token'][tweets_df['Sentiment'].eq(1)])#Positive sentiment words\n",
    "negative_bow = Bag_of_words(tweets_df['Token'][tweets_df['Sentiment'].eq(0)])#Negative sentiments words"
   ]
  },
  {
   "cell_type": "code",
   "execution_count": 20,
   "id": "f2731db7",
   "metadata": {},
   "outputs": [],
   "source": [
    "positive_dict = word_weight_dict(bow, positive_bow)\n",
    "negative_dict = word_weight_dict(bow, negative_bow)"
   ]
  },
  {
   "cell_type": "markdown",
   "id": "2bb31802",
   "metadata": {},
   "source": [
    "### Words Probability"
   ]
  },
  {
   "cell_type": "code",
   "execution_count": 32,
   "id": "954aeb66",
   "metadata": {},
   "outputs": [],
   "source": [
    "def dict_sum(dict_):\n",
    "    sum_ = 0\n",
    "    for x in dict_:\n",
    "        sum_ += dict_.get(x)\n",
    "    return sum_"
   ]
  },
  {
   "cell_type": "code",
   "execution_count": 33,
   "id": "a89d7de3",
   "metadata": {},
   "outputs": [],
   "source": [
    "def word_prob(freq_dict):\n",
    "    N = dict_sum(freq_dict)\n",
    "    V = len(freq_dict)\n",
    "    prob_dict = {}\n",
    "    for word in freq_dict:\n",
    "        val = freq_dict.get(word)\n",
    "        prob = (val + 1)/ (N + V)\n",
    "        prob_dict[word] = prob\n",
    "    return prob_dict"
   ]
  },
  {
   "cell_type": "code",
   "execution_count": 34,
   "id": "3fa4d90f",
   "metadata": {},
   "outputs": [],
   "source": [
    "positive_prob = word_prob(positive_dict)\n",
    "negative_prob = word_prob(negative_dict)"
   ]
  },
  {
   "cell_type": "code",
   "execution_count": 46,
   "id": "9395d8d5",
   "metadata": {},
   "outputs": [],
   "source": [
    "def tweet_prob(tweet_token):\n",
    "    weight = np.log(len(positive_tweets)/len(negative_tweets))\n",
    "    for word in tweet_token:\n",
    "        pos_prob = positive_prob.get(word,0)\n",
    "        neg_prob = negative_prob.get(word,0)\n",
    "        weight += np.log(pos_prob/neg_prob)\n",
    "    return weight"
   ]
  },
  {
   "cell_type": "code",
   "execution_count": 48,
   "id": "a87314de",
   "metadata": {},
   "outputs": [],
   "source": [
    "tweets_df['Tweet_Probability'] = tweets_df['Token'].apply(tweet_prob)\n",
    "tweets_df['Pred_sentiment'] = tweets_df['Tweet_Probability'].apply(lambda x: 0 if x < 0 else 1)"
   ]
  },
  {
   "cell_type": "code",
   "execution_count": 55,
   "id": "4d6eab0b",
   "metadata": {},
   "outputs": [
    {
     "data": {
      "text/html": [
       "<div>\n",
       "<style scoped>\n",
       "    .dataframe tbody tr th:only-of-type {\n",
       "        vertical-align: middle;\n",
       "    }\n",
       "\n",
       "    .dataframe tbody tr th {\n",
       "        vertical-align: top;\n",
       "    }\n",
       "\n",
       "    .dataframe thead th {\n",
       "        text-align: right;\n",
       "    }\n",
       "</style>\n",
       "<table border=\"1\" class=\"dataframe\">\n",
       "  <thead>\n",
       "    <tr style=\"text-align: right;\">\n",
       "      <th></th>\n",
       "      <th>Tweets</th>\n",
       "      <th>Sentiment</th>\n",
       "      <th>Token</th>\n",
       "      <th>Tweet_Probability</th>\n",
       "      <th>Pred_sentiment</th>\n",
       "    </tr>\n",
       "  </thead>\n",
       "  <tbody>\n",
       "    <tr>\n",
       "      <th>0</th>\n",
       "      <td>.... My gosh ... I'm really bad at physics :(</td>\n",
       "      <td>0.0</td>\n",
       "      <td>[..., gosh, ..., i'm, realli, bad, physic, :(]</td>\n",
       "      <td>-13.126264</td>\n",
       "      <td>0</td>\n",
       "    </tr>\n",
       "    <tr>\n",
       "      <th>1</th>\n",
       "      <td>@jan_iyer :( u didnt wish suriya anna....</td>\n",
       "      <td>0.0</td>\n",
       "      <td>[jan_iy, :(, u, didnt, wish, suriya, anna, ...]</td>\n",
       "      <td>-14.201754</td>\n",
       "      <td>0</td>\n",
       "    </tr>\n",
       "    <tr>\n",
       "      <th>2</th>\n",
       "      <td>vidcon :(((</td>\n",
       "      <td>0.0</td>\n",
       "      <td>[vidcon, :(]</td>\n",
       "      <td>-8.845285</td>\n",
       "      <td>0</td>\n",
       "    </tr>\n",
       "    <tr>\n",
       "      <th>3</th>\n",
       "      <td>@Atunci_CoV @QuetaAuthor :( rude</td>\n",
       "      <td>0.0</td>\n",
       "      <td>[atunci_cov, quetaauthor, :(, rude]</td>\n",
       "      <td>-10.414659</td>\n",
       "      <td>0</td>\n",
       "    </tr>\n",
       "    <tr>\n",
       "      <th>4</th>\n",
       "      <td>@fxnno_ i knew u would be sad :( were having a...</td>\n",
       "      <td>0.0</td>\n",
       "      <td>[fxnno, knew, u, would, sad, :(, funer, wa, go...</td>\n",
       "      <td>-14.519977</td>\n",
       "      <td>0</td>\n",
       "    </tr>\n",
       "  </tbody>\n",
       "</table>\n",
       "</div>"
      ],
      "text/plain": [
       "                                              Tweets  Sentiment  \\\n",
       "0      .... My gosh ... I'm really bad at physics :(        0.0   \n",
       "1          @jan_iyer :( u didnt wish suriya anna....        0.0   \n",
       "2                                        vidcon :(((        0.0   \n",
       "3                   @Atunci_CoV @QuetaAuthor :( rude        0.0   \n",
       "4  @fxnno_ i knew u would be sad :( were having a...        0.0   \n",
       "\n",
       "                                               Token  Tweet_Probability  \\\n",
       "0     [..., gosh, ..., i'm, realli, bad, physic, :(]         -13.126264   \n",
       "1    [jan_iy, :(, u, didnt, wish, suriya, anna, ...]         -14.201754   \n",
       "2                                       [vidcon, :(]          -8.845285   \n",
       "3                [atunci_cov, quetaauthor, :(, rude]         -10.414659   \n",
       "4  [fxnno, knew, u, would, sad, :(, funer, wa, go...         -14.519977   \n",
       "\n",
       "   Pred_sentiment  \n",
       "0               0  \n",
       "1               0  \n",
       "2               0  \n",
       "3               0  \n",
       "4               0  "
      ]
     },
     "execution_count": 55,
     "metadata": {},
     "output_type": "execute_result"
    }
   ],
   "source": [
    "tweets_df.head()"
   ]
  },
  {
   "cell_type": "code",
   "execution_count": 57,
   "id": "c7775238",
   "metadata": {},
   "outputs": [
    {
     "name": "stdout",
     "output_type": "stream",
     "text": [
      "              precision    recall  f1-score   support\n",
      "\n",
      "         0.0       1.00      1.00      1.00      5000\n",
      "         1.0       1.00      1.00      1.00      5000\n",
      "\n",
      "    accuracy                           1.00     10000\n",
      "   macro avg       1.00      1.00      1.00     10000\n",
      "weighted avg       1.00      1.00      1.00     10000\n",
      "\n"
     ]
    }
   ],
   "source": [
    "print(classification_report(tweets_df['Sentiment'], tweets_df['Pred_sentiment']))"
   ]
  },
  {
   "cell_type": "code",
   "execution_count": 64,
   "id": "4b0a3cbe",
   "metadata": {},
   "outputs": [
    {
     "name": "stdout",
     "output_type": "stream",
     "text": [
      "Model Accuracy : 0.9994\n",
      "Model F1 score : 0.9993997599039617\n",
      "Model Precision : 0.9997998398718975\n",
      "Model Recall : 0.999\n"
     ]
    }
   ],
   "source": [
    "actual = tweets_df['Sentiment']\n",
    "pred = tweets_df['Pred_sentiment']\n",
    "print(f'Model Accuracy : {accuracy_score(actual,pred)}')\n",
    "print(f'Model F1 score : {f1_score(actual,pred)}')\n",
    "print(f'Model Precision : {precision_score(actual,pred)}')\n",
    "print(f'Model Recall : {recall_score(actual,pred)}')"
   ]
  },
  {
   "cell_type": "code",
   "execution_count": 66,
   "id": "7c48e714",
   "metadata": {},
   "outputs": [
    {
     "data": {
      "text/html": [
       "<div>\n",
       "<style scoped>\n",
       "    .dataframe tbody tr th:only-of-type {\n",
       "        vertical-align: middle;\n",
       "    }\n",
       "\n",
       "    .dataframe tbody tr th {\n",
       "        vertical-align: top;\n",
       "    }\n",
       "\n",
       "    .dataframe thead th {\n",
       "        text-align: right;\n",
       "    }\n",
       "</style>\n",
       "<table border=\"1\" class=\"dataframe\">\n",
       "  <thead>\n",
       "    <tr style=\"text-align: right;\">\n",
       "      <th></th>\n",
       "      <th>Positive</th>\n",
       "      <th>Negative</th>\n",
       "    </tr>\n",
       "  </thead>\n",
       "  <tbody>\n",
       "    <tr>\n",
       "      <th>Positive</th>\n",
       "      <td>4999</td>\n",
       "      <td>1</td>\n",
       "    </tr>\n",
       "    <tr>\n",
       "      <th>Negative</th>\n",
       "      <td>5</td>\n",
       "      <td>4995</td>\n",
       "    </tr>\n",
       "  </tbody>\n",
       "</table>\n",
       "</div>"
      ],
      "text/plain": [
       "          Positive  Negative\n",
       "Positive      4999         1\n",
       "Negative         5      4995"
      ]
     },
     "execution_count": 66,
     "metadata": {},
     "output_type": "execute_result"
    }
   ],
   "source": [
    "pd.DataFrame(confusion_matrix(actual,pred), columns = ['Positive','Negative'], index= ['Positive','Negative'])"
   ]
  }
 ],
 "metadata": {
  "kernelspec": {
   "display_name": "Python 3 (ipykernel)",
   "language": "python",
   "name": "python3"
  },
  "language_info": {
   "codemirror_mode": {
    "name": "ipython",
    "version": 3
   },
   "file_extension": ".py",
   "mimetype": "text/x-python",
   "name": "python",
   "nbconvert_exporter": "python",
   "pygments_lexer": "ipython3",
   "version": "3.9.7"
  }
 },
 "nbformat": 4,
 "nbformat_minor": 5
}

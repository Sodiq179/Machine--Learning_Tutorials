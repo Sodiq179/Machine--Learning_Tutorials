{
 "cells": [
  {
   "cell_type": "markdown",
   "id": "00d4eb72",
   "metadata": {},
   "source": [
    "# Twitter Sentiment Analysis"
   ]
  },
  {
   "cell_type": "markdown",
   "id": "4966f7bf",
   "metadata": {},
   "source": [
    "### Importing necessary Libraries"
   ]
  },
  {
   "cell_type": "code",
   "execution_count": 285,
   "id": "8692aebf",
   "metadata": {},
   "outputs": [],
   "source": [
    "import re\n",
    "import nltk\n",
    "import string\n",
    "import random\n",
    "import numpy as np\n",
    "import pandas as pd\n",
    "import matplotlib.pyplot as plt\n",
    "\n",
    "from nltk.corpus import twitter_samples, stopwords\n",
    "from nltk.stem import PorterStemmer\n",
    "from nltk.tokenize import TweetTokenizer\n",
    "\n",
    "from sklearn.model_selection import train_test_split\n",
    "from sklearn.metrics import accuracy_score, f1_score, precision_score, recall_score, confusion_matrix, classification_report\n",
    "\n",
    "from sklearn.linear_model import LogisticRegression\n",
    "\n",
    "import warnings\n",
    "warnings.filterwarnings('ignore')"
   ]
  },
  {
   "cell_type": "code",
   "execution_count": 3,
   "id": "1d6e81a5",
   "metadata": {},
   "outputs": [
    {
     "name": "stderr",
     "output_type": "stream",
     "text": [
      "[nltk_data] Downloading package twitter_samples to C:\\Users\\Sodiq Agba\n",
      "[nltk_data]     ML\\AppData\\Roaming\\nltk_data...\n",
      "[nltk_data]   Package twitter_samples is already up-to-date!\n",
      "[nltk_data] Downloading package stopwords to C:\\Users\\Sodiq Agba\n",
      "[nltk_data]     ML\\AppData\\Roaming\\nltk_data...\n",
      "[nltk_data]   Package stopwords is already up-to-date!\n"
     ]
    },
    {
     "data": {
      "text/plain": [
       "True"
      ]
     },
     "execution_count": 3,
     "metadata": {},
     "output_type": "execute_result"
    }
   ],
   "source": [
    "nltk.download('twitter_samples')\n",
    "nltk.download('stopwords')"
   ]
  },
  {
   "cell_type": "markdown",
   "id": "ed6e0f82",
   "metadata": {},
   "source": [
    "# Importing Dataset"
   ]
  },
  {
   "cell_type": "code",
   "execution_count": 13,
   "id": "069ee753",
   "metadata": {},
   "outputs": [],
   "source": [
    "positive_tweets = twitter_samples.strings('positive_tweets.json')\n",
    "negative_tweets = twitter_samples.strings('negative_tweets.json')"
   ]
  },
  {
   "cell_type": "code",
   "execution_count": 14,
   "id": "b5d19ef8",
   "metadata": {},
   "outputs": [
    {
     "data": {
      "text/plain": [
       "('@Lamb2ja Hey James! How odd :/ Please call our Contact Centre on 02392441234 and we will be able to assist you :) Many thanks!',\n",
       " \"Everything in the kids section of IKEA is so cute. Shame I'm nearly 19 in 2 months :(\")"
      ]
     },
     "execution_count": 14,
     "metadata": {},
     "output_type": "execute_result"
    }
   ],
   "source": [
    "positive_tweets[1], negative_tweets[1]"
   ]
  },
  {
   "cell_type": "code",
   "execution_count": 16,
   "id": "264eb102",
   "metadata": {},
   "outputs": [
    {
     "data": {
      "text/plain": [
       "(5000, 5000)"
      ]
     },
     "execution_count": 16,
     "metadata": {},
     "output_type": "execute_result"
    }
   ],
   "source": [
    "len(positive_tweets), len(negative_tweets)"
   ]
  },
  {
   "cell_type": "markdown",
   "id": "b38f7196",
   "metadata": {},
   "source": [
    "### Dataframe"
   ]
  },
  {
   "cell_type": "code",
   "execution_count": 164,
   "id": "30266e09",
   "metadata": {},
   "outputs": [],
   "source": [
    "positive_df = pd.DataFrame({'Tweets': positive_tweets, 'Sentiment' : np.ones(len(positive_tweets))})\n",
    "negative_df = pd.DataFrame({'Tweets': negative_tweets, 'Sentiment': np.zeros(len(positive_tweets))})\n",
    "\n",
    "tweets_df = pd.concat([positive_df, negative_df], axis = 0).sample(n = 10000).reset_index(drop = True)"
   ]
  },
  {
   "cell_type": "code",
   "execution_count": 166,
   "id": "bf9f651e",
   "metadata": {},
   "outputs": [
    {
     "data": {
      "text/html": [
       "<div>\n",
       "<style scoped>\n",
       "    .dataframe tbody tr th:only-of-type {\n",
       "        vertical-align: middle;\n",
       "    }\n",
       "\n",
       "    .dataframe tbody tr th {\n",
       "        vertical-align: top;\n",
       "    }\n",
       "\n",
       "    .dataframe thead th {\n",
       "        text-align: right;\n",
       "    }\n",
       "</style>\n",
       "<table border=\"1\" class=\"dataframe\">\n",
       "  <thead>\n",
       "    <tr style=\"text-align: right;\">\n",
       "      <th></th>\n",
       "      <th>Tweets</th>\n",
       "      <th>Sentiment</th>\n",
       "    </tr>\n",
       "  </thead>\n",
       "  <tbody>\n",
       "    <tr>\n",
       "      <th>0</th>\n",
       "      <td>@syukribinahmad have fun besok.. :)</td>\n",
       "      <td>1.0</td>\n",
       "    </tr>\n",
       "    <tr>\n",
       "      <th>1</th>\n",
       "      <td>@_stroya nou youre not :-( here have a picture...</td>\n",
       "      <td>0.0</td>\n",
       "    </tr>\n",
       "    <tr>\n",
       "      <th>2</th>\n",
       "      <td>Expired and I used BIS money now I'm broke ):(...</td>\n",
       "      <td>0.0</td>\n",
       "    </tr>\n",
       "    <tr>\n",
       "      <th>3</th>\n",
       "      <td>Add me on Snapchat - MaryHicks18 #snapchat #ki...</td>\n",
       "      <td>1.0</td>\n",
       "    </tr>\n",
       "    <tr>\n",
       "      <th>4</th>\n",
       "      <td>@Gurmeetramrahim #OurDaughtersOurPride #mypapa...</td>\n",
       "      <td>1.0</td>\n",
       "    </tr>\n",
       "  </tbody>\n",
       "</table>\n",
       "</div>"
      ],
      "text/plain": [
       "                                              Tweets  Sentiment\n",
       "0                @syukribinahmad have fun besok.. :)        1.0\n",
       "1  @_stroya nou youre not :-( here have a picture...        0.0\n",
       "2  Expired and I used BIS money now I'm broke ):(...        0.0\n",
       "3  Add me on Snapchat - MaryHicks18 #snapchat #ki...        1.0\n",
       "4  @Gurmeetramrahim #OurDaughtersOurPride #mypapa...        1.0"
      ]
     },
     "execution_count": 166,
     "metadata": {},
     "output_type": "execute_result"
    }
   ],
   "source": [
    "tweets_df.head()"
   ]
  },
  {
   "cell_type": "code",
   "execution_count": 169,
   "id": "51557a9c",
   "metadata": {},
   "outputs": [
    {
     "data": {
      "text/plain": [
       "1.0    0.5\n",
       "0.0    0.5\n",
       "Name: Sentiment, dtype: float64"
      ]
     },
     "execution_count": 169,
     "metadata": {},
     "output_type": "execute_result"
    }
   ],
   "source": [
    "tweets_df['Sentiment'].value_counts(normalize = True)"
   ]
  },
  {
   "cell_type": "code",
   "execution_count": 279,
   "id": "bbcf30f8",
   "metadata": {},
   "outputs": [
    {
     "data": {
      "image/png": "[encoded data removed]",
      "text/plain": [
       "<Figure size 360x360 with 1 Axes>"
      ]
     },
     "metadata": {},
     "output_type": "display_data"
    }
   ],
   "source": [
    "fig = plt.figure(figsize = (5,5))\n",
    "\n",
    "labels = 'Positive tweets', 'Negative_tweets'\n",
    "\n",
    "X = [len(positive_tweets), len(negative_tweets)]\n",
    "\n",
    "plt.pie(x = X , labels = labels, startangle=90, shadow = True, autopct='%1.0f%%')\n",
    "\n",
    "plt.axis('equal')\n",
    "\n",
    "plt.show()"
   ]
  },
  {
   "cell_type": "markdown",
   "id": "2f83b908",
   "metadata": {},
   "source": [
    "# Data Preprocessing Functions"
   ]
  },
  {
   "cell_type": "markdown",
   "id": "054a7d1e",
   "metadata": {},
   "source": [
    "### Tweet cleaning"
   ]
  },
  {
   "cell_type": "code",
   "execution_count": 94,
   "id": "93457867",
   "metadata": {},
   "outputs": [],
   "source": [
    "def tweet_cleaning(tweet):\n",
    "    ### Removing Hyper links\n",
    "    new_tweet = re.sub(r'https?://.[.]\\w{2}[/]\\w+', '', tweet)\n",
    "    ### Removing @ sign\n",
    "    new_tweet = re.sub(r'@', '', new_tweet)\n",
    "    ### Removing Hash tag\n",
    "    new_tweet = re.sub(r'#', '', new_tweet)\n",
    "    return new_tweet"
   ]
  },
  {
   "cell_type": "markdown",
   "id": "798ed38d",
   "metadata": {},
   "source": [
    "### Tokenization"
   ]
  },
  {
   "cell_type": "code",
   "execution_count": 118,
   "id": "607c5725",
   "metadata": {},
   "outputs": [],
   "source": [
    "def tweet_tokenizer(tweet):\n",
    "    tokenizer = TweetTokenizer(preserve_case= False, reduce_len=False, strip_handles=False)\n",
    "    return tokenizer.tokenize(tweet)"
   ]
  },
  {
   "cell_type": "markdown",
   "id": "35a21123",
   "metadata": {},
   "source": [
    "### Stemming"
   ]
  },
  {
   "cell_type": "code",
   "execution_count": 132,
   "id": "64934f5d",
   "metadata": {},
   "outputs": [],
   "source": [
    "def tweet_stemmer(word_list):\n",
    "    stemmer = PorterStemmer()\n",
    "    stemmed_word = []\n",
    "    for word in word_list:\n",
    "        stemmed_word.append(stemmer.stem(word))\n",
    "    return stemmed_word"
   ]
  },
  {
   "cell_type": "markdown",
   "id": "bf674a6b",
   "metadata": {},
   "source": [
    "### Removing stopwords and Punctuation"
   ]
  },
  {
   "cell_type": "code",
   "execution_count": 127,
   "id": "d28a70aa",
   "metadata": {},
   "outputs": [],
   "source": [
    "def token_clean(token):\n",
    "    punctuations = string.punctuation\n",
    "    stop_words = stopwords.words('english')\n",
    "    new_token = [word for word in token if word not in punctuations if word not in stop_words]\n",
    "    return new_token"
   ]
  },
  {
   "cell_type": "markdown",
   "id": "65c294b2",
   "metadata": {},
   "source": [
    "### Single Clean Function"
   ]
  },
  {
   "cell_type": "code",
   "execution_count": 134,
   "id": "d65e238d",
   "metadata": {},
   "outputs": [],
   "source": [
    "def tweet_to_token(tweet):\n",
    "    cleaned_tweet = tweet_cleaning(tweet)\n",
    "    token = tweet_tokenizer(cleaned_tweet)\n",
    "    token_stem = tweet_stemmer(token)\n",
    "    final_token = token_clean(token_stem)\n",
    "    \n",
    "    return final_token"
   ]
  },
  {
   "cell_type": "markdown",
   "id": "15789cc4",
   "metadata": {},
   "source": [
    "### Bag of words"
   ]
  },
  {
   "cell_type": "code",
   "execution_count": 221,
   "id": "9410b0c3",
   "metadata": {},
   "outputs": [],
   "source": [
    "def Bag_of_words(tweet_token):\n",
    "    BOW = []\n",
    "    for token in tweet_token:\n",
    "        for word in token:\n",
    "            BOW.append(word)\n",
    "    return BOW"
   ]
  },
  {
   "cell_type": "markdown",
   "id": "86bf020e",
   "metadata": {},
   "source": [
    "### Weight dictionary"
   ]
  },
  {
   "cell_type": "code",
   "execution_count": 231,
   "id": "6cefd3f5",
   "metadata": {},
   "outputs": [],
   "source": [
    "def word_weight_dict(BOW, bow):\n",
    "    word_dict = {}\n",
    "    for x in BOW:\n",
    "        word_dict[x] = 0\n",
    "        for y in bow:\n",
    "            if x == y:\n",
    "                word_dict[x] += 1\n",
    "            else:\n",
    "                word_dict[x] += 0\n",
    "    return word_dict"
   ]
  },
  {
   "cell_type": "code",
   "execution_count": null,
   "id": "7103aaab",
   "metadata": {},
   "outputs": [],
   "source": []
  },
  {
   "cell_type": "markdown",
   "id": "1e6ef50d",
   "metadata": {},
   "source": [
    "## Applying Cleaning Functions"
   ]
  },
  {
   "cell_type": "code",
   "execution_count": 174,
   "id": "1d48db56",
   "metadata": {},
   "outputs": [],
   "source": [
    "tweets_df['Token'] = tweets_df['Tweets'].apply(tweet_to_token)"
   ]
  },
  {
   "cell_type": "code",
   "execution_count": 222,
   "id": "a0b0d927",
   "metadata": {},
   "outputs": [],
   "source": [
    "bow = Bag_of_words(tweets_df['Token'])\n",
    "bow = pd.Series(bow).unique()"
   ]
  },
  {
   "cell_type": "markdown",
   "id": "e4a73575",
   "metadata": {},
   "source": [
    "### Words dictionary"
   ]
  },
  {
   "cell_type": "code",
   "execution_count": 228,
   "id": "76dfa67b",
   "metadata": {},
   "outputs": [],
   "source": [
    "positive_bow = Bag_of_words(tweets_df['Token'][tweets_df['Sentiment'].eq(1)])#Positive sentiment words\n",
    "negative_bow = Bag_of_words(tweets_df['Token'][tweets_df['Sentiment'].eq(0)])#Negative sentiments words"
   ]
  },
  {
   "cell_type": "code",
   "execution_count": 232,
   "id": "f2731db7",
   "metadata": {},
   "outputs": [],
   "source": [
    "positive_dict = word_weight_dict(bow, positive_bow)\n",
    "negative_dict = word_weight_dict(bow, negative_bow)"
   ]
  },
  {
   "cell_type": "code",
   "execution_count": 235,
   "id": "9395d8d5",
   "metadata": {},
   "outputs": [],
   "source": [
    "def positive_weight(tweet_token):\n",
    "    weight = 0\n",
    "    for word in tweet_token:\n",
    "        weight += positive_dict.get(word, 0)\n",
    "    return weight\n",
    "\n",
    "def negative_weight(tweet_token):\n",
    "    weight = 0\n",
    "    for word in tweet_token:\n",
    "        weight += negative_dict.get(word, 0)\n",
    "    return weight"
   ]
  },
  {
   "cell_type": "code",
   "execution_count": 241,
   "id": "a87314de",
   "metadata": {},
   "outputs": [],
   "source": [
    "tweets_df['Positive'] = tweets_df['Token'].apply(positive_weight)\n",
    "tweets_df['Negative'] = tweets_df['Token'].apply(negative_weight)"
   ]
  },
  {
   "cell_type": "code",
   "execution_count": 242,
   "id": "4d6eab0b",
   "metadata": {},
   "outputs": [
    {
     "data": {
      "text/html": [
       "<div>\n",
       "<style scoped>\n",
       "    .dataframe tbody tr th:only-of-type {\n",
       "        vertical-align: middle;\n",
       "    }\n",
       "\n",
       "    .dataframe tbody tr th {\n",
       "        vertical-align: top;\n",
       "    }\n",
       "\n",
       "    .dataframe thead th {\n",
       "        text-align: right;\n",
       "    }\n",
       "</style>\n",
       "<table border=\"1\" class=\"dataframe\">\n",
       "  <thead>\n",
       "    <tr style=\"text-align: right;\">\n",
       "      <th></th>\n",
       "      <th>Tweets</th>\n",
       "      <th>Sentiment</th>\n",
       "      <th>Token</th>\n",
       "      <th>Positive</th>\n",
       "      <th>Negative</th>\n",
       "    </tr>\n",
       "  </thead>\n",
       "  <tbody>\n",
       "    <tr>\n",
       "      <th>0</th>\n",
       "      <td>@syukribinahmad have fun besok.. :)</td>\n",
       "      <td>1.0</td>\n",
       "      <td>[syukribinahmad, fun, besok, .., :)]</td>\n",
       "      <td>3880</td>\n",
       "      <td>142</td>\n",
       "    </tr>\n",
       "    <tr>\n",
       "      <th>1</th>\n",
       "      <td>@_stroya nou youre not :-( here have a picture...</td>\n",
       "      <td>0.0</td>\n",
       "      <td>[_stroya, nou, :-(, pictur, adam]</td>\n",
       "      <td>13</td>\n",
       "      <td>522</td>\n",
       "    </tr>\n",
       "    <tr>\n",
       "      <th>2</th>\n",
       "      <td>Expired and I used BIS money now I'm broke ):(...</td>\n",
       "      <td>0.0</td>\n",
       "      <td>[expir, use, bi, money, i'm, broke, ):, theact...</td>\n",
       "      <td>318</td>\n",
       "      <td>545</td>\n",
       "    </tr>\n",
       "    <tr>\n",
       "      <th>3</th>\n",
       "      <td>Add me on Snapchat - MaryHicks18 #snapchat #ki...</td>\n",
       "      <td>1.0</td>\n",
       "      <td>[add, snapchat, maryhick, 18, snapchat, kikmeb...</td>\n",
       "      <td>3846</td>\n",
       "      <td>277</td>\n",
       "    </tr>\n",
       "    <tr>\n",
       "      <th>4</th>\n",
       "      <td>@Gurmeetramrahim #OurDaughtersOurPride #mypapa...</td>\n",
       "      <td>1.0</td>\n",
       "      <td>[gurmeetramrahim, ourdaughtersourprid, mypapam...</td>\n",
       "      <td>3719</td>\n",
       "      <td>12</td>\n",
       "    </tr>\n",
       "  </tbody>\n",
       "</table>\n",
       "</div>"
      ],
      "text/plain": [
       "                                              Tweets  Sentiment  \\\n",
       "0                @syukribinahmad have fun besok.. :)        1.0   \n",
       "1  @_stroya nou youre not :-( here have a picture...        0.0   \n",
       "2  Expired and I used BIS money now I'm broke ):(...        0.0   \n",
       "3  Add me on Snapchat - MaryHicks18 #snapchat #ki...        1.0   \n",
       "4  @Gurmeetramrahim #OurDaughtersOurPride #mypapa...        1.0   \n",
       "\n",
       "                                               Token  Positive  Negative  \n",
       "0               [syukribinahmad, fun, besok, .., :)]      3880       142  \n",
       "1                  [_stroya, nou, :-(, pictur, adam]        13       522  \n",
       "2  [expir, use, bi, money, i'm, broke, ):, theact...       318       545  \n",
       "3  [add, snapchat, maryhick, 18, snapchat, kikmeb...      3846       277  \n",
       "4  [gurmeetramrahim, ourdaughtersourprid, mypapam...      3719        12  "
      ]
     },
     "execution_count": 242,
     "metadata": {},
     "output_type": "execute_result"
    }
   ],
   "source": [
    "tweets_df.head()"
   ]
  },
  {
   "cell_type": "markdown",
   "id": "d62a98ad",
   "metadata": {},
   "source": [
    "### Dataset Plot"
   ]
  },
  {
   "cell_type": "code",
   "execution_count": 266,
   "id": "7543f985",
   "metadata": {},
   "outputs": [
    {
     "data": {
      "image/png": "[encoded data removed]",
      "text/plain": [
       "<Figure size 720x360 with 1 Axes>"
      ]
     },
     "metadata": {
      "needs_background": "light"
     },
     "output_type": "display_data"
    }
   ],
   "source": [
    "fig = plt.figure(figsize = (10,5))\n",
    "plt.scatter(tweets_df['Positive'][tweets_df['Sentiment'].eq(1)], tweets_df['Negative'][tweets_df['Sentiment'].eq(1)], label = 'Positive', color = 'green')\n",
    "plt.scatter(tweets_df['Positive'][tweets_df['Sentiment'].eq(0)], tweets_df['Negative'][tweets_df['Sentiment'].eq(0)], label = 'Negative', color = 'red')\n",
    "\n",
    "plt.xlabel('Positive Words')\n",
    "plt.ylabel('Negative Words')\n",
    "\n",
    "plt.title('Twitter Sentiment Analysis plot')\n",
    "plt.legend()\n",
    "plt.show()"
   ]
  },
  {
   "cell_type": "code",
   "execution_count": null,
   "id": "9ec5ca13",
   "metadata": {},
   "outputs": [],
   "source": []
  },
  {
   "cell_type": "markdown",
   "id": "648a110b",
   "metadata": {},
   "source": [
    "## Splitting Dataset"
   ]
  },
  {
   "cell_type": "code",
   "execution_count": 244,
   "id": "f8b5f524",
   "metadata": {},
   "outputs": [],
   "source": [
    "X = tweets_df.drop(['Token','Tweets','Sentiment'], axis = 1)\n",
    "y = tweets_df['Sentiment']"
   ]
  },
  {
   "cell_type": "code",
   "execution_count": 250,
   "id": "cb920e83",
   "metadata": {},
   "outputs": [],
   "source": [
    "X_train, X_test, y_train, y_test = train_test_split(X,y, test_size = 0.25, random_state = 2022)"
   ]
  },
  {
   "cell_type": "code",
   "execution_count": 252,
   "id": "f922eb52",
   "metadata": {},
   "outputs": [
    {
     "data": {
      "text/plain": [
       "((7500, 2), (2500, 2), (7500,), (2500,))"
      ]
     },
     "execution_count": 252,
     "metadata": {},
     "output_type": "execute_result"
    }
   ],
   "source": [
    "X_train.shape, X_test.shape, y_train.shape, y_test.shape"
   ]
  },
  {
   "cell_type": "markdown",
   "id": "550d1c91",
   "metadata": {},
   "source": [
    "### Logistic Regression Model"
   ]
  },
  {
   "cell_type": "code",
   "execution_count": 253,
   "id": "469ccca5",
   "metadata": {},
   "outputs": [],
   "source": [
    "model_lr = LogisticRegression()\n",
    "model_lr.fit(X_train, y_train)\n",
    "pred_lr = model_lr.predict(X_test)"
   ]
  },
  {
   "cell_type": "code",
   "execution_count": 258,
   "id": "8f47dcb8",
   "metadata": {},
   "outputs": [],
   "source": [
    "test_scores = [accuracy_score(y_test, pred_lr), f1_score(y_test, pred_lr), precision_score(y_test, pred_lr), recall_score(y_test, pred_lr)]\n",
    "train_scores = [accuracy_score(y_train,model_lr.predict(X_train)), f1_score(y_train, model_lr.predict(X_train)), precision_score(y_train, model_lr.predict(X_train)), recall_score(y_train, model_lr.predict(X_train))]"
   ]
  },
  {
   "cell_type": "code",
   "execution_count": 259,
   "id": "096b16e7",
   "metadata": {},
   "outputs": [
    {
     "data": {
      "text/html": [
       "<div>\n",
       "<style scoped>\n",
       "    .dataframe tbody tr th:only-of-type {\n",
       "        vertical-align: middle;\n",
       "    }\n",
       "\n",
       "    .dataframe tbody tr th {\n",
       "        vertical-align: top;\n",
       "    }\n",
       "\n",
       "    .dataframe thead th {\n",
       "        text-align: right;\n",
       "    }\n",
       "</style>\n",
       "<table border=\"1\" class=\"dataframe\">\n",
       "  <thead>\n",
       "    <tr style=\"text-align: right;\">\n",
       "      <th></th>\n",
       "      <th>Train Scores</th>\n",
       "      <th>Test Scores</th>\n",
       "    </tr>\n",
       "  </thead>\n",
       "  <tbody>\n",
       "    <tr>\n",
       "      <th>Accuracy</th>\n",
       "      <td>0.993867</td>\n",
       "      <td>0.996800</td>\n",
       "    </tr>\n",
       "    <tr>\n",
       "      <th>F1</th>\n",
       "      <td>0.993872</td>\n",
       "      <td>0.996815</td>\n",
       "    </tr>\n",
       "    <tr>\n",
       "      <th>Precision</th>\n",
       "      <td>0.992021</td>\n",
       "      <td>0.995231</td>\n",
       "    </tr>\n",
       "    <tr>\n",
       "      <th>Recall</th>\n",
       "      <td>0.995729</td>\n",
       "      <td>0.998405</td>\n",
       "    </tr>\n",
       "  </tbody>\n",
       "</table>\n",
       "</div>"
      ],
      "text/plain": [
       "           Train Scores  Test Scores\n",
       "Accuracy       0.993867     0.996800\n",
       "F1             0.993872     0.996815\n",
       "Precision      0.992021     0.995231\n",
       "Recall         0.995729     0.998405"
      ]
     },
     "execution_count": 259,
     "metadata": {},
     "output_type": "execute_result"
    }
   ],
   "source": [
    "scores = pd.DataFrame({'Train Scores' : train_scores, 'Test Scores': test_scores}, index = ['Accuracy','F1','Precision','Recall'])\n",
    "scores"
   ]
  },
  {
   "cell_type": "code",
   "execution_count": 288,
   "id": "e379859f",
   "metadata": {},
   "outputs": [
    {
     "data": {
      "text/plain": [
       "array([[1240,    6],\n",
       "       [   2, 1252]], dtype=int64)"
      ]
     },
     "execution_count": 288,
     "metadata": {},
     "output_type": "execute_result"
    }
   ],
   "source": [
    "confusion_matrix(y_test, pred_lr)"
   ]
  },
  {
   "cell_type": "code",
   "execution_count": 287,
   "id": "c7775238",
   "metadata": {},
   "outputs": [
    {
     "name": "stdout",
     "output_type": "stream",
     "text": [
      "              precision    recall  f1-score   support\n",
      "\n",
      "         0.0       1.00      1.00      1.00      1246\n",
      "         1.0       1.00      1.00      1.00      1254\n",
      "\n",
      "    accuracy                           1.00      2500\n",
      "   macro avg       1.00      1.00      1.00      2500\n",
      "weighted avg       1.00      1.00      1.00      2500\n",
      "\n"
     ]
    }
   ],
   "source": [
    "print(classification_report(y_test, pred_lr))"
   ]
  },
  {
   "cell_type": "code",
   "execution_count": null,
   "id": "4b0a3cbe",
   "metadata": {},
   "outputs": [],
   "source": []
  }
 ],
 "metadata": {
  "kernelspec": {
   "display_name": "Python 3 (ipykernel)",
   "language": "python",
   "name": "python3"
  },
  "language_info": {
   "codemirror_mode": {
    "name": "ipython",
    "version": 3
   },
   "file_extension": ".py",
   "mimetype": "text/x-python",
   "name": "python",
   "nbconvert_exporter": "python",
   "pygments_lexer": "ipython3",
   "version": "3.9.7"
  }
 },
 "nbformat": 4,
 "nbformat_minor": 5
}

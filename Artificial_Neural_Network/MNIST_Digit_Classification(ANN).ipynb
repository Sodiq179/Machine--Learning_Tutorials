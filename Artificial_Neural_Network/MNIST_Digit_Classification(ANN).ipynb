{
  "cells": [
    {
      "cell_type": "markdown",
      "metadata": {
        "id": "2boH1i8OLwHM"
      },
      "source": [
        "## **Libraries**"
      ]
    },
    {
      "cell_type": "code",
      "execution_count": 1,
      "metadata": {
        "id": "kh2C-xYALsuH"
      },
      "outputs": [],
      "source": [
        "#Basic libraries\n",
        "import numpy as np\n",
        "import pandas as pd\n",
        "\n",
        "#Visualization library\n",
        "import matplotlib.pyplot as plt\n",
        "\n",
        "##MNIST Dataset from sklearn\n",
        "from sklearn.datasets import fetch_openml\n",
        "\n",
        "from sklearn.preprocessing import MinMaxScaler\n",
        "from sklearn.model_selection import train_test_split\n",
        "from sklearn.metrics import accuracy_score, classification_report, confusion_matrix, ConfusionMatrixDisplay\n",
        "\n",
        "from tensorflow import keras\n",
        "from keras.models import Sequential\n",
        "from keras.layers import Dense, Activation, Dropout\n",
        "from keras.activations import relu\n",
        "from keras.optimizers import adam_v2\n",
        "from keras.metrics import categorical_crossentropy\n",
        "\n",
        "##Ignoring all warnings\n",
        "import warnings\n",
        "warnings.filterwarnings('ignore')"
      ]
    },
    {
      "cell_type": "markdown",
      "metadata": {
        "id": "YLMGVeh5NVVG"
      },
      "source": [
        "## **Dataset**"
      ]
    },
    {
      "cell_type": "code",
      "execution_count": 2,
      "metadata": {
        "id": "ur2_LX17M96k"
      },
      "outputs": [],
      "source": [
        "dataset = fetch_openml(\"mnist_784\")\n",
        "\n",
        "MNIST_data = dataset.frame"
      ]
    },
    {
      "cell_type": "code",
      "execution_count": 3,
      "metadata": {
        "colab": {
          "base_uri": "https://localhost:8080/",
          "height": 0
        },
        "id": "aLLBG2z2M-DK",
        "outputId": "615295ba-9a6d-429b-e595-bba6f543263b"
      },
      "outputs": [
        {
          "output_type": "execute_result",
          "data": {
            "text/plain": [
              "   pixel1  pixel2  pixel3  pixel4  pixel5  pixel6  pixel7  pixel8  pixel9  \\\n",
              "0     0.0     0.0     0.0     0.0     0.0     0.0     0.0     0.0     0.0   \n",
              "1     0.0     0.0     0.0     0.0     0.0     0.0     0.0     0.0     0.0   \n",
              "2     0.0     0.0     0.0     0.0     0.0     0.0     0.0     0.0     0.0   \n",
              "3     0.0     0.0     0.0     0.0     0.0     0.0     0.0     0.0     0.0   \n",
              "4     0.0     0.0     0.0     0.0     0.0     0.0     0.0     0.0     0.0   \n",
              "\n",
              "   pixel10  ...  pixel776  pixel777  pixel778  pixel779  pixel780  pixel781  \\\n",
              "0      0.0  ...       0.0       0.0       0.0       0.0       0.0       0.0   \n",
              "1      0.0  ...       0.0       0.0       0.0       0.0       0.0       0.0   \n",
              "2      0.0  ...       0.0       0.0       0.0       0.0       0.0       0.0   \n",
              "3      0.0  ...       0.0       0.0       0.0       0.0       0.0       0.0   \n",
              "4      0.0  ...       0.0       0.0       0.0       0.0       0.0       0.0   \n",
              "\n",
              "   pixel782  pixel783  pixel784  class  \n",
              "0       0.0       0.0       0.0      5  \n",
              "1       0.0       0.0       0.0      0  \n",
              "2       0.0       0.0       0.0      4  \n",
              "3       0.0       0.0       0.0      1  \n",
              "4       0.0       0.0       0.0      9  \n",
              "\n",
              "[5 rows x 785 columns]"
            ],
            "text/html": [
              "\n",
              "  <div id=\"df-2f7fee4b-d4cd-4ace-8cda-85182665ebb9\">\n",
              "    <div class=\"colab-df-container\">\n",
              "      <div>\n",
              "<style scoped>\n",
              "    .dataframe tbody tr th:only-of-type {\n",
              "        vertical-align: middle;\n",
              "    }\n",
              "\n",
              "    .dataframe tbody tr th {\n",
              "        vertical-align: top;\n",
              "    }\n",
              "\n",
              "    .dataframe thead th {\n",
              "        text-align: right;\n",
              "    }\n",
              "</style>\n",
              "<table border=\"1\" class=\"dataframe\">\n",
              "  <thead>\n",
              "    <tr style=\"text-align: right;\">\n",
              "      <th></th>\n",
              "      <th>pixel1</th>\n",
              "      <th>pixel2</th>\n",
              "      <th>pixel3</th>\n",
              "      <th>pixel4</th>\n",
              "      <th>pixel5</th>\n",
              "      <th>pixel6</th>\n",
              "      <th>pixel7</th>\n",
              "      <th>pixel8</th>\n",
              "      <th>pixel9</th>\n",
              "      <th>pixel10</th>\n",
              "      <th>...</th>\n",
              "      <th>pixel776</th>\n",
              "      <th>pixel777</th>\n",
              "      <th>pixel778</th>\n",
              "      <th>pixel779</th>\n",
              "      <th>pixel780</th>\n",
              "      <th>pixel781</th>\n",
              "      <th>pixel782</th>\n",
              "      <th>pixel783</th>\n",
              "      <th>pixel784</th>\n",
              "      <th>class</th>\n",
              "    </tr>\n",
              "  </thead>\n",
              "  <tbody>\n",
              "    <tr>\n",
              "      <th>0</th>\n",
              "      <td>0.0</td>\n",
              "      <td>0.0</td>\n",
              "      <td>0.0</td>\n",
              "      <td>0.0</td>\n",
              "      <td>0.0</td>\n",
              "      <td>0.0</td>\n",
              "      <td>0.0</td>\n",
              "      <td>0.0</td>\n",
              "      <td>0.0</td>\n",
              "      <td>0.0</td>\n",
              "      <td>...</td>\n",
              "      <td>0.0</td>\n",
              "      <td>0.0</td>\n",
              "      <td>0.0</td>\n",
              "      <td>0.0</td>\n",
              "      <td>0.0</td>\n",
              "      <td>0.0</td>\n",
              "      <td>0.0</td>\n",
              "      <td>0.0</td>\n",
              "      <td>0.0</td>\n",
              "      <td>5</td>\n",
              "    </tr>\n",
              "    <tr>\n",
              "      <th>1</th>\n",
              "      <td>0.0</td>\n",
              "      <td>0.0</td>\n",
              "      <td>0.0</td>\n",
              "      <td>0.0</td>\n",
              "      <td>0.0</td>\n",
              "      <td>0.0</td>\n",
              "      <td>0.0</td>\n",
              "      <td>0.0</td>\n",
              "      <td>0.0</td>\n",
              "      <td>0.0</td>\n",
              "      <td>...</td>\n",
              "      <td>0.0</td>\n",
              "      <td>0.0</td>\n",
              "      <td>0.0</td>\n",
              "      <td>0.0</td>\n",
              "      <td>0.0</td>\n",
              "      <td>0.0</td>\n",
              "      <td>0.0</td>\n",
              "      <td>0.0</td>\n",
              "      <td>0.0</td>\n",
              "      <td>0</td>\n",
              "    </tr>\n",
              "    <tr>\n",
              "      <th>2</th>\n",
              "      <td>0.0</td>\n",
              "      <td>0.0</td>\n",
              "      <td>0.0</td>\n",
              "      <td>0.0</td>\n",
              "      <td>0.0</td>\n",
              "      <td>0.0</td>\n",
              "      <td>0.0</td>\n",
              "      <td>0.0</td>\n",
              "      <td>0.0</td>\n",
              "      <td>0.0</td>\n",
              "      <td>...</td>\n",
              "      <td>0.0</td>\n",
              "      <td>0.0</td>\n",
              "      <td>0.0</td>\n",
              "      <td>0.0</td>\n",
              "      <td>0.0</td>\n",
              "      <td>0.0</td>\n",
              "      <td>0.0</td>\n",
              "      <td>0.0</td>\n",
              "      <td>0.0</td>\n",
              "      <td>4</td>\n",
              "    </tr>\n",
              "    <tr>\n",
              "      <th>3</th>\n",
              "      <td>0.0</td>\n",
              "      <td>0.0</td>\n",
              "      <td>0.0</td>\n",
              "      <td>0.0</td>\n",
              "      <td>0.0</td>\n",
              "      <td>0.0</td>\n",
              "      <td>0.0</td>\n",
              "      <td>0.0</td>\n",
              "      <td>0.0</td>\n",
              "      <td>0.0</td>\n",
              "      <td>...</td>\n",
              "      <td>0.0</td>\n",
              "      <td>0.0</td>\n",
              "      <td>0.0</td>\n",
              "      <td>0.0</td>\n",
              "      <td>0.0</td>\n",
              "      <td>0.0</td>\n",
              "      <td>0.0</td>\n",
              "      <td>0.0</td>\n",
              "      <td>0.0</td>\n",
              "      <td>1</td>\n",
              "    </tr>\n",
              "    <tr>\n",
              "      <th>4</th>\n",
              "      <td>0.0</td>\n",
              "      <td>0.0</td>\n",
              "      <td>0.0</td>\n",
              "      <td>0.0</td>\n",
              "      <td>0.0</td>\n",
              "      <td>0.0</td>\n",
              "      <td>0.0</td>\n",
              "      <td>0.0</td>\n",
              "      <td>0.0</td>\n",
              "      <td>0.0</td>\n",
              "      <td>...</td>\n",
              "      <td>0.0</td>\n",
              "      <td>0.0</td>\n",
              "      <td>0.0</td>\n",
              "      <td>0.0</td>\n",
              "      <td>0.0</td>\n",
              "      <td>0.0</td>\n",
              "      <td>0.0</td>\n",
              "      <td>0.0</td>\n",
              "      <td>0.0</td>\n",
              "      <td>9</td>\n",
              "    </tr>\n",
              "  </tbody>\n",
              "</table>\n",
              "<p>5 rows × 785 columns</p>\n",
              "</div>\n",
              "      <button class=\"colab-df-convert\" onclick=\"convertToInteractive('df-2f7fee4b-d4cd-4ace-8cda-85182665ebb9')\"\n",
              "              title=\"Convert this dataframe to an interactive table.\"\n",
              "              style=\"display:none;\">\n",
              "        \n",
              "  <svg xmlns=\"http://www.w3.org/2000/svg\" height=\"24px\"viewBox=\"0 0 24 24\"\n",
              "       width=\"24px\">\n",
              "    <path d=\"M0 0h24v24H0V0z\" fill=\"none\"/>\n",
              "    <path d=\"M18.56 5.44l.94 2.06.94-2.06 2.06-.94-2.06-.94-.94-2.06-.94 2.06-2.06.94zm-11 1L8.5 8.5l.94-2.06 2.06-.94-2.06-.94L8.5 2.5l-.94 2.06-2.06.94zm10 10l.94 2.06.94-2.06 2.06-.94-2.06-.94-.94-2.06-.94 2.06-2.06.94z\"/><path d=\"M17.41 7.96l-1.37-1.37c-.4-.4-.92-.59-1.43-.59-.52 0-1.04.2-1.43.59L10.3 9.45l-7.72 7.72c-.78.78-.78 2.05 0 2.83L4 21.41c.39.39.9.59 1.41.59.51 0 1.02-.2 1.41-.59l7.78-7.78 2.81-2.81c.8-.78.8-2.07 0-2.86zM5.41 20L4 18.59l7.72-7.72 1.47 1.35L5.41 20z\"/>\n",
              "  </svg>\n",
              "      </button>\n",
              "      \n",
              "  <style>\n",
              "    .colab-df-container {\n",
              "      display:flex;\n",
              "      flex-wrap:wrap;\n",
              "      gap: 12px;\n",
              "    }\n",
              "\n",
              "    .colab-df-convert {\n",
              "      background-color: #E8F0FE;\n",
              "      border: none;\n",
              "      border-radius: 50%;\n",
              "      cursor: pointer;\n",
              "      display: none;\n",
              "      fill: #1967D2;\n",
              "      height: 32px;\n",
              "      padding: 0 0 0 0;\n",
              "      width: 32px;\n",
              "    }\n",
              "\n",
              "    .colab-df-convert:hover {\n",
              "      background-color: #E2EBFA;\n",
              "      box-shadow: 0px 1px 2px rgba(60, 64, 67, 0.3), 0px 1px 3px 1px rgba(60, 64, 67, 0.15);\n",
              "      fill: #174EA6;\n",
              "    }\n",
              "\n",
              "    [theme=dark] .colab-df-convert {\n",
              "      background-color: #3B4455;\n",
              "      fill: #D2E3FC;\n",
              "    }\n",
              "\n",
              "    [theme=dark] .colab-df-convert:hover {\n",
              "      background-color: #434B5C;\n",
              "      box-shadow: 0px 1px 3px 1px rgba(0, 0, 0, 0.15);\n",
              "      filter: drop-shadow(0px 1px 2px rgba(0, 0, 0, 0.3));\n",
              "      fill: #FFFFFF;\n",
              "    }\n",
              "  </style>\n",
              "\n",
              "      <script>\n",
              "        const buttonEl =\n",
              "          document.querySelector('#df-2f7fee4b-d4cd-4ace-8cda-85182665ebb9 button.colab-df-convert');\n",
              "        buttonEl.style.display =\n",
              "          google.colab.kernel.accessAllowed ? 'block' : 'none';\n",
              "\n",
              "        async function convertToInteractive(key) {\n",
              "          const element = document.querySelector('#df-2f7fee4b-d4cd-4ace-8cda-85182665ebb9');\n",
              "          const dataTable =\n",
              "            await google.colab.kernel.invokeFunction('convertToInteractive',\n",
              "                                                     [key], {});\n",
              "          if (!dataTable) return;\n",
              "\n",
              "          const docLinkHtml = 'Like what you see? Visit the ' +\n",
              "            '<a target=\"_blank\" href=https://colab.research.google.com/notebooks/data_table.ipynb>data table notebook</a>'\n",
              "            + ' to learn more about interactive tables.';\n",
              "          element.innerHTML = '';\n",
              "          dataTable['output_type'] = 'display_data';\n",
              "          await google.colab.output.renderOutput(dataTable, element);\n",
              "          const docLink = document.createElement('div');\n",
              "          docLink.innerHTML = docLinkHtml;\n",
              "          element.appendChild(docLink);\n",
              "        }\n",
              "      </script>\n",
              "    </div>\n",
              "  </div>\n",
              "  "
            ]
          },
          "metadata": {},
          "execution_count": 3
        }
      ],
      "source": [
        "MNIST_data.head()"
      ]
    },
    {
      "cell_type": "markdown",
      "metadata": {
        "id": "4pAZM5jbNsFD"
      },
      "source": [
        "## **Splitting the Dataset**"
      ]
    },
    {
      "cell_type": "code",
      "execution_count": 4,
      "metadata": {
        "id": "N05zvKsQOMSD"
      },
      "outputs": [],
      "source": [
        "X = MNIST_data.iloc[:, 0:784]\n",
        "y = MNIST_data['class']\n",
        "\n",
        "X_train, X_test, y_train_sample, y_test_sample = train_test_split(X, y, test_size = 0.2, random_state = 0)\n",
        "\n",
        "#Resetting Index\n",
        "X_train, X_test = X_train.reset_index(drop = True), X_test.reset_index(drop = True)\n",
        "y_train_sample, y_test_sample = y_train_sample.reset_index(drop = True), y_test_sample.reset_index(drop = True)\n",
        "\n",
        "\n",
        "X_train = X_train / 255.0\n",
        "X_test = X_test / 255.0\n",
        "\n",
        "y_train = keras.utils.to_categorical(y_train_sample, 10)\n",
        "y_test = keras.utils.to_categorical(y_test_sample, 10)"
      ]
    },
    {
      "cell_type": "code",
      "execution_count": 5,
      "metadata": {
        "colab": {
          "base_uri": "https://localhost:8080/"
        },
        "id": "7ONhI2J1Q34H",
        "outputId": "b4052a43-a38c-46b7-9ff7-38d361522044"
      },
      "outputs": [
        {
          "output_type": "stream",
          "name": "stdout",
          "text": [
            "The number of rows in training set is 56000\n",
            "The number of rows in test set is 14000\n"
          ]
        }
      ],
      "source": [
        "print (f\"The number of rows in training set is {X_train.shape[0]}\")\n",
        "print (f\"The number of rows in test set is {X_test.shape[0]}\")"
      ]
    },
    {
      "cell_type": "markdown",
      "source": [
        "## **Visualizing the target category**"
      ],
      "metadata": {
        "id": "bHxh-VOusIlz"
      }
    },
    {
      "cell_type": "code",
      "source": [
        "num_classes = 10 \n",
        "\n",
        "for j in range(0,3):\n",
        "  fig, axes = plt.subplots(1, num_classes, figsize = (30,20), sharey = True)\n",
        "  index = np.random.randint(0, 1000) ## Creating a random index between 0 and 1000\n",
        "  for i in range(0, num_classes):\n",
        "    sample = X_train[y_train_sample == str(i)].iloc[index].values.reshape(28,28)#Reshaping the rows int0 28 x 28 matrix, to see what the images look like\n",
        "    axes[i].imshow(sample, cmap = 'gray')\n",
        "    axes[i].set_title(f\"Label: {i}\", fontsize = 14)"
      ],
      "metadata": {
        "colab": {
          "base_uri": "https://localhost:8080/",
          "height": 432
        },
        "id": "umfe3vMerekn",
        "outputId": "9203bdce-344a-48e4-e581-51544657dcd1"
      },
      "execution_count": 6,
      "outputs": [
        {
          "output_type": "display_data",
          "data": {
            "text/plain": [
              "<Figure size 2160x1440 with 10 Axes>"
            ],
            "image/png": "[encoded data removed]"
          },
          "metadata": {
            "needs_background": "light"
          }
        },
        {
          "output_type": "display_data",
          "data": {
            "text/plain": [
              "<Figure size 2160x1440 with 10 Axes>"
            ],
            "image/png": "[encoded data removed]"
          },
          "metadata": {
            "needs_background": "light"
          }
        },
        {
          "output_type": "display_data",
          "data": {
            "text/plain": [
              "<Figure size 2160x1440 with 10 Axes>"
            ],
            "image/png": "[encoded data removed]"
          },
          "metadata": {
            "needs_background": "light"
          }
        }
      ]
    },
    {
      "cell_type": "markdown",
      "source": [
        "## **Artificial Neural Network**"
      ],
      "metadata": {
        "id": "zqvICfsj-iVQ"
      }
    },
    {
      "cell_type": "code",
      "source": [
        "model = Sequential()\n",
        "\n",
        "model.add(Dense(128, input_shape = (784, ), activation = \"relu\"))\n",
        "model.add(Dropout(0.2))\n",
        "model.add(Dense(128, activation = \"relu\"))\n",
        "model.add(Dropout(0.2))\n",
        "model.add(Dense(10, activation = \"softmax\"))"
      ],
      "metadata": {
        "id": "4Wx8TgUC-nk4"
      },
      "execution_count": 7,
      "outputs": []
    },
    {
      "cell_type": "code",
      "source": [
        "model.summary()"
      ],
      "metadata": {
        "colab": {
          "base_uri": "https://localhost:8080/"
        },
        "id": "htRoVIqs-nsJ",
        "outputId": "689459ce-f0bc-42e7-d7e9-f332d5b12f35"
      },
      "execution_count": 8,
      "outputs": [
        {
          "output_type": "stream",
          "name": "stdout",
          "text": [
            "Model: \"sequential\"\n",
            "_________________________________________________________________\n",
            " Layer (type)                Output Shape              Param #   \n",
            "=================================================================\n",
            " dense (Dense)               (None, 128)               100480    \n",
            "                                                                 \n",
            " dropout (Dropout)           (None, 128)               0         \n",
            "                                                                 \n",
            " dense_1 (Dense)             (None, 128)               16512     \n",
            "                                                                 \n",
            " dropout_1 (Dropout)         (None, 128)               0         \n",
            "                                                                 \n",
            " dense_2 (Dense)             (None, 10)                1290      \n",
            "                                                                 \n",
            "=================================================================\n",
            "Total params: 118,282\n",
            "Trainable params: 118,282\n",
            "Non-trainable params: 0\n",
            "_________________________________________________________________\n"
          ]
        }
      ]
    },
    {
      "cell_type": "code",
      "source": [
        "model.compile(\n",
        "              adam_v2.Adam(learning_rate = 0.001), \n",
        "              loss = \"categorical_crossentropy\", \n",
        "              metrics = [\"accuracy\"]\n",
        "              )"
      ],
      "metadata": {
        "id": "mZwuaMgtAURx"
      },
      "execution_count": 9,
      "outputs": []
    },
    {
      "cell_type": "code",
      "source": [
        "model.fit(\n",
        "    x= X_train,\n",
        "    y= y_train,\n",
        "    batch_size= 900,\n",
        "    epochs= 50,\n",
        "    verbose= 2,\n",
        "    validation_split=0.2,\n",
        "    shuffle = True\n",
        ")"
      ],
      "metadata": {
        "colab": {
          "base_uri": "https://localhost:8080/"
        },
        "id": "H8Q3sPIkAUbD",
        "outputId": "c34e2b83-6cf6-4978-c423-672632cb1c4e"
      },
      "execution_count": 10,
      "outputs": [
        {
          "output_type": "stream",
          "name": "stdout",
          "text": [
            "Epoch 1/50\n",
            "50/50 - 1s - loss: 0.9919 - accuracy: 0.7048 - val_loss: 0.3555 - val_accuracy: 0.8979 - 1s/epoch - 29ms/step\n",
            "Epoch 2/50\n",
            "50/50 - 0s - loss: 0.3522 - accuracy: 0.8954 - val_loss: 0.2522 - val_accuracy: 0.9268 - 324ms/epoch - 6ms/step\n",
            "Epoch 3/50\n",
            "50/50 - 0s - loss: 0.2643 - accuracy: 0.9224 - val_loss: 0.2024 - val_accuracy: 0.9412 - 344ms/epoch - 7ms/step\n",
            "Epoch 4/50\n",
            "50/50 - 0s - loss: 0.2200 - accuracy: 0.9348 - val_loss: 0.1773 - val_accuracy: 0.9487 - 319ms/epoch - 6ms/step\n",
            "Epoch 5/50\n",
            "50/50 - 0s - loss: 0.1890 - accuracy: 0.9437 - val_loss: 0.1579 - val_accuracy: 0.9529 - 338ms/epoch - 7ms/step\n",
            "Epoch 6/50\n",
            "50/50 - 0s - loss: 0.1678 - accuracy: 0.9500 - val_loss: 0.1436 - val_accuracy: 0.9574 - 355ms/epoch - 7ms/step\n",
            "Epoch 7/50\n",
            "50/50 - 0s - loss: 0.1483 - accuracy: 0.9555 - val_loss: 0.1294 - val_accuracy: 0.9625 - 320ms/epoch - 6ms/step\n",
            "Epoch 8/50\n",
            "50/50 - 0s - loss: 0.1323 - accuracy: 0.9600 - val_loss: 0.1229 - val_accuracy: 0.9649 - 308ms/epoch - 6ms/step\n",
            "Epoch 9/50\n",
            "50/50 - 0s - loss: 0.1238 - accuracy: 0.9623 - val_loss: 0.1161 - val_accuracy: 0.9663 - 330ms/epoch - 7ms/step\n",
            "Epoch 10/50\n",
            "50/50 - 0s - loss: 0.1128 - accuracy: 0.9657 - val_loss: 0.1118 - val_accuracy: 0.9662 - 340ms/epoch - 7ms/step\n",
            "Epoch 11/50\n",
            "50/50 - 0s - loss: 0.1057 - accuracy: 0.9676 - val_loss: 0.1056 - val_accuracy: 0.9687 - 316ms/epoch - 6ms/step\n",
            "Epoch 12/50\n",
            "50/50 - 0s - loss: 0.0962 - accuracy: 0.9712 - val_loss: 0.1016 - val_accuracy: 0.9709 - 319ms/epoch - 6ms/step\n",
            "Epoch 13/50\n",
            "50/50 - 0s - loss: 0.0920 - accuracy: 0.9720 - val_loss: 0.0985 - val_accuracy: 0.9710 - 336ms/epoch - 7ms/step\n",
            "Epoch 14/50\n",
            "50/50 - 0s - loss: 0.0874 - accuracy: 0.9735 - val_loss: 0.0943 - val_accuracy: 0.9712 - 334ms/epoch - 7ms/step\n",
            "Epoch 15/50\n",
            "50/50 - 0s - loss: 0.0801 - accuracy: 0.9745 - val_loss: 0.0945 - val_accuracy: 0.9720 - 336ms/epoch - 7ms/step\n",
            "Epoch 16/50\n",
            "50/50 - 0s - loss: 0.0737 - accuracy: 0.9765 - val_loss: 0.0916 - val_accuracy: 0.9722 - 324ms/epoch - 6ms/step\n",
            "Epoch 17/50\n",
            "50/50 - 0s - loss: 0.0716 - accuracy: 0.9777 - val_loss: 0.0886 - val_accuracy: 0.9737 - 325ms/epoch - 6ms/step\n",
            "Epoch 18/50\n",
            "50/50 - 0s - loss: 0.0646 - accuracy: 0.9799 - val_loss: 0.0888 - val_accuracy: 0.9746 - 330ms/epoch - 7ms/step\n",
            "Epoch 19/50\n",
            "50/50 - 0s - loss: 0.0628 - accuracy: 0.9803 - val_loss: 0.0866 - val_accuracy: 0.9753 - 324ms/epoch - 6ms/step\n",
            "Epoch 20/50\n",
            "50/50 - 0s - loss: 0.0617 - accuracy: 0.9796 - val_loss: 0.0848 - val_accuracy: 0.9741 - 338ms/epoch - 7ms/step\n",
            "Epoch 21/50\n",
            "50/50 - 0s - loss: 0.0552 - accuracy: 0.9831 - val_loss: 0.0851 - val_accuracy: 0.9737 - 340ms/epoch - 7ms/step\n",
            "Epoch 22/50\n",
            "50/50 - 0s - loss: 0.0535 - accuracy: 0.9825 - val_loss: 0.0864 - val_accuracy: 0.9759 - 328ms/epoch - 7ms/step\n",
            "Epoch 23/50\n",
            "50/50 - 0s - loss: 0.0534 - accuracy: 0.9832 - val_loss: 0.0832 - val_accuracy: 0.9758 - 330ms/epoch - 7ms/step\n",
            "Epoch 24/50\n",
            "50/50 - 0s - loss: 0.0487 - accuracy: 0.9846 - val_loss: 0.0849 - val_accuracy: 0.9761 - 326ms/epoch - 7ms/step\n",
            "Epoch 25/50\n",
            "50/50 - 0s - loss: 0.0463 - accuracy: 0.9850 - val_loss: 0.0834 - val_accuracy: 0.9760 - 313ms/epoch - 6ms/step\n",
            "Epoch 26/50\n",
            "50/50 - 0s - loss: 0.0441 - accuracy: 0.9859 - val_loss: 0.0855 - val_accuracy: 0.9766 - 329ms/epoch - 7ms/step\n",
            "Epoch 27/50\n",
            "50/50 - 0s - loss: 0.0433 - accuracy: 0.9860 - val_loss: 0.0830 - val_accuracy: 0.9769 - 334ms/epoch - 7ms/step\n",
            "Epoch 28/50\n",
            "50/50 - 0s - loss: 0.0410 - accuracy: 0.9867 - val_loss: 0.0868 - val_accuracy: 0.9756 - 330ms/epoch - 7ms/step\n",
            "Epoch 29/50\n",
            "50/50 - 0s - loss: 0.0394 - accuracy: 0.9878 - val_loss: 0.0840 - val_accuracy: 0.9770 - 323ms/epoch - 6ms/step\n",
            "Epoch 30/50\n",
            "50/50 - 0s - loss: 0.0378 - accuracy: 0.9883 - val_loss: 0.0823 - val_accuracy: 0.9777 - 326ms/epoch - 7ms/step\n",
            "Epoch 31/50\n",
            "50/50 - 0s - loss: 0.0374 - accuracy: 0.9883 - val_loss: 0.0835 - val_accuracy: 0.9766 - 326ms/epoch - 7ms/step\n",
            "Epoch 32/50\n",
            "50/50 - 0s - loss: 0.0353 - accuracy: 0.9887 - val_loss: 0.0844 - val_accuracy: 0.9776 - 323ms/epoch - 6ms/step\n",
            "Epoch 33/50\n",
            "50/50 - 0s - loss: 0.0333 - accuracy: 0.9893 - val_loss: 0.0804 - val_accuracy: 0.9783 - 329ms/epoch - 7ms/step\n",
            "Epoch 34/50\n",
            "50/50 - 0s - loss: 0.0332 - accuracy: 0.9897 - val_loss: 0.0833 - val_accuracy: 0.9766 - 315ms/epoch - 6ms/step\n",
            "Epoch 35/50\n",
            "50/50 - 0s - loss: 0.0334 - accuracy: 0.9885 - val_loss: 0.0856 - val_accuracy: 0.9770 - 324ms/epoch - 6ms/step\n",
            "Epoch 36/50\n",
            "50/50 - 0s - loss: 0.0299 - accuracy: 0.9902 - val_loss: 0.0842 - val_accuracy: 0.9773 - 328ms/epoch - 7ms/step\n",
            "Epoch 37/50\n",
            "50/50 - 0s - loss: 0.0301 - accuracy: 0.9904 - val_loss: 0.0869 - val_accuracy: 0.9763 - 320ms/epoch - 6ms/step\n",
            "Epoch 38/50\n",
            "50/50 - 0s - loss: 0.0287 - accuracy: 0.9907 - val_loss: 0.0848 - val_accuracy: 0.9778 - 317ms/epoch - 6ms/step\n",
            "Epoch 39/50\n",
            "50/50 - 0s - loss: 0.0272 - accuracy: 0.9911 - val_loss: 0.0854 - val_accuracy: 0.9778 - 333ms/epoch - 7ms/step\n",
            "Epoch 40/50\n",
            "50/50 - 0s - loss: 0.0253 - accuracy: 0.9921 - val_loss: 0.0855 - val_accuracy: 0.9779 - 319ms/epoch - 6ms/step\n",
            "Epoch 41/50\n",
            "50/50 - 0s - loss: 0.0268 - accuracy: 0.9908 - val_loss: 0.0848 - val_accuracy: 0.9781 - 327ms/epoch - 7ms/step\n",
            "Epoch 42/50\n",
            "50/50 - 0s - loss: 0.0249 - accuracy: 0.9915 - val_loss: 0.0867 - val_accuracy: 0.9780 - 335ms/epoch - 7ms/step\n",
            "Epoch 43/50\n",
            "50/50 - 0s - loss: 0.0245 - accuracy: 0.9924 - val_loss: 0.0839 - val_accuracy: 0.9776 - 326ms/epoch - 7ms/step\n",
            "Epoch 44/50\n",
            "50/50 - 0s - loss: 0.0228 - accuracy: 0.9924 - val_loss: 0.0880 - val_accuracy: 0.9785 - 319ms/epoch - 6ms/step\n",
            "Epoch 45/50\n",
            "50/50 - 0s - loss: 0.0230 - accuracy: 0.9926 - val_loss: 0.0840 - val_accuracy: 0.9783 - 328ms/epoch - 7ms/step\n",
            "Epoch 46/50\n",
            "50/50 - 0s - loss: 0.0226 - accuracy: 0.9931 - val_loss: 0.0899 - val_accuracy: 0.9775 - 319ms/epoch - 6ms/step\n",
            "Epoch 47/50\n",
            "50/50 - 0s - loss: 0.0232 - accuracy: 0.9921 - val_loss: 0.0902 - val_accuracy: 0.9772 - 329ms/epoch - 7ms/step\n",
            "Epoch 48/50\n",
            "50/50 - 0s - loss: 0.0227 - accuracy: 0.9928 - val_loss: 0.0866 - val_accuracy: 0.9785 - 318ms/epoch - 6ms/step\n",
            "Epoch 49/50\n",
            "50/50 - 0s - loss: 0.0221 - accuracy: 0.9926 - val_loss: 0.0871 - val_accuracy: 0.9775 - 340ms/epoch - 7ms/step\n",
            "Epoch 50/50\n",
            "50/50 - 0s - loss: 0.0224 - accuracy: 0.9926 - val_loss: 0.0901 - val_accuracy: 0.9780 - 324ms/epoch - 6ms/step\n"
          ]
        },
        {
          "output_type": "execute_result",
          "data": {
            "text/plain": [
              "<keras.callbacks.History at 0x7f7a8f466d50>"
            ]
          },
          "metadata": {},
          "execution_count": 10
        }
      ]
    },
    {
      "cell_type": "code",
      "source": [
        "test_loss, test_accuracy = model.evaluate(X_test, y_test)\n",
        "print(f\"Test Loss : {test_loss}, Test Accuracy : {test_accuracy}\")"
      ],
      "metadata": {
        "colab": {
          "base_uri": "https://localhost:8080/"
        },
        "id": "xsdsnC0XPoY6",
        "outputId": "d282092c-7a85-45f2-f6c8-0e8e3a421996"
      },
      "execution_count": 11,
      "outputs": [
        {
          "output_type": "stream",
          "name": "stdout",
          "text": [
            "438/438 [==============================] - 1s 3ms/step - loss: 0.0960 - accuracy: 0.9761\n",
            "Test Loss : 0.09601479023694992, Test Accuracy : 0.9760714173316956\n"
          ]
        }
      ]
    },
    {
      "cell_type": "code",
      "source": [
        "y_pred = model.predict(X_test)\n",
        "y_pred_classes = np.argmax(y_pred, axis = 1).astype(str)"
      ],
      "metadata": {
        "id": "GrVO6qNtPorq"
      },
      "execution_count": 12,
      "outputs": []
    },
    {
      "cell_type": "code",
      "source": [
        "accuracy_score(y_test_sample, y_pred_classes.astype(str))"
      ],
      "metadata": {
        "colab": {
          "base_uri": "https://localhost:8080/"
        },
        "id": "Nnh9rFknPpES",
        "outputId": "659c7177-69f6-44e0-837c-00a3394629c4"
      },
      "execution_count": 13,
      "outputs": [
        {
          "output_type": "execute_result",
          "data": {
            "text/plain": [
              "0.9760714285714286"
            ]
          },
          "metadata": {},
          "execution_count": 13
        }
      ]
    },
    {
      "cell_type": "code",
      "source": [
        "labels = [f\"{x}\" for x in range(10)]\n",
        "cm = confusion_matrix(y_test_sample, y_pred_classes, labels=labels)\n",
        "disp = ConfusionMatrixDisplay(confusion_matrix=cm, display_labels=labels)\n",
        "fig, ax = plt.subplots(figsize=(15,7))\n",
        "disp.plot(ax=ax)\n",
        "plt.title(\"Confusion Matrix\", fontsize = 15)\n",
        "plt.show()"
      ],
      "metadata": {
        "colab": {
          "base_uri": "https://localhost:8080/",
          "height": 460
        },
        "id": "Gk5cZj3BTDQ6",
        "outputId": "d4506193-5003-4fe9-8bae-525fa40f8ce4"
      },
      "execution_count": 14,
      "outputs": [
        {
          "output_type": "display_data",
          "data": {
            "text/plain": [
              "<Figure size 1080x504 with 2 Axes>"
            ],
            "image/png": "[encoded data removed]"
          },
          "metadata": {
            "needs_background": "light"
          }
        }
      ]
    },
    {
      "cell_type": "markdown",
      "source": [
        "## **Error Analysis**"
      ],
      "metadata": {
        "id": "RvJ3aFK6W0KS"
      }
    },
    {
      "cell_type": "code",
      "source": [
        "y_misclassified = []\n",
        "for i in range(len(y_test_sample)):\n",
        "  if y_pred_classes[i] != y_test_sample[i]:\n",
        "    y_misclassified.append(i)\n",
        "\n",
        "fig, axes = plt.subplots(1, 10, figsize = (30,20), sharey = True)\n",
        "\n",
        "for i, index in enumerate(y_misclassified[:10]):\n",
        "  sample = X_test.iloc[index].values.reshape(28,28)#Reshaping the rows int0 28 x 28 matrix, to see what the images look like\n",
        "  axes[i].imshow(sample, cmap = 'gray')\n",
        "  axes[i].set_title(f\"Prediction:{y_pred_classes[index]}, Label: {y_test_sample[index]}\", fontsize = 14)"
      ],
      "metadata": {
        "colab": {
          "base_uri": "https://localhost:8080/",
          "height": 155
        },
        "id": "KPAYsXwhW36S",
        "outputId": "d7c5ff7d-ba98-4dac-b48e-fa83d0d5cda0"
      },
      "execution_count": 15,
      "outputs": [
        {
          "output_type": "display_data",
          "data": {
            "text/plain": [
              "<Figure size 2160x1440 with 10 Axes>"
            ],
            "image/png": "[encoded data removed]"
          },
          "metadata": {
            "needs_background": "light"
          }
        }
      ]
    }
  ],
  "metadata": {
    "accelerator": "GPU",
    "colab": {
      "collapsed_sections": [
        "2boH1i8OLwHM",
        "YLMGVeh5NVVG"
      ],
      "name": "MNIST_Digit_Classification(ANN).ipynb",
      "provenance": []
    },
    "kernelspec": {
      "display_name": "Python 3",
      "name": "python3"
    },
    "language_info": {
      "name": "python"
    }
  },
  "nbformat": 4,
  "nbformat_minor": 0
}
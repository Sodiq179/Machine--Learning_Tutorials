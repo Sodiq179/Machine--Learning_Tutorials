{
 "cells": [
  {
   "cell_type": "markdown",
   "metadata": {
    "id": "dcptjjI_67NB"
   },
   "source": [
    "\n",
    "# **GOOD-HEALTH-AND-WELL-BEING**"
   ]
  },
  {
   "cell_type": "markdown",
   "metadata": {
    "id": "6z1pjpcHIvDs"
   },
   "source": [
    "### ***Setting Up***"
   ]
  },
  {
   "cell_type": "markdown",
   "metadata": {
    "id": "Dy112ymw7Whe"
   },
   "source": [
    "### Importing Libaries"
   ]
  },
  {
   "cell_type": "code",
   "execution_count": 2,
   "metadata": {
    "id": "y9GPJ3sw4ntm"
   },
   "outputs": [],
   "source": [
    "import numpy as np\n",
    "import pandas as pd\n",
    "import matplotlib.pyplot as plt\n",
    "import random\n",
    "\n",
    "from sklearn.linear_model import LogisticRegression\n",
    "from sklearn.tree import DecisionTreeClassifier\n",
    "from sklearn.ensemble import RandomForestClassifier, GradientBoostingClassifier,AdaBoostClassifier\n",
    "from sklearn.neighbors import KNeighborsClassifier\n",
    "from xgboost import XGBClassifier\n",
    "from lightgbm import LGBMClassifier\n",
    "\n",
    "from sklearn.model_selection import train_test_split, StratifiedKFold, StratifiedShuffleSplit\n",
    "from sklearn.metrics import classification_report, confusion_matrix, f1_score, roc_auc_score\n",
    "from sklearn.cluster import KMeans\n",
    "\n",
    "from imblearn.over_sampling import SMOTE\n",
    "\n",
    "from sklearn.preprocessing import PolynomialFeatures\n",
    "\n",
    "import warnings\n",
    "warnings.filterwarnings('ignore')"
   ]
  },
  {
   "cell_type": "markdown",
   "metadata": {
    "id": "pFKybZQZ8SCP"
   },
   "source": [
    "### **Dataset Preprocessing**"
   ]
  },
  {
   "cell_type": "code",
   "execution_count": 3,
   "metadata": {
    "id": "CSh0RabfFAS2"
   },
   "outputs": [],
   "source": [
    "def seed_everything(seed):\n",
    "    random.seed(seed)\n",
    "    np.random.seed(seed)\n",
    "SEED = 2022   \n",
    "seed_everything(SEED) "
   ]
  },
  {
   "cell_type": "code",
   "execution_count": 4,
   "metadata": {
    "id": "VzEtuJlU8KvC"
   },
   "outputs": [],
   "source": [
    "train_df = pd.read_csv('Ml-Olympiad/train.csv')\n",
    "test_df = pd.read_csv('Ml-Olympiad/test.csv')\n",
    "sample_submission = pd.read_csv('Ml-Olympiad/sample_submission.csv')"
   ]
  },
  {
   "cell_type": "code",
   "execution_count": 5,
   "metadata": {
    "colab": {
     "base_uri": "https://localhost:8080/",
     "height": 0
    },
    "id": "kgEefiNS_WE6",
    "outputId": "fde5b6ad-3160-4ae6-94ec-c291d6f53e86"
   },
   "outputs": [
    {
     "data": {
      "text/html": [
       "\n",
       "  <div id=\"df-fd96352d-7f65-4b08-a2be-37301fad9454\">\n",
       "    <div class=\"colab-df-container\">\n",
       "      <div>\n",
       "<style scoped>\n",
       "    .dataframe tbody tr th:only-of-type {\n",
       "        vertical-align: middle;\n",
       "    }\n",
       "\n",
       "    .dataframe tbody tr th {\n",
       "        vertical-align: top;\n",
       "    }\n",
       "\n",
       "    .dataframe thead th {\n",
       "        text-align: right;\n",
       "    }\n",
       "</style>\n",
       "<table border=\"1\" class=\"dataframe\">\n",
       "  <thead>\n",
       "    <tr style=\"text-align: right;\">\n",
       "      <th></th>\n",
       "      <th>PatientID</th>\n",
       "      <th>HighBP</th>\n",
       "      <th>HighChol</th>\n",
       "      <th>CholCheck</th>\n",
       "      <th>BMI</th>\n",
       "      <th>Smoker</th>\n",
       "      <th>Stroke</th>\n",
       "      <th>Diabetes</th>\n",
       "      <th>PhysActivity</th>\n",
       "      <th>Fruits</th>\n",
       "      <th>Veggies</th>\n",
       "      <th>HvyAlcoholConsump</th>\n",
       "      <th>AnyHealthcare</th>\n",
       "      <th>NoDocbcCost</th>\n",
       "      <th>GenHlth</th>\n",
       "      <th>MentHlth</th>\n",
       "      <th>PhysHlth</th>\n",
       "      <th>DiffWalk</th>\n",
       "      <th>Sex</th>\n",
       "      <th>Age</th>\n",
       "      <th>Education</th>\n",
       "      <th>Income</th>\n",
       "      <th>target</th>\n",
       "    </tr>\n",
       "  </thead>\n",
       "  <tbody>\n",
       "    <tr>\n",
       "      <th>0</th>\n",
       "      <td>42351</td>\n",
       "      <td>1</td>\n",
       "      <td>1</td>\n",
       "      <td>1</td>\n",
       "      <td>29</td>\n",
       "      <td>0</td>\n",
       "      <td>0</td>\n",
       "      <td>0</td>\n",
       "      <td>1</td>\n",
       "      <td>1</td>\n",
       "      <td>1</td>\n",
       "      <td>0</td>\n",
       "      <td>1</td>\n",
       "      <td>0</td>\n",
       "      <td>3</td>\n",
       "      <td>0</td>\n",
       "      <td>0</td>\n",
       "      <td>0</td>\n",
       "      <td>0</td>\n",
       "      <td>13</td>\n",
       "      <td>5</td>\n",
       "      <td>8</td>\n",
       "      <td>0</td>\n",
       "    </tr>\n",
       "    <tr>\n",
       "      <th>1</th>\n",
       "      <td>135091</td>\n",
       "      <td>1</td>\n",
       "      <td>0</td>\n",
       "      <td>1</td>\n",
       "      <td>30</td>\n",
       "      <td>0</td>\n",
       "      <td>1</td>\n",
       "      <td>2</td>\n",
       "      <td>0</td>\n",
       "      <td>0</td>\n",
       "      <td>0</td>\n",
       "      <td>0</td>\n",
       "      <td>0</td>\n",
       "      <td>0</td>\n",
       "      <td>2</td>\n",
       "      <td>0</td>\n",
       "      <td>0</td>\n",
       "      <td>0</td>\n",
       "      <td>0</td>\n",
       "      <td>9</td>\n",
       "      <td>5</td>\n",
       "      <td>6</td>\n",
       "      <td>0</td>\n",
       "    </tr>\n",
       "    <tr>\n",
       "      <th>2</th>\n",
       "      <td>201403</td>\n",
       "      <td>0</td>\n",
       "      <td>0</td>\n",
       "      <td>1</td>\n",
       "      <td>31</td>\n",
       "      <td>0</td>\n",
       "      <td>0</td>\n",
       "      <td>0</td>\n",
       "      <td>1</td>\n",
       "      <td>1</td>\n",
       "      <td>1</td>\n",
       "      <td>0</td>\n",
       "      <td>1</td>\n",
       "      <td>0</td>\n",
       "      <td>2</td>\n",
       "      <td>0</td>\n",
       "      <td>7</td>\n",
       "      <td>0</td>\n",
       "      <td>0</td>\n",
       "      <td>10</td>\n",
       "      <td>6</td>\n",
       "      <td>8</td>\n",
       "      <td>0</td>\n",
       "    </tr>\n",
       "  </tbody>\n",
       "</table>\n",
       "</div>\n",
       "      <button class=\"colab-df-convert\" onclick=\"convertToInteractive('df-fd96352d-7f65-4b08-a2be-37301fad9454')\"\n",
       "              title=\"Convert this dataframe to an interactive table.\"\n",
       "              style=\"display:none;\">\n",
       "        \n",
       "  <svg xmlns=\"http://www.w3.org/2000/svg\" height=\"24px\"viewBox=\"0 0 24 24\"\n",
       "       width=\"24px\">\n",
       "    <path d=\"M0 0h24v24H0V0z\" fill=\"none\"/>\n",
       "    <path d=\"M18.56 5.44l.94 2.06.94-2.06 2.06-.94-2.06-.94-.94-2.06-.94 2.06-2.06.94zm-11 1L8.5 8.5l.94-2.06 2.06-.94-2.06-.94L8.5 2.5l-.94 2.06-2.06.94zm10 10l.94 2.06.94-2.06 2.06-.94-2.06-.94-.94-2.06-.94 2.06-2.06.94z\"/><path d=\"M17.41 7.96l-1.37-1.37c-.4-.4-.92-.59-1.43-.59-.52 0-1.04.2-1.43.59L10.3 9.45l-7.72 7.72c-.78.78-.78 2.05 0 2.83L4 21.41c.39.39.9.59 1.41.59.51 0 1.02-.2 1.41-.59l7.78-7.78 2.81-2.81c.8-.78.8-2.07 0-2.86zM5.41 20L4 18.59l7.72-7.72 1.47 1.35L5.41 20z\"/>\n",
       "  </svg>\n",
       "      </button>\n",
       "      \n",
       "  <style>\n",
       "    .colab-df-container {\n",
       "      display:flex;\n",
       "      flex-wrap:wrap;\n",
       "      gap: 12px;\n",
       "    }\n",
       "\n",
       "    .colab-df-convert {\n",
       "      background-color: #E8F0FE;\n",
       "      border: none;\n",
       "      border-radius: 50%;\n",
       "      cursor: pointer;\n",
       "      display: none;\n",
       "      fill: #1967D2;\n",
       "      height: 32px;\n",
       "      padding: 0 0 0 0;\n",
       "      width: 32px;\n",
       "    }\n",
       "\n",
       "    .colab-df-convert:hover {\n",
       "      background-color: #E2EBFA;\n",
       "      box-shadow: 0px 1px 2px rgba(60, 64, 67, 0.3), 0px 1px 3px 1px rgba(60, 64, 67, 0.15);\n",
       "      fill: #174EA6;\n",
       "    }\n",
       "\n",
       "    [theme=dark] .colab-df-convert {\n",
       "      background-color: #3B4455;\n",
       "      fill: #D2E3FC;\n",
       "    }\n",
       "\n",
       "    [theme=dark] .colab-df-convert:hover {\n",
       "      background-color: #434B5C;\n",
       "      box-shadow: 0px 1px 3px 1px rgba(0, 0, 0, 0.15);\n",
       "      filter: drop-shadow(0px 1px 2px rgba(0, 0, 0, 0.3));\n",
       "      fill: #FFFFFF;\n",
       "    }\n",
       "  </style>\n",
       "\n",
       "      <script>\n",
       "        const buttonEl =\n",
       "          document.querySelector('#df-fd96352d-7f65-4b08-a2be-37301fad9454 button.colab-df-convert');\n",
       "        buttonEl.style.display =\n",
       "          google.colab.kernel.accessAllowed ? 'block' : 'none';\n",
       "\n",
       "        async function convertToInteractive(key) {\n",
       "          const element = document.querySelector('#df-fd96352d-7f65-4b08-a2be-37301fad9454');\n",
       "          const dataTable =\n",
       "            await google.colab.kernel.invokeFunction('convertToInteractive',\n",
       "                                                     [key], {});\n",
       "          if (!dataTable) return;\n",
       "\n",
       "          const docLinkHtml = 'Like what you see? Visit the ' +\n",
       "            '<a target=\"_blank\" href=https://colab.research.google.com/notebooks/data_table.ipynb>data table notebook</a>'\n",
       "            + ' to learn more about interactive tables.';\n",
       "          element.innerHTML = '';\n",
       "          dataTable['output_type'] = 'display_data';\n",
       "          await google.colab.output.renderOutput(dataTable, element);\n",
       "          const docLink = document.createElement('div');\n",
       "          docLink.innerHTML = docLinkHtml;\n",
       "          element.appendChild(docLink);\n",
       "        }\n",
       "      </script>\n",
       "    </div>\n",
       "  </div>\n",
       "  "
      ],
      "text/plain": [
       "   PatientID  HighBP  HighChol  CholCheck  ...  Age  Education  Income  target\n",
       "0      42351       1         1          1  ...   13          5       8       0\n",
       "1     135091       1         0          1  ...    9          5       6       0\n",
       "2     201403       0         0          1  ...   10          6       8       0\n",
       "\n",
       "[3 rows x 23 columns]"
      ]
     },
     "execution_count": 5,
     "metadata": {},
     "output_type": "execute_result"
    }
   ],
   "source": [
    "train_df.head(3)"
   ]
  },
  {
   "cell_type": "code",
   "execution_count": 6,
   "metadata": {
    "id": "ZLgmpTpI_k9p"
   },
   "outputs": [],
   "source": [
    "X_df = train_df.drop(['PatientID','target'], axis = 1)\n",
    "y = train_df['target']\n",
    "\n",
    "test_df = test_df.drop('PatientID', axis = 1)"
   ]
  },
  {
   "cell_type": "code",
   "execution_count": 7,
   "metadata": {
    "colab": {
     "base_uri": "https://localhost:8080/"
    },
    "id": "VcJRzPl7tTB1",
    "outputId": "fb645ce0-ddcb-4b8d-acc6-97a358aa953d"
   },
   "outputs": [
    {
     "data": {
      "text/plain": [
       "(0, 0)"
      ]
     },
     "execution_count": 7,
     "metadata": {},
     "output_type": "execute_result"
    }
   ],
   "source": [
    "train_df.isnull().sum().sum(), pd.read_csv('Ml-Olympiad/train.csv').isnull().sum().sum()"
   ]
  },
  {
   "cell_type": "markdown",
   "metadata": {
    "id": "EWbwL2H9Akwm"
   },
   "source": [
    " ### **Feature Engineering and Selection**"
   ]
  },
  {
   "cell_type": "markdown",
   "metadata": {
    "id": "sulQFrO-AxiW"
   },
   "source": [
    "**1. Feature Interaction**"
   ]
  },
  {
   "cell_type": "code",
   "execution_count": 8,
   "metadata": {
    "id": "YbeBlgRJAge0"
   },
   "outputs": [],
   "source": [
    "feat_interact = PolynomialFeatures(interaction_only = True, include_bias = False)\n",
    "train_fi = feat_interact.fit_transform(X_df)\n",
    "test_fi = feat_interact.fit_transform(test_df)\n",
    "\n",
    "col_names = [f'col_{n}' for n in range(1,232)]\n",
    "\n",
    "train_fi = pd.DataFrame(train_fi, columns = col_names)\n",
    "test_fi = pd.DataFrame(test_fi, columns = col_names)"
   ]
  },
  {
   "cell_type": "code",
   "execution_count": 9,
   "metadata": {
    "colab": {
     "base_uri": "https://localhost:8080/"
    },
    "id": "42mPucpWAgo5",
    "outputId": "1943e6a4-99f3-4529-f7b1-30958e26eb74"
   },
   "outputs": [
    {
     "data": {
      "text/plain": [
       "((177576, 231), (76104, 231))"
      ]
     },
     "execution_count": 9,
     "metadata": {},
     "output_type": "execute_result"
    }
   ],
   "source": [
    "train_fi.shape, test_fi.shape"
   ]
  },
  {
   "cell_type": "code",
   "execution_count": 10,
   "metadata": {
    "id": "v6p0TaczYtZQ"
   },
   "outputs": [],
   "source": [
    "imp_featues = ['col_208', 'col_34', 'col_22', 'col_57', 'col_53', 'col_26', 'col_119',\n",
    "       'col_63', 'col_38', 'col_39', 'col_23', 'col_226', 'col_44', 'col_17',\n",
    "       'col_74', 'col_42', 'col_37', 'col_6', 'col_75'] ## 'col_18',\n",
    "\n",
    "X = pd.concat([X_df, train_fi[imp_featues]], axis = 1)\n",
    "test = pd.concat([test_df, test_fi[imp_featues]], axis = 1)"
   ]
  },
  {
   "cell_type": "markdown",
   "metadata": {
    "id": "u69IKJRntaoj"
   },
   "source": [
    "**2. Clustering**"
   ]
  },
  {
   "cell_type": "code",
   "execution_count": 11,
   "metadata": {
    "id": "98gCi8r6xqkc"
   },
   "outputs": [],
   "source": [
    "cluster_1 = ['HighBP', 'HighChol', 'CholCheck', 'BMI']\n",
    "cluster_2 = ['Smoker', 'Stroke','Diabetes', 'PhysActivity']\n",
    "cluster_3 = ['Fruits', 'Veggies', 'HvyAlcoholConsump','AnyHealthcare']\n",
    "cluster_4 = ['NoDocbcCost', 'GenHlth', 'MentHlth', 'PhysHlth']\n",
    "\n",
    "cluster_zip = [('cluster_1',cluster_1),('cluster_2',cluster_2),('cluster_3',cluster_3),('cluster_4',cluster_4)]#\n",
    "\n",
    "for cluster_name, cluster_col in cluster_zip:\n",
    "  cluster = KMeans(n_clusters = 4)\n",
    "  cluster.fit(X[cluster_col])\n",
    "  X[cluster_name] = cluster.predict(X[cluster_col])\n",
    "  test[cluster_name] = cluster.predict(test[cluster_col])"
   ]
  },
  {
   "cell_type": "markdown",
   "metadata": {
    "id": "_fc2zMkvtuwC"
   },
   "source": [
    "3. **OneHotEncoding of**"
   ]
  },
  {
   "cell_type": "code",
   "execution_count": 12,
   "metadata": {
    "id": "WBGyoQT2udfM"
   },
   "outputs": [],
   "source": [
    "X['Diabetes'] = X['Diabetes'].apply(lambda x: str(x))\n",
    "test['Diabetes'] = test['Diabetes'].apply(lambda x: str(x))"
   ]
  },
  {
   "cell_type": "code",
   "execution_count": 13,
   "metadata": {
    "id": "Lay6VteFus3B"
   },
   "outputs": [],
   "source": [
    "X = pd.get_dummies(X, drop_first = True)\n",
    "test = pd.get_dummies(test, drop_first = True)"
   ]
  },
  {
   "cell_type": "markdown",
   "metadata": {
    "id": "y70-REe7_Shx"
   },
   "source": [
    "### **Splitting Dataset**"
   ]
  },
  {
   "cell_type": "code",
   "execution_count": 14,
   "metadata": {
    "id": "v2jALq5y_sHn"
   },
   "outputs": [],
   "source": [
    "strat_split = StratifiedShuffleSplit(n_splits=1, test_size = 0.25, random_state = 2021)\n",
    "for train_index, test_index in strat_split.split(X, y):\n",
    "    X_Train = X.iloc[train_index]; X_Test = X.iloc[test_index]\n",
    "    y_Train = y.iloc[train_index]; y_Test = y.iloc[test_index]"
   ]
  },
  {
   "cell_type": "markdown",
   "metadata": {
    "id": "k3JHDgI5AUyu"
   },
   "source": [
    "**CV fold**"
   ]
  },
  {
   "cell_type": "code",
   "execution_count": 16,
   "metadata": {
    "id": "1bzIEBfOAT0r"
   },
   "outputs": [],
   "source": [
    "skfold = StratifiedKFold(n_splits = 10, random_state = 2022, shuffle = True)"
   ]
  },
  {
   "cell_type": "markdown",
   "metadata": {
    "id": "X9xXcIGaAGRS"
   },
   "source": [
    "# **XGBoost CV**"
   ]
  },
  {
   "cell_type": "code",
   "execution_count": 17,
   "metadata": {
    "colab": {
     "base_uri": "https://localhost:8080/"
    },
    "id": "6mibQt_2_zoJ",
    "outputId": "6fa49d7d-d1d6-41f3-aa21-46646ee2a896"
   },
   "outputs": [
    {
     "name": "stdout",
     "output_type": "stream",
     "text": [
      "***************************Fold :1***********************************************\n",
      "[0]\tvalidation_0-auc:0.835437\n",
      "Will train until validation_0-auc hasn't improved in 200 rounds.\n",
      "[99]\tvalidation_0-auc:0.856378\n",
      "Train score : 0.8795144646980229\n",
      "Validation score : 0.8578562738436175\n",
      "\n",
      "***************************Fold :2***********************************************\n",
      "[0]\tvalidation_0-auc:0.82246\n",
      "Will train until validation_0-auc hasn't improved in 200 rounds.\n",
      "[99]\tvalidation_0-auc:0.844709\n",
      "Train score : 0.8828473047426211\n",
      "Validation score : 0.8452279410210615\n",
      "\n",
      "***************************Fold :3***********************************************\n",
      "[0]\tvalidation_0-auc:0.831524\n",
      "Will train until validation_0-auc hasn't improved in 200 rounds.\n",
      "[99]\tvalidation_0-auc:0.851927\n",
      "Train score : 0.8791251624265176\n",
      "Validation score : 0.8529934977303398\n",
      "\n",
      "***************************Fold :4***********************************************\n",
      "[0]\tvalidation_0-auc:0.838622\n",
      "Will train until validation_0-auc hasn't improved in 200 rounds.\n",
      "[99]\tvalidation_0-auc:0.855172\n",
      "Train score : 0.8778640966572977\n",
      "Validation score : 0.856613941488034\n",
      "\n",
      "***************************Fold :5***********************************************\n",
      "[0]\tvalidation_0-auc:0.817997\n",
      "Will train until validation_0-auc hasn't improved in 200 rounds.\n",
      "[99]\tvalidation_0-auc:0.841983\n",
      "Train score : 0.8788522946059263\n",
      "Validation score : 0.8439663170691981\n",
      "\n",
      "***************************Fold :6***********************************************\n",
      "[0]\tvalidation_0-auc:0.815668\n",
      "Will train until validation_0-auc hasn't improved in 200 rounds.\n",
      "[99]\tvalidation_0-auc:0.833309\n",
      "Train score : 0.86723315677333\n",
      "Validation score : 0.8362338329018228\n",
      "\n",
      "***************************Fold :7***********************************************\n",
      "[0]\tvalidation_0-auc:0.822105\n",
      "Will train until validation_0-auc hasn't improved in 200 rounds.\n",
      "[99]\tvalidation_0-auc:0.840148\n",
      "Train score : 0.8677660587596777\n",
      "Validation score : 0.8427662448335089\n",
      "\n",
      "***************************Fold :8***********************************************\n",
      "[0]\tvalidation_0-auc:0.831157\n",
      "Will train until validation_0-auc hasn't improved in 200 rounds.\n",
      "[99]\tvalidation_0-auc:0.846844\n",
      "Train score : 0.8820782140186176\n",
      "Validation score : 0.848236141694059\n",
      "\n",
      "***************************Fold :9***********************************************\n",
      "[0]\tvalidation_0-auc:0.808077\n",
      "Will train until validation_0-auc hasn't improved in 200 rounds.\n",
      "[99]\tvalidation_0-auc:0.838167\n",
      "Train score : 0.8661506045295183\n",
      "Validation score : 0.8395221237242854\n",
      "\n",
      "***************************Fold :10***********************************************\n",
      "[0]\tvalidation_0-auc:0.831402\n",
      "Will train until validation_0-auc hasn't improved in 200 rounds.\n",
      "[99]\tvalidation_0-auc:0.850435\n",
      "Train score : 0.8783116006042817\n",
      "Validation score : 0.8514022167154973\n",
      "\n",
      "Training ROC score : 0.8759742957815811\n",
      "Testing ROC score : 0.8474818531021423 +/- 0.0068329451736724054\n"
     ]
    }
   ],
   "source": [
    "model_xgb = XGBClassifier(objective='binary:logistic', max_depth =  10,\n",
    "          learning_rate = 0.06808766268462589, colsample_bytree = 0.5124699707194202, \n",
    "             subsample =  0.4553243247037658, reg_alpha =  1.5936907054484504, random_state = 117)\n",
    "\n",
    "\n",
    "train_roc_xgb, val_roc_xgb = [], []\n",
    "\n",
    "train_pred_xgb = np.zeros(len(X_Train))\n",
    "val_pred_xgb = np.zeros(len(X_Train))\n",
    "test_pred_xgb = np.zeros(len(test))\n",
    "validation_pred_xgb = np.zeros(len(X_Test))\n",
    "fold = 0\n",
    "\n",
    "for train_index, val_index in skfold.split(X_Train, y_Train):\n",
    "    X_train = X_Train.iloc[train_index] ; y_train = y_Train.iloc[train_index].values\n",
    "    X_val = X_Train.iloc[val_index] ; y_val = y_Train.iloc[val_index].values\n",
    "    fold += 1\n",
    "    print(f'***************************Fold :{fold}***********************************************')\n",
    "    \n",
    "    model_xgb.fit(X_train, y_train, early_stopping_rounds = 200, eval_metric=\"auc\",\n",
    "                       eval_set=[(X_val, y_val)],verbose=250)\n",
    "    \n",
    "    train_pred = model_xgb.predict_proba(X_train, ntree_limit = model_xgb.get_booster().best_ntree_limit)[:,1]\n",
    "    val_pred = model_xgb.predict_proba(X_val, ntree_limit = model_xgb.get_booster().best_ntree_limit)[:,1]\n",
    "\n",
    "    train_pred_xgb[train_index] = train_pred\n",
    "    val_pred_xgb[val_index] = val_pred\n",
    "    \n",
    "    test_pred_xgb += model_xgb.predict_proba(test)[:,1]\n",
    "    validation_pred_xgb += model_xgb.predict_proba(X_Test)[:,1]\n",
    "    \n",
    "    print(f'Train score : {roc_auc_score(y_train, train_pred)}')\n",
    "    print(f'Validation score : {roc_auc_score(y_val, val_pred)}\\n')\n",
    "    \n",
    "   \n",
    "    train_roc_xgb.append(roc_auc_score(y_train, train_pred)); val_roc_xgb.append(roc_auc_score(y_val,val_pred))\n",
    "    \n",
    "test_pred_xgb = test_pred_xgb / 10\n",
    "validation_pred_xgb = validation_pred_xgb / 10\n",
    "print(f'Training ROC score : {np.mean(train_roc_xgb)}')\n",
    "print(f'Testing ROC score : {np.mean(val_roc_xgb)} +/- {np.std(val_roc_xgb)}')"
   ]
  },
  {
   "cell_type": "markdown",
   "metadata": {
    "id": "AF4HNXCvBzpn"
   },
   "source": [
    "### **Choosing a Threshold**"
   ]
  },
  {
   "cell_type": "code",
   "execution_count": 18,
   "metadata": {
    "id": "QyTYGH2SB0lz"
   },
   "outputs": [],
   "source": [
    "train_prediction = pd.DataFrame({'XGBoost_Prob': val_pred_xgb, 'Target': y_Train})"
   ]
  },
  {
   "cell_type": "code",
   "execution_count": 19,
   "metadata": {
    "colab": {
     "base_uri": "https://localhost:8080/",
     "height": 300
    },
    "id": "2V3WTiuzCHrp",
    "outputId": "5b66f9e2-2694-4f6f-ceea-0f37aab9141c"
   },
   "outputs": [
    {
     "data": {
      "text/html": [
       "\n",
       "  <div id=\"df-ee533f78-2b87-421d-b9be-6706335ecd5b\">\n",
       "    <div class=\"colab-df-container\">\n",
       "      <div>\n",
       "<style scoped>\n",
       "    .dataframe tbody tr th:only-of-type {\n",
       "        vertical-align: middle;\n",
       "    }\n",
       "\n",
       "    .dataframe tbody tr th {\n",
       "        vertical-align: top;\n",
       "    }\n",
       "\n",
       "    .dataframe thead th {\n",
       "        text-align: right;\n",
       "    }\n",
       "</style>\n",
       "<table border=\"1\" class=\"dataframe\">\n",
       "  <thead>\n",
       "    <tr style=\"text-align: right;\">\n",
       "      <th></th>\n",
       "      <th>XGBoost_Prob</th>\n",
       "      <th>Target</th>\n",
       "    </tr>\n",
       "  </thead>\n",
       "  <tbody>\n",
       "    <tr>\n",
       "      <th>count</th>\n",
       "      <td>12544.000000</td>\n",
       "      <td>12544.0</td>\n",
       "    </tr>\n",
       "    <tr>\n",
       "      <th>mean</th>\n",
       "      <td>0.267931</td>\n",
       "      <td>1.0</td>\n",
       "    </tr>\n",
       "    <tr>\n",
       "      <th>std</th>\n",
       "      <td>0.163892</td>\n",
       "      <td>0.0</td>\n",
       "    </tr>\n",
       "    <tr>\n",
       "      <th>min</th>\n",
       "      <td>0.009081</td>\n",
       "      <td>1.0</td>\n",
       "    </tr>\n",
       "    <tr>\n",
       "      <th>25%</th>\n",
       "      <td>0.136217</td>\n",
       "      <td>1.0</td>\n",
       "    </tr>\n",
       "    <tr>\n",
       "      <th>50%</th>\n",
       "      <td>0.241273</td>\n",
       "      <td>1.0</td>\n",
       "    </tr>\n",
       "    <tr>\n",
       "      <th>75%</th>\n",
       "      <td>0.373489</td>\n",
       "      <td>1.0</td>\n",
       "    </tr>\n",
       "    <tr>\n",
       "      <th>max</th>\n",
       "      <td>0.868208</td>\n",
       "      <td>1.0</td>\n",
       "    </tr>\n",
       "  </tbody>\n",
       "</table>\n",
       "</div>\n",
       "      <button class=\"colab-df-convert\" onclick=\"convertToInteractive('df-ee533f78-2b87-421d-b9be-6706335ecd5b')\"\n",
       "              title=\"Convert this dataframe to an interactive table.\"\n",
       "              style=\"display:none;\">\n",
       "        \n",
       "  <svg xmlns=\"http://www.w3.org/2000/svg\" height=\"24px\"viewBox=\"0 0 24 24\"\n",
       "       width=\"24px\">\n",
       "    <path d=\"M0 0h24v24H0V0z\" fill=\"none\"/>\n",
       "    <path d=\"M18.56 5.44l.94 2.06.94-2.06 2.06-.94-2.06-.94-.94-2.06-.94 2.06-2.06.94zm-11 1L8.5 8.5l.94-2.06 2.06-.94-2.06-.94L8.5 2.5l-.94 2.06-2.06.94zm10 10l.94 2.06.94-2.06 2.06-.94-2.06-.94-.94-2.06-.94 2.06-2.06.94z\"/><path d=\"M17.41 7.96l-1.37-1.37c-.4-.4-.92-.59-1.43-.59-.52 0-1.04.2-1.43.59L10.3 9.45l-7.72 7.72c-.78.78-.78 2.05 0 2.83L4 21.41c.39.39.9.59 1.41.59.51 0 1.02-.2 1.41-.59l7.78-7.78 2.81-2.81c.8-.78.8-2.07 0-2.86zM5.41 20L4 18.59l7.72-7.72 1.47 1.35L5.41 20z\"/>\n",
       "  </svg>\n",
       "      </button>\n",
       "      \n",
       "  <style>\n",
       "    .colab-df-container {\n",
       "      display:flex;\n",
       "      flex-wrap:wrap;\n",
       "      gap: 12px;\n",
       "    }\n",
       "\n",
       "    .colab-df-convert {\n",
       "      background-color: #E8F0FE;\n",
       "      border: none;\n",
       "      border-radius: 50%;\n",
       "      cursor: pointer;\n",
       "      display: none;\n",
       "      fill: #1967D2;\n",
       "      height: 32px;\n",
       "      padding: 0 0 0 0;\n",
       "      width: 32px;\n",
       "    }\n",
       "\n",
       "    .colab-df-convert:hover {\n",
       "      background-color: #E2EBFA;\n",
       "      box-shadow: 0px 1px 2px rgba(60, 64, 67, 0.3), 0px 1px 3px 1px rgba(60, 64, 67, 0.15);\n",
       "      fill: #174EA6;\n",
       "    }\n",
       "\n",
       "    [theme=dark] .colab-df-convert {\n",
       "      background-color: #3B4455;\n",
       "      fill: #D2E3FC;\n",
       "    }\n",
       "\n",
       "    [theme=dark] .colab-df-convert:hover {\n",
       "      background-color: #434B5C;\n",
       "      box-shadow: 0px 1px 3px 1px rgba(0, 0, 0, 0.15);\n",
       "      filter: drop-shadow(0px 1px 2px rgba(0, 0, 0, 0.3));\n",
       "      fill: #FFFFFF;\n",
       "    }\n",
       "  </style>\n",
       "\n",
       "      <script>\n",
       "        const buttonEl =\n",
       "          document.querySelector('#df-ee533f78-2b87-421d-b9be-6706335ecd5b button.colab-df-convert');\n",
       "        buttonEl.style.display =\n",
       "          google.colab.kernel.accessAllowed ? 'block' : 'none';\n",
       "\n",
       "        async function convertToInteractive(key) {\n",
       "          const element = document.querySelector('#df-ee533f78-2b87-421d-b9be-6706335ecd5b');\n",
       "          const dataTable =\n",
       "            await google.colab.kernel.invokeFunction('convertToInteractive',\n",
       "                                                     [key], {});\n",
       "          if (!dataTable) return;\n",
       "\n",
       "          const docLinkHtml = 'Like what you see? Visit the ' +\n",
       "            '<a target=\"_blank\" href=https://colab.research.google.com/notebooks/data_table.ipynb>data table notebook</a>'\n",
       "            + ' to learn more about interactive tables.';\n",
       "          element.innerHTML = '';\n",
       "          dataTable['output_type'] = 'display_data';\n",
       "          await google.colab.output.renderOutput(dataTable, element);\n",
       "          const docLink = document.createElement('div');\n",
       "          docLink.innerHTML = docLinkHtml;\n",
       "          element.appendChild(docLink);\n",
       "        }\n",
       "      </script>\n",
       "    </div>\n",
       "  </div>\n",
       "  "
      ],
      "text/plain": [
       "       XGBoost_Prob   Target\n",
       "count  12544.000000  12544.0\n",
       "mean       0.267931      1.0\n",
       "std        0.163892      0.0\n",
       "min        0.009081      1.0\n",
       "25%        0.136217      1.0\n",
       "50%        0.241273      1.0\n",
       "75%        0.373489      1.0\n",
       "max        0.868208      1.0"
      ]
     },
     "execution_count": 19,
     "metadata": {},
     "output_type": "execute_result"
    }
   ],
   "source": [
    "train_prediction[train_prediction['Target'].eq(1)].describe()"
   ]
  },
  {
   "cell_type": "code",
   "execution_count": 20,
   "metadata": {
    "colab": {
     "base_uri": "https://localhost:8080/",
     "height": 300
    },
    "id": "OrXTd61ICIW4",
    "outputId": "18d8ceb7-2084-4a41-845b-3e52220daf88"
   },
   "outputs": [
    {
     "data": {
      "text/html": [
       "\n",
       "  <div id=\"df-aa068ed5-816c-4b68-9c7a-1d2f9b40db73\">\n",
       "    <div class=\"colab-df-container\">\n",
       "      <div>\n",
       "<style scoped>\n",
       "    .dataframe tbody tr th:only-of-type {\n",
       "        vertical-align: middle;\n",
       "    }\n",
       "\n",
       "    .dataframe tbody tr th {\n",
       "        vertical-align: top;\n",
       "    }\n",
       "\n",
       "    .dataframe thead th {\n",
       "        text-align: right;\n",
       "    }\n",
       "</style>\n",
       "<table border=\"1\" class=\"dataframe\">\n",
       "  <thead>\n",
       "    <tr style=\"text-align: right;\">\n",
       "      <th></th>\n",
       "      <th>XGBoost_Prob</th>\n",
       "      <th>Target</th>\n",
       "    </tr>\n",
       "  </thead>\n",
       "  <tbody>\n",
       "    <tr>\n",
       "      <th>count</th>\n",
       "      <td>120638.000000</td>\n",
       "      <td>120638.0</td>\n",
       "    </tr>\n",
       "    <tr>\n",
       "      <th>mean</th>\n",
       "      <td>0.096920</td>\n",
       "      <td>0.0</td>\n",
       "    </tr>\n",
       "    <tr>\n",
       "      <th>std</th>\n",
       "      <td>0.103169</td>\n",
       "      <td>0.0</td>\n",
       "    </tr>\n",
       "    <tr>\n",
       "      <th>min</th>\n",
       "      <td>0.008152</td>\n",
       "      <td>0.0</td>\n",
       "    </tr>\n",
       "    <tr>\n",
       "      <th>25%</th>\n",
       "      <td>0.022955</td>\n",
       "      <td>0.0</td>\n",
       "    </tr>\n",
       "    <tr>\n",
       "      <th>50%</th>\n",
       "      <td>0.067303</td>\n",
       "      <td>0.0</td>\n",
       "    </tr>\n",
       "    <tr>\n",
       "      <th>75%</th>\n",
       "      <td>0.123228</td>\n",
       "      <td>0.0</td>\n",
       "    </tr>\n",
       "    <tr>\n",
       "      <th>max</th>\n",
       "      <td>0.874465</td>\n",
       "      <td>0.0</td>\n",
       "    </tr>\n",
       "  </tbody>\n",
       "</table>\n",
       "</div>\n",
       "      <button class=\"colab-df-convert\" onclick=\"convertToInteractive('df-aa068ed5-816c-4b68-9c7a-1d2f9b40db73')\"\n",
       "              title=\"Convert this dataframe to an interactive table.\"\n",
       "              style=\"display:none;\">\n",
       "        \n",
       "  <svg xmlns=\"http://www.w3.org/2000/svg\" height=\"24px\"viewBox=\"0 0 24 24\"\n",
       "       width=\"24px\">\n",
       "    <path d=\"M0 0h24v24H0V0z\" fill=\"none\"/>\n",
       "    <path d=\"M18.56 5.44l.94 2.06.94-2.06 2.06-.94-2.06-.94-.94-2.06-.94 2.06-2.06.94zm-11 1L8.5 8.5l.94-2.06 2.06-.94-2.06-.94L8.5 2.5l-.94 2.06-2.06.94zm10 10l.94 2.06.94-2.06 2.06-.94-2.06-.94-.94-2.06-.94 2.06-2.06.94z\"/><path d=\"M17.41 7.96l-1.37-1.37c-.4-.4-.92-.59-1.43-.59-.52 0-1.04.2-1.43.59L10.3 9.45l-7.72 7.72c-.78.78-.78 2.05 0 2.83L4 21.41c.39.39.9.59 1.41.59.51 0 1.02-.2 1.41-.59l7.78-7.78 2.81-2.81c.8-.78.8-2.07 0-2.86zM5.41 20L4 18.59l7.72-7.72 1.47 1.35L5.41 20z\"/>\n",
       "  </svg>\n",
       "      </button>\n",
       "      \n",
       "  <style>\n",
       "    .colab-df-container {\n",
       "      display:flex;\n",
       "      flex-wrap:wrap;\n",
       "      gap: 12px;\n",
       "    }\n",
       "\n",
       "    .colab-df-convert {\n",
       "      background-color: #E8F0FE;\n",
       "      border: none;\n",
       "      border-radius: 50%;\n",
       "      cursor: pointer;\n",
       "      display: none;\n",
       "      fill: #1967D2;\n",
       "      height: 32px;\n",
       "      padding: 0 0 0 0;\n",
       "      width: 32px;\n",
       "    }\n",
       "\n",
       "    .colab-df-convert:hover {\n",
       "      background-color: #E2EBFA;\n",
       "      box-shadow: 0px 1px 2px rgba(60, 64, 67, 0.3), 0px 1px 3px 1px rgba(60, 64, 67, 0.15);\n",
       "      fill: #174EA6;\n",
       "    }\n",
       "\n",
       "    [theme=dark] .colab-df-convert {\n",
       "      background-color: #3B4455;\n",
       "      fill: #D2E3FC;\n",
       "    }\n",
       "\n",
       "    [theme=dark] .colab-df-convert:hover {\n",
       "      background-color: #434B5C;\n",
       "      box-shadow: 0px 1px 3px 1px rgba(0, 0, 0, 0.15);\n",
       "      filter: drop-shadow(0px 1px 2px rgba(0, 0, 0, 0.3));\n",
       "      fill: #FFFFFF;\n",
       "    }\n",
       "  </style>\n",
       "\n",
       "      <script>\n",
       "        const buttonEl =\n",
       "          document.querySelector('#df-aa068ed5-816c-4b68-9c7a-1d2f9b40db73 button.colab-df-convert');\n",
       "        buttonEl.style.display =\n",
       "          google.colab.kernel.accessAllowed ? 'block' : 'none';\n",
       "\n",
       "        async function convertToInteractive(key) {\n",
       "          const element = document.querySelector('#df-aa068ed5-816c-4b68-9c7a-1d2f9b40db73');\n",
       "          const dataTable =\n",
       "            await google.colab.kernel.invokeFunction('convertToInteractive',\n",
       "                                                     [key], {});\n",
       "          if (!dataTable) return;\n",
       "\n",
       "          const docLinkHtml = 'Like what you see? Visit the ' +\n",
       "            '<a target=\"_blank\" href=https://colab.research.google.com/notebooks/data_table.ipynb>data table notebook</a>'\n",
       "            + ' to learn more about interactive tables.';\n",
       "          element.innerHTML = '';\n",
       "          dataTable['output_type'] = 'display_data';\n",
       "          await google.colab.output.renderOutput(dataTable, element);\n",
       "          const docLink = document.createElement('div');\n",
       "          docLink.innerHTML = docLinkHtml;\n",
       "          element.appendChild(docLink);\n",
       "        }\n",
       "      </script>\n",
       "    </div>\n",
       "  </div>\n",
       "  "
      ],
      "text/plain": [
       "        XGBoost_Prob    Target\n",
       "count  120638.000000  120638.0\n",
       "mean        0.096920       0.0\n",
       "std         0.103169       0.0\n",
       "min         0.008152       0.0\n",
       "25%         0.022955       0.0\n",
       "50%         0.067303       0.0\n",
       "75%         0.123228       0.0\n",
       "max         0.874465       0.0"
      ]
     },
     "execution_count": 20,
     "metadata": {},
     "output_type": "execute_result"
    }
   ],
   "source": [
    "train_prediction[train_prediction['Target'].eq(0)].describe()"
   ]
  },
  {
   "cell_type": "code",
   "execution_count": 63,
   "metadata": {
    "colab": {
     "base_uri": "https://localhost:8080/"
    },
    "id": "Y7Q3M_hQCRt3",
    "outputId": "631ef243-a736-4abf-9287-22ad177e9d5b"
   },
   "outputs": [
    {
     "data": {
      "text/plain": [
       "0.41449916989485336"
      ]
     },
     "execution_count": 63,
     "metadata": {},
     "output_type": "execute_result"
    }
   ],
   "source": [
    "xgb_train_pred = train_prediction['XGBoost_Prob'].apply(lambda x: 1 if x >= 0.2 else 0)\n",
    "f1_score(y_Train, xgb_train_pred)"
   ]
  },
  {
   "cell_type": "markdown",
   "metadata": {
    "id": "Ek8qz534Crfm"
   },
   "source": [
    "### **Model Evaluation**"
   ]
  },
  {
   "cell_type": "code",
   "execution_count": 64,
   "metadata": {
    "colab": {
     "base_uri": "https://localhost:8080/"
    },
    "id": "qWYK4qzHCvU0",
    "outputId": "2bb9dd8a-326a-48a9-a2e0-2e3664b85972"
   },
   "outputs": [
    {
     "data": {
      "text/plain": [
       "0.42258198422581983"
      ]
     },
     "execution_count": 64,
     "metadata": {},
     "output_type": "execute_result"
    }
   ],
   "source": [
    "val_prediction = pd.DataFrame({'XGBoost_Prob' : validation_pred_xgb, 'Target': y_Test })\n",
    "xgb_val_pred = val_prediction['XGBoost_Prob'].apply(lambda x: 1 if x >= 0.2 else 0)\n",
    "f1_score(y_Test, xgb_val_pred)"
   ]
  },
  {
   "cell_type": "markdown",
   "metadata": {
    "id": "AUiTGymkDAuU"
   },
   "source": [
    "### **Model Prediction**"
   ]
  },
  {
   "cell_type": "code",
   "execution_count": 65,
   "metadata": {
    "id": "2vDze43YC8Xo"
   },
   "outputs": [],
   "source": [
    "test_prediction = pd.DataFrame({'XGBoost_Prob': test_pred_xgb})\n",
    "xgb_test_pred = test_prediction['XGBoost_Prob'].apply(lambda x: 1 if x >= 0.2 else 0)\n",
    "\n",
    "sub_1 = sample_submission.copy()\n",
    "sub_1['target'] = xgb_test_pred\n",
    "sub_1.to_csv('Ml-Olympiad/Xgboost_unbal.csv', index = False)"
   ]
  },
  {
   "cell_type": "markdown",
   "metadata": {
    "id": "j5Ft6Tls6jbV"
   },
   "source": [
    "# **LightGBM CV**"
   ]
  },
  {
   "cell_type": "code",
   "execution_count": 24,
   "metadata": {
    "id": "9DkrI6O66oVY"
   },
   "outputs": [],
   "source": [
    "model_lgb = LGBMClassifier(boosting_type =  'gbdt',objective = 'binary',random_state=34, n_estimators=500,\n",
    "    colsample_bytree=0.9, min_child_samples=10, subsample=0.7, subsample_freq=2,\n",
    "    num_leaves=120,reg_lambda=2, reg_alpha=5 ,metric='auc', learning_rate=0.008, max_depth=5)"
   ]
  },
  {
   "cell_type": "code",
   "execution_count": 25,
   "metadata": {
    "colab": {
     "base_uri": "https://localhost:8080/"
    },
    "id": "Xp2FZ6PSJTvG",
    "outputId": "84f1937b-15c8-48e2-defe-f8be71f850ea"
   },
   "outputs": [
    {
     "name": "stdout",
     "output_type": "stream",
     "text": [
      "***************************Fold :1***********************************************\n",
      "Training until validation scores don't improve for 200 rounds.\n",
      "[250]\tvalid_0's auc: 0.857124\n",
      "[500]\tvalid_0's auc: 0.85924\n",
      "Did not meet early stopping. Best iteration is:\n",
      "[500]\tvalid_0's auc: 0.85924\n",
      "Train score : 0.852909444812952\n",
      "Validation score : 0.859240491614444\n",
      "\n",
      "***************************Fold :2***********************************************\n",
      "Training until validation scores don't improve for 200 rounds.\n",
      "[250]\tvalid_0's auc: 0.842628\n",
      "[500]\tvalid_0's auc: 0.845278\n",
      "Did not meet early stopping. Best iteration is:\n",
      "[500]\tvalid_0's auc: 0.845278\n",
      "Train score : 0.8543661314569557\n",
      "Validation score : 0.8452780720618852\n",
      "\n",
      "***************************Fold :3***********************************************\n",
      "Training until validation scores don't improve for 200 rounds.\n",
      "[250]\tvalid_0's auc: 0.851738\n",
      "[500]\tvalid_0's auc: 0.853995\n",
      "Did not meet early stopping. Best iteration is:\n",
      "[500]\tvalid_0's auc: 0.853995\n",
      "Train score : 0.8534600219516968\n",
      "Validation score : 0.8539954638525419\n",
      "\n",
      "***************************Fold :4***********************************************\n",
      "Training until validation scores don't improve for 200 rounds.\n",
      "[250]\tvalid_0's auc: 0.854506\n",
      "[500]\tvalid_0's auc: 0.857211\n",
      "Did not meet early stopping. Best iteration is:\n",
      "[500]\tvalid_0's auc: 0.857211\n",
      "Train score : 0.8530619408480236\n",
      "Validation score : 0.8572107716844558\n",
      "\n",
      "***************************Fold :5***********************************************\n",
      "Training until validation scores don't improve for 200 rounds.\n",
      "[250]\tvalid_0's auc: 0.842243\n",
      "[500]\tvalid_0's auc: 0.843973\n",
      "Did not meet early stopping. Best iteration is:\n",
      "[498]\tvalid_0's auc: 0.843979\n",
      "Train score : 0.8545794317127275\n",
      "Validation score : 0.843978578892372\n",
      "\n",
      "***************************Fold :6***********************************************\n",
      "Training until validation scores don't improve for 200 rounds.\n",
      "[250]\tvalid_0's auc: 0.834853\n",
      "[500]\tvalid_0's auc: 0.836337\n",
      "Did not meet early stopping. Best iteration is:\n",
      "[500]\tvalid_0's auc: 0.836337\n",
      "Train score : 0.8553593983803855\n",
      "Validation score : 0.8363372817064968\n",
      "\n",
      "***************************Fold :7***********************************************\n",
      "Training until validation scores don't improve for 200 rounds.\n",
      "[250]\tvalid_0's auc: 0.843528\n",
      "[500]\tvalid_0's auc: 0.845696\n",
      "Did not meet early stopping. Best iteration is:\n",
      "[500]\tvalid_0's auc: 0.845696\n",
      "Train score : 0.854481536497384\n",
      "Validation score : 0.845695729897749\n",
      "\n",
      "***************************Fold :8***********************************************\n",
      "Training until validation scores don't improve for 200 rounds.\n",
      "[250]\tvalid_0's auc: 0.846957\n",
      "[500]\tvalid_0's auc: 0.848659\n",
      "Did not meet early stopping. Best iteration is:\n",
      "[500]\tvalid_0's auc: 0.848659\n",
      "Train score : 0.8541177411534011\n",
      "Validation score : 0.848659356372605\n",
      "\n",
      "***************************Fold :9***********************************************\n",
      "Training until validation scores don't improve for 200 rounds.\n",
      "[250]\tvalid_0's auc: 0.838105\n",
      "[500]\tvalid_0's auc: 0.840823\n",
      "Did not meet early stopping. Best iteration is:\n",
      "[500]\tvalid_0's auc: 0.840823\n",
      "Train score : 0.8547287368330427\n",
      "Validation score : 0.8408234590445316\n",
      "\n",
      "***************************Fold :10***********************************************\n",
      "Training until validation scores don't improve for 200 rounds.\n",
      "[250]\tvalid_0's auc: 0.85132\n",
      "[500]\tvalid_0's auc: 0.853003\n",
      "Did not meet early stopping. Best iteration is:\n",
      "[500]\tvalid_0's auc: 0.853003\n",
      "Train score : 0.8537671410535426\n",
      "Validation score : 0.8530026458040836\n",
      "\n",
      "Training ROC score : 0.854083152470011\n",
      "Testing ROC score : 0.8484221850931165 +/- 0.006980139576769445\n"
     ]
    }
   ],
   "source": [
    "train_roc_lgb, val_roc_lgb = [], []\n",
    "\n",
    "train_pred_lgb = np.zeros(len(X_Train))\n",
    "val_pred_lgb = np.zeros(len(X_Train))\n",
    "test_pred_lgb = np.zeros(len(test))\n",
    "validation_pred_lgb = np.zeros(len(X_Test))\n",
    "fold = 0\n",
    "\n",
    "for train_index, val_index in skfold.split(X_Train, y_Train):\n",
    "    X_train = X_Train.iloc[train_index] ; y_train = y_Train.iloc[train_index].values\n",
    "    X_val = X_Train.iloc[val_index] ; y_val = y_Train.iloc[val_index].values\n",
    "    fold += 1\n",
    "    print(f'***************************Fold :{fold}***********************************************')\n",
    "    \n",
    "    model_lgb.fit(X_train,y_train,eval_set=[(X_val,y_val)],early_stopping_rounds=200,\n",
    "                               verbose=250)\n",
    "    train_pred = model_lgb.predict_proba(X_train,  num_iteration = model_lgb.best_iteration_)[:,1]\n",
    "    val_pred = model_lgb.predict_proba(X_val, num_iteration = model_lgb.best_iteration_)[:,1]\n",
    "\n",
    "    train_pred_lgb[train_index] = train_pred\n",
    "    val_pred_lgb[val_index] = val_pred\n",
    "    \n",
    "    test_pred_lgb += model_lgb.predict_proba(test)[:,1]\n",
    "    validation_pred_lgb += model_lgb.predict_proba(X_Test)[:,1]\n",
    "    \n",
    "    print(f'Train score : {roc_auc_score(y_train, train_pred)}')\n",
    "    print(f'Validation score : {roc_auc_score(y_val, val_pred)}\\n')\n",
    "    \n",
    "   \n",
    "    train_roc_lgb.append(roc_auc_score(y_train, train_pred)); val_roc_lgb.append(roc_auc_score(y_val,val_pred))\n",
    "    \n",
    "test_pred_lgb = test_pred_lgb / 10\n",
    "validation_pred_lgb = validation_pred_lgb / 10\n",
    "print(f'Training ROC score : {np.mean(train_roc_lgb)}')\n",
    "print(f'Testing ROC score : {np.mean(val_roc_lgb)} +/- {np.std(val_roc_lgb)}')"
   ]
  },
  {
   "cell_type": "markdown",
   "metadata": {
    "id": "NAul7d_qatHQ"
   },
   "source": [
    "### **Choosing Treshold**"
   ]
  },
  {
   "cell_type": "code",
   "execution_count": 26,
   "metadata": {
    "id": "EpkTTF9L8anl"
   },
   "outputs": [],
   "source": [
    "train_prediction['LightGBM_Prob'] = val_pred_lgb"
   ]
  },
  {
   "cell_type": "code",
   "execution_count": 27,
   "metadata": {
    "colab": {
     "base_uri": "https://localhost:8080/",
     "height": 300
    },
    "id": "8NeDr17XWPVY",
    "outputId": "de2bcf59-b4b2-47e3-b7c0-34a1fde7cb77"
   },
   "outputs": [
    {
     "data": {
      "text/html": [
       "\n",
       "  <div id=\"df-0deb1f4e-da16-4198-9048-f1b84458a5bf\">\n",
       "    <div class=\"colab-df-container\">\n",
       "      <div>\n",
       "<style scoped>\n",
       "    .dataframe tbody tr th:only-of-type {\n",
       "        vertical-align: middle;\n",
       "    }\n",
       "\n",
       "    .dataframe tbody tr th {\n",
       "        vertical-align: top;\n",
       "    }\n",
       "\n",
       "    .dataframe thead th {\n",
       "        text-align: right;\n",
       "    }\n",
       "</style>\n",
       "<table border=\"1\" class=\"dataframe\">\n",
       "  <thead>\n",
       "    <tr style=\"text-align: right;\">\n",
       "      <th></th>\n",
       "      <th>XGBoost_Prob</th>\n",
       "      <th>Target</th>\n",
       "      <th>LightGBM_Prob</th>\n",
       "    </tr>\n",
       "  </thead>\n",
       "  <tbody>\n",
       "    <tr>\n",
       "      <th>count</th>\n",
       "      <td>12544.000000</td>\n",
       "      <td>12544.0</td>\n",
       "      <td>12544.000000</td>\n",
       "    </tr>\n",
       "    <tr>\n",
       "      <th>mean</th>\n",
       "      <td>0.267931</td>\n",
       "      <td>1.0</td>\n",
       "      <td>0.249302</td>\n",
       "    </tr>\n",
       "    <tr>\n",
       "      <th>std</th>\n",
       "      <td>0.163892</td>\n",
       "      <td>0.0</td>\n",
       "      <td>0.157925</td>\n",
       "    </tr>\n",
       "    <tr>\n",
       "      <th>min</th>\n",
       "      <td>0.009081</td>\n",
       "      <td>1.0</td>\n",
       "      <td>0.005600</td>\n",
       "    </tr>\n",
       "    <tr>\n",
       "      <th>25%</th>\n",
       "      <td>0.136217</td>\n",
       "      <td>1.0</td>\n",
       "      <td>0.119747</td>\n",
       "    </tr>\n",
       "    <tr>\n",
       "      <th>50%</th>\n",
       "      <td>0.241273</td>\n",
       "      <td>1.0</td>\n",
       "      <td>0.229223</td>\n",
       "    </tr>\n",
       "    <tr>\n",
       "      <th>75%</th>\n",
       "      <td>0.373489</td>\n",
       "      <td>1.0</td>\n",
       "      <td>0.355282</td>\n",
       "    </tr>\n",
       "    <tr>\n",
       "      <th>max</th>\n",
       "      <td>0.868208</td>\n",
       "      <td>1.0</td>\n",
       "      <td>0.730671</td>\n",
       "    </tr>\n",
       "  </tbody>\n",
       "</table>\n",
       "</div>\n",
       "      <button class=\"colab-df-convert\" onclick=\"convertToInteractive('df-0deb1f4e-da16-4198-9048-f1b84458a5bf')\"\n",
       "              title=\"Convert this dataframe to an interactive table.\"\n",
       "              style=\"display:none;\">\n",
       "        \n",
       "  <svg xmlns=\"http://www.w3.org/2000/svg\" height=\"24px\"viewBox=\"0 0 24 24\"\n",
       "       width=\"24px\">\n",
       "    <path d=\"M0 0h24v24H0V0z\" fill=\"none\"/>\n",
       "    <path d=\"M18.56 5.44l.94 2.06.94-2.06 2.06-.94-2.06-.94-.94-2.06-.94 2.06-2.06.94zm-11 1L8.5 8.5l.94-2.06 2.06-.94-2.06-.94L8.5 2.5l-.94 2.06-2.06.94zm10 10l.94 2.06.94-2.06 2.06-.94-2.06-.94-.94-2.06-.94 2.06-2.06.94z\"/><path d=\"M17.41 7.96l-1.37-1.37c-.4-.4-.92-.59-1.43-.59-.52 0-1.04.2-1.43.59L10.3 9.45l-7.72 7.72c-.78.78-.78 2.05 0 2.83L4 21.41c.39.39.9.59 1.41.59.51 0 1.02-.2 1.41-.59l7.78-7.78 2.81-2.81c.8-.78.8-2.07 0-2.86zM5.41 20L4 18.59l7.72-7.72 1.47 1.35L5.41 20z\"/>\n",
       "  </svg>\n",
       "      </button>\n",
       "      \n",
       "  <style>\n",
       "    .colab-df-container {\n",
       "      display:flex;\n",
       "      flex-wrap:wrap;\n",
       "      gap: 12px;\n",
       "    }\n",
       "\n",
       "    .colab-df-convert {\n",
       "      background-color: #E8F0FE;\n",
       "      border: none;\n",
       "      border-radius: 50%;\n",
       "      cursor: pointer;\n",
       "      display: none;\n",
       "      fill: #1967D2;\n",
       "      height: 32px;\n",
       "      padding: 0 0 0 0;\n",
       "      width: 32px;\n",
       "    }\n",
       "\n",
       "    .colab-df-convert:hover {\n",
       "      background-color: #E2EBFA;\n",
       "      box-shadow: 0px 1px 2px rgba(60, 64, 67, 0.3), 0px 1px 3px 1px rgba(60, 64, 67, 0.15);\n",
       "      fill: #174EA6;\n",
       "    }\n",
       "\n",
       "    [theme=dark] .colab-df-convert {\n",
       "      background-color: #3B4455;\n",
       "      fill: #D2E3FC;\n",
       "    }\n",
       "\n",
       "    [theme=dark] .colab-df-convert:hover {\n",
       "      background-color: #434B5C;\n",
       "      box-shadow: 0px 1px 3px 1px rgba(0, 0, 0, 0.15);\n",
       "      filter: drop-shadow(0px 1px 2px rgba(0, 0, 0, 0.3));\n",
       "      fill: #FFFFFF;\n",
       "    }\n",
       "  </style>\n",
       "\n",
       "      <script>\n",
       "        const buttonEl =\n",
       "          document.querySelector('#df-0deb1f4e-da16-4198-9048-f1b84458a5bf button.colab-df-convert');\n",
       "        buttonEl.style.display =\n",
       "          google.colab.kernel.accessAllowed ? 'block' : 'none';\n",
       "\n",
       "        async function convertToInteractive(key) {\n",
       "          const element = document.querySelector('#df-0deb1f4e-da16-4198-9048-f1b84458a5bf');\n",
       "          const dataTable =\n",
       "            await google.colab.kernel.invokeFunction('convertToInteractive',\n",
       "                                                     [key], {});\n",
       "          if (!dataTable) return;\n",
       "\n",
       "          const docLinkHtml = 'Like what you see? Visit the ' +\n",
       "            '<a target=\"_blank\" href=https://colab.research.google.com/notebooks/data_table.ipynb>data table notebook</a>'\n",
       "            + ' to learn more about interactive tables.';\n",
       "          element.innerHTML = '';\n",
       "          dataTable['output_type'] = 'display_data';\n",
       "          await google.colab.output.renderOutput(dataTable, element);\n",
       "          const docLink = document.createElement('div');\n",
       "          docLink.innerHTML = docLinkHtml;\n",
       "          element.appendChild(docLink);\n",
       "        }\n",
       "      </script>\n",
       "    </div>\n",
       "  </div>\n",
       "  "
      ],
      "text/plain": [
       "       XGBoost_Prob   Target  LightGBM_Prob\n",
       "count  12544.000000  12544.0   12544.000000\n",
       "mean       0.267931      1.0       0.249302\n",
       "std        0.163892      0.0       0.157925\n",
       "min        0.009081      1.0       0.005600\n",
       "25%        0.136217      1.0       0.119747\n",
       "50%        0.241273      1.0       0.229223\n",
       "75%        0.373489      1.0       0.355282\n",
       "max        0.868208      1.0       0.730671"
      ]
     },
     "execution_count": 27,
     "metadata": {},
     "output_type": "execute_result"
    }
   ],
   "source": [
    "train_prediction[train_prediction['Target'].eq(1)].describe()"
   ]
  },
  {
   "cell_type": "code",
   "execution_count": 28,
   "metadata": {
    "colab": {
     "base_uri": "https://localhost:8080/",
     "height": 300
    },
    "id": "ExdoCmsDWVop",
    "outputId": "da0b2ab0-d245-4605-93a5-741691f10c79"
   },
   "outputs": [
    {
     "data": {
      "text/html": [
       "\n",
       "  <div id=\"df-f417736b-f605-4d39-a9c6-af23d80e7e56\">\n",
       "    <div class=\"colab-df-container\">\n",
       "      <div>\n",
       "<style scoped>\n",
       "    .dataframe tbody tr th:only-of-type {\n",
       "        vertical-align: middle;\n",
       "    }\n",
       "\n",
       "    .dataframe tbody tr th {\n",
       "        vertical-align: top;\n",
       "    }\n",
       "\n",
       "    .dataframe thead th {\n",
       "        text-align: right;\n",
       "    }\n",
       "</style>\n",
       "<table border=\"1\" class=\"dataframe\">\n",
       "  <thead>\n",
       "    <tr style=\"text-align: right;\">\n",
       "      <th></th>\n",
       "      <th>XGBoost_Prob</th>\n",
       "      <th>Target</th>\n",
       "      <th>LightGBM_Prob</th>\n",
       "    </tr>\n",
       "  </thead>\n",
       "  <tbody>\n",
       "    <tr>\n",
       "      <th>count</th>\n",
       "      <td>120638.000000</td>\n",
       "      <td>120638.0</td>\n",
       "      <td>120638.000000</td>\n",
       "    </tr>\n",
       "    <tr>\n",
       "      <th>mean</th>\n",
       "      <td>0.096920</td>\n",
       "      <td>0.0</td>\n",
       "      <td>0.077756</td>\n",
       "    </tr>\n",
       "    <tr>\n",
       "      <th>std</th>\n",
       "      <td>0.103169</td>\n",
       "      <td>0.0</td>\n",
       "      <td>0.100690</td>\n",
       "    </tr>\n",
       "    <tr>\n",
       "      <th>min</th>\n",
       "      <td>0.008152</td>\n",
       "      <td>0.0</td>\n",
       "      <td>0.005577</td>\n",
       "    </tr>\n",
       "    <tr>\n",
       "      <th>25%</th>\n",
       "      <td>0.022955</td>\n",
       "      <td>0.0</td>\n",
       "      <td>0.011976</td>\n",
       "    </tr>\n",
       "    <tr>\n",
       "      <th>50%</th>\n",
       "      <td>0.067303</td>\n",
       "      <td>0.0</td>\n",
       "      <td>0.033697</td>\n",
       "    </tr>\n",
       "    <tr>\n",
       "      <th>75%</th>\n",
       "      <td>0.123228</td>\n",
       "      <td>0.0</td>\n",
       "      <td>0.103540</td>\n",
       "    </tr>\n",
       "    <tr>\n",
       "      <th>max</th>\n",
       "      <td>0.874465</td>\n",
       "      <td>0.0</td>\n",
       "      <td>0.723518</td>\n",
       "    </tr>\n",
       "  </tbody>\n",
       "</table>\n",
       "</div>\n",
       "      <button class=\"colab-df-convert\" onclick=\"convertToInteractive('df-f417736b-f605-4d39-a9c6-af23d80e7e56')\"\n",
       "              title=\"Convert this dataframe to an interactive table.\"\n",
       "              style=\"display:none;\">\n",
       "        \n",
       "  <svg xmlns=\"http://www.w3.org/2000/svg\" height=\"24px\"viewBox=\"0 0 24 24\"\n",
       "       width=\"24px\">\n",
       "    <path d=\"M0 0h24v24H0V0z\" fill=\"none\"/>\n",
       "    <path d=\"M18.56 5.44l.94 2.06.94-2.06 2.06-.94-2.06-.94-.94-2.06-.94 2.06-2.06.94zm-11 1L8.5 8.5l.94-2.06 2.06-.94-2.06-.94L8.5 2.5l-.94 2.06-2.06.94zm10 10l.94 2.06.94-2.06 2.06-.94-2.06-.94-.94-2.06-.94 2.06-2.06.94z\"/><path d=\"M17.41 7.96l-1.37-1.37c-.4-.4-.92-.59-1.43-.59-.52 0-1.04.2-1.43.59L10.3 9.45l-7.72 7.72c-.78.78-.78 2.05 0 2.83L4 21.41c.39.39.9.59 1.41.59.51 0 1.02-.2 1.41-.59l7.78-7.78 2.81-2.81c.8-.78.8-2.07 0-2.86zM5.41 20L4 18.59l7.72-7.72 1.47 1.35L5.41 20z\"/>\n",
       "  </svg>\n",
       "      </button>\n",
       "      \n",
       "  <style>\n",
       "    .colab-df-container {\n",
       "      display:flex;\n",
       "      flex-wrap:wrap;\n",
       "      gap: 12px;\n",
       "    }\n",
       "\n",
       "    .colab-df-convert {\n",
       "      background-color: #E8F0FE;\n",
       "      border: none;\n",
       "      border-radius: 50%;\n",
       "      cursor: pointer;\n",
       "      display: none;\n",
       "      fill: #1967D2;\n",
       "      height: 32px;\n",
       "      padding: 0 0 0 0;\n",
       "      width: 32px;\n",
       "    }\n",
       "\n",
       "    .colab-df-convert:hover {\n",
       "      background-color: #E2EBFA;\n",
       "      box-shadow: 0px 1px 2px rgba(60, 64, 67, 0.3), 0px 1px 3px 1px rgba(60, 64, 67, 0.15);\n",
       "      fill: #174EA6;\n",
       "    }\n",
       "\n",
       "    [theme=dark] .colab-df-convert {\n",
       "      background-color: #3B4455;\n",
       "      fill: #D2E3FC;\n",
       "    }\n",
       "\n",
       "    [theme=dark] .colab-df-convert:hover {\n",
       "      background-color: #434B5C;\n",
       "      box-shadow: 0px 1px 3px 1px rgba(0, 0, 0, 0.15);\n",
       "      filter: drop-shadow(0px 1px 2px rgba(0, 0, 0, 0.3));\n",
       "      fill: #FFFFFF;\n",
       "    }\n",
       "  </style>\n",
       "\n",
       "      <script>\n",
       "        const buttonEl =\n",
       "          document.querySelector('#df-f417736b-f605-4d39-a9c6-af23d80e7e56 button.colab-df-convert');\n",
       "        buttonEl.style.display =\n",
       "          google.colab.kernel.accessAllowed ? 'block' : 'none';\n",
       "\n",
       "        async function convertToInteractive(key) {\n",
       "          const element = document.querySelector('#df-f417736b-f605-4d39-a9c6-af23d80e7e56');\n",
       "          const dataTable =\n",
       "            await google.colab.kernel.invokeFunction('convertToInteractive',\n",
       "                                                     [key], {});\n",
       "          if (!dataTable) return;\n",
       "\n",
       "          const docLinkHtml = 'Like what you see? Visit the ' +\n",
       "            '<a target=\"_blank\" href=https://colab.research.google.com/notebooks/data_table.ipynb>data table notebook</a>'\n",
       "            + ' to learn more about interactive tables.';\n",
       "          element.innerHTML = '';\n",
       "          dataTable['output_type'] = 'display_data';\n",
       "          await google.colab.output.renderOutput(dataTable, element);\n",
       "          const docLink = document.createElement('div');\n",
       "          docLink.innerHTML = docLinkHtml;\n",
       "          element.appendChild(docLink);\n",
       "        }\n",
       "      </script>\n",
       "    </div>\n",
       "  </div>\n",
       "  "
      ],
      "text/plain": [
       "        XGBoost_Prob    Target  LightGBM_Prob\n",
       "count  120638.000000  120638.0  120638.000000\n",
       "mean        0.096920       0.0       0.077756\n",
       "std         0.103169       0.0       0.100690\n",
       "min         0.008152       0.0       0.005577\n",
       "25%         0.022955       0.0       0.011976\n",
       "50%         0.067303       0.0       0.033697\n",
       "75%         0.123228       0.0       0.103540\n",
       "max         0.874465       0.0       0.723518"
      ]
     },
     "execution_count": 28,
     "metadata": {},
     "output_type": "execute_result"
    }
   ],
   "source": [
    "train_prediction[train_prediction['Target'].eq(0)].describe()"
   ]
  },
  {
   "cell_type": "markdown",
   "metadata": {
    "id": "1H0rgtKGXGvX"
   },
   "source": [
    "### **Model Evaluation**"
   ]
  },
  {
   "cell_type": "code",
   "execution_count": 61,
   "metadata": {
    "colab": {
     "base_uri": "https://localhost:8080/"
    },
    "id": "3t-F1DpdW2qq",
    "outputId": "81a7b3c9-8ad4-4e49-ef11-ac52da4a8515"
   },
   "outputs": [
    {
     "data": {
      "text/plain": [
       "0.4206873859591397"
      ]
     },
     "execution_count": 61,
     "metadata": {},
     "output_type": "execute_result"
    }
   ],
   "source": [
    "lgb_train_pred = train_prediction['LightGBM_Prob'].apply(lambda x: 1 if x >= 0.2 else 0)\n",
    "f1_score(train_prediction['Target'], lgb_train_pred)"
   ]
  },
  {
   "cell_type": "code",
   "execution_count": 75,
   "metadata": {
    "colab": {
     "base_uri": "https://localhost:8080/"
    },
    "id": "ewsVl0__XG_h",
    "outputId": "4dceac15-e553-4181-8b74-66b7a857f713"
   },
   "outputs": [
    {
     "data": {
      "text/plain": [
       "0.425044404973357"
      ]
     },
     "execution_count": 75,
     "metadata": {},
     "output_type": "execute_result"
    }
   ],
   "source": [
    "val_prediction['LightGBM_Prob'] = validation_pred_lgb\n",
    "lgb_val_pred = val_prediction['LightGBM_Prob'].apply(lambda x: 1 if x >= 0.2 else 0)\n",
    "f1_score(y_Test, lgb_val_pred)"
   ]
  },
  {
   "cell_type": "markdown",
   "metadata": {
    "id": "7TCnk74GXkwY"
   },
   "source": [
    "### **LGBM Model Submission**"
   ]
  },
  {
   "cell_type": "code",
   "execution_count": 66,
   "metadata": {
    "id": "28takWelXlEh"
   },
   "outputs": [],
   "source": [
    "test_prediction['LightGBM_Prob'] = test_pred_lgb\n",
    "lgb_test_pred = test_prediction['LightGBM_Prob'].apply(lambda x: 1 if x >= 0.2 else 0)\n",
    "\n",
    "sub_2 = sample_submission.copy()\n",
    "sub_2['target'] = lgb_test_pred\n",
    "sub_2.to_csv('Ml-Olympiad/LGBM_unbal.csv', index = False)"
   ]
  },
  {
   "cell_type": "markdown",
   "metadata": {
    "id": "wZHZNfc4YBpI"
   },
   "source": [
    "# **CATBOOST**"
   ]
  },
  {
   "cell_type": "code",
   "execution_count": 32,
   "metadata": {
    "colab": {
     "base_uri": "https://localhost:8080/"
    },
    "id": "PHpd-PgxZmWN",
    "outputId": "9c473efe-63d0-42d6-c65f-4221079bc181"
   },
   "outputs": [
    {
     "name": "stdout",
     "output_type": "stream",
     "text": [
      "Collecting catboost\n",
      "  Downloading catboost-1.0.4-cp37-none-manylinux1_x86_64.whl (76.1 MB)\n",
      "\u001b[K     |████████████████████████████████| 76.1 MB 1.2 MB/s \n",
      "\u001b[?25hRequirement already satisfied: pandas>=0.24.0 in /usr/local/lib/python3.7/dist-packages (from catboost) (1.3.5)\n",
      "Requirement already satisfied: graphviz in /usr/local/lib/python3.7/dist-packages (from catboost) (0.10.1)\n",
      "Requirement already satisfied: matplotlib in /usr/local/lib/python3.7/dist-packages (from catboost) (3.2.2)\n",
      "Requirement already satisfied: six in /usr/local/lib/python3.7/dist-packages (from catboost) (1.15.0)\n",
      "Requirement already satisfied: plotly in /usr/local/lib/python3.7/dist-packages (from catboost) (5.5.0)\n",
      "Requirement already satisfied: scipy in /usr/local/lib/python3.7/dist-packages (from catboost) (1.4.1)\n",
      "Requirement already satisfied: numpy>=1.16.0 in /usr/local/lib/python3.7/dist-packages (from catboost) (1.21.5)\n",
      "Requirement already satisfied: python-dateutil>=2.7.3 in /usr/local/lib/python3.7/dist-packages (from pandas>=0.24.0->catboost) (2.8.2)\n",
      "Requirement already satisfied: pytz>=2017.3 in /usr/local/lib/python3.7/dist-packages (from pandas>=0.24.0->catboost) (2018.9)\n",
      "Requirement already satisfied: pyparsing!=2.0.4,!=2.1.2,!=2.1.6,>=2.0.1 in /usr/local/lib/python3.7/dist-packages (from matplotlib->catboost) (3.0.7)\n",
      "Requirement already satisfied: cycler>=0.10 in /usr/local/lib/python3.7/dist-packages (from matplotlib->catboost) (0.11.0)\n",
      "Requirement already satisfied: kiwisolver>=1.0.1 in /usr/local/lib/python3.7/dist-packages (from matplotlib->catboost) (1.3.2)\n",
      "Requirement already satisfied: tenacity>=6.2.0 in /usr/local/lib/python3.7/dist-packages (from plotly->catboost) (8.0.1)\n",
      "Installing collected packages: catboost\n",
      "Successfully installed catboost-1.0.4\n"
     ]
    }
   ],
   "source": [
    "!pip install catboost"
   ]
  },
  {
   "cell_type": "code",
   "execution_count": 33,
   "metadata": {
    "id": "sD4pqX30ZsjS"
   },
   "outputs": [],
   "source": [
    "from catboost import CatBoostClassifier"
   ]
  },
  {
   "cell_type": "code",
   "execution_count": 34,
   "metadata": {
    "colab": {
     "base_uri": "https://localhost:8080/"
    },
    "id": "fizB_SYbYPtc",
    "outputId": "e88bfe54-81b3-4c29-b950-f96855ca5660"
   },
   "outputs": [
    {
     "name": "stdout",
     "output_type": "stream",
     "text": [
      "***************************Fold :1***********************************************\n",
      "Learning rate set to 0.051321\n",
      "0:\ttest: 0.8117714\tbest: 0.8117714 (0)\ttotal: 83.9ms\tremaining: 6m 59s\n",
      "250:\ttest: 0.8594563\tbest: 0.8597276 (125)\ttotal: 16s\tremaining: 5m 3s\n",
      "Stopped by overfitting detector  (200 iterations wait)\n",
      "\n",
      "bestTest = 0.8597275685\n",
      "bestIteration = 125\n",
      "\n",
      "Shrink model to first 126 iterations.\n",
      "Train score : 0.853053617261198\n",
      "Validation score : 0.8597275685058176\n",
      "\n",
      "***************************Fold :2***********************************************\n",
      "Learning rate set to 0.051321\n",
      "0:\ttest: 0.8013081\tbest: 0.8013081 (0)\ttotal: 138ms\tremaining: 11m 31s\n",
      "250:\ttest: 0.8474953\tbest: 0.8475026 (246)\ttotal: 33.1s\tremaining: 10m 25s\n",
      "500:\ttest: 0.8476325\tbest: 0.8476774 (431)\ttotal: 53.7s\tremaining: 8m 2s\n",
      "Stopped by overfitting detector  (200 iterations wait)\n",
      "\n",
      "bestTest = 0.8476773939\n",
      "bestIteration = 431\n",
      "\n",
      "Shrink model to first 432 iterations.\n",
      "Train score : 0.8645136649782799\n",
      "Validation score : 0.8476773938727846\n",
      "\n",
      "***************************Fold :3***********************************************\n",
      "Learning rate set to 0.051321\n",
      "0:\ttest: 0.8123843\tbest: 0.8123843 (0)\ttotal: 33ms\tremaining: 2m 45s\n",
      "250:\ttest: 0.8554982\tbest: 0.8555602 (239)\ttotal: 8.82s\tremaining: 2m 46s\n",
      "500:\ttest: 0.8553033\tbest: 0.8556465 (364)\ttotal: 17.3s\tremaining: 2m 35s\n",
      "Stopped by overfitting detector  (200 iterations wait)\n",
      "\n",
      "bestTest = 0.8556465464\n",
      "bestIteration = 364\n",
      "\n",
      "Shrink model to first 365 iterations.\n",
      "Train score : 0.8623107997528408\n",
      "Validation score : 0.85564654643602\n",
      "\n",
      "***************************Fold :4***********************************************\n",
      "Learning rate set to 0.051321\n",
      "0:\ttest: 0.8187263\tbest: 0.8187263 (0)\ttotal: 32.8ms\tremaining: 2m 44s\n",
      "250:\ttest: 0.8585268\tbest: 0.8585268 (250)\ttotal: 8.77s\tremaining: 2m 45s\n",
      "Stopped by overfitting detector  (200 iterations wait)\n",
      "\n",
      "bestTest = 0.8586501313\n",
      "bestIteration = 258\n",
      "\n",
      "Shrink model to first 259 iterations.\n",
      "Train score : 0.8583149385504392\n",
      "Validation score : 0.8586501312510841\n",
      "\n",
      "***************************Fold :5***********************************************\n",
      "Learning rate set to 0.051321\n",
      "0:\ttest: 0.8102584\tbest: 0.8102584 (0)\ttotal: 33.3ms\tremaining: 2m 46s\n",
      "250:\ttest: 0.8455896\tbest: 0.8456585 (199)\ttotal: 8.83s\tremaining: 2m 47s\n",
      "Stopped by overfitting detector  (200 iterations wait)\n",
      "\n",
      "bestTest = 0.8457885364\n",
      "bestIteration = 292\n",
      "\n",
      "Shrink model to first 293 iterations.\n",
      "Train score : 0.8605881360168521\n",
      "Validation score : 0.8457885363653286\n",
      "\n",
      "***************************Fold :6***********************************************\n",
      "Learning rate set to 0.051321\n",
      "0:\ttest: 0.7921626\tbest: 0.7921626 (0)\ttotal: 32.1ms\tremaining: 2m 40s\n",
      "250:\ttest: 0.8376274\tbest: 0.8377325 (184)\ttotal: 9.33s\tremaining: 2m 56s\n",
      "Stopped by overfitting detector  (200 iterations wait)\n",
      "\n",
      "bestTest = 0.8377325185\n",
      "bestIteration = 184\n",
      "\n",
      "Shrink model to first 185 iterations.\n",
      "Train score : 0.8577719223567594\n",
      "Validation score : 0.8377325185401412\n",
      "\n",
      "***************************Fold :7***********************************************\n",
      "Learning rate set to 0.051321\n",
      "0:\ttest: 0.8084791\tbest: 0.8084791 (0)\ttotal: 32.4ms\tremaining: 2m 42s\n",
      "250:\ttest: 0.8454936\tbest: 0.8458323 (165)\ttotal: 8.74s\tremaining: 2m 45s\n",
      "Stopped by overfitting detector  (200 iterations wait)\n",
      "\n",
      "bestTest = 0.8458322625\n",
      "bestIteration = 165\n",
      "\n",
      "Shrink model to first 166 iterations.\n",
      "Train score : 0.8562026759232901\n",
      "Validation score : 0.8458322624894765\n",
      "\n",
      "***************************Fold :8***********************************************\n",
      "Learning rate set to 0.051321\n",
      "0:\ttest: 0.8012461\tbest: 0.8012461 (0)\ttotal: 33.8ms\tremaining: 2m 48s\n",
      "250:\ttest: 0.8496247\tbest: 0.8497455 (221)\ttotal: 8.66s\tremaining: 2m 43s\n",
      "Stopped by overfitting detector  (200 iterations wait)\n",
      "\n",
      "bestTest = 0.8497455358\n",
      "bestIteration = 221\n",
      "\n",
      "Shrink model to first 222 iterations.\n",
      "Train score : 0.857778203558514\n",
      "Validation score : 0.8497455357709441\n",
      "\n",
      "***************************Fold :9***********************************************\n",
      "Learning rate set to 0.051321\n",
      "0:\ttest: 0.7939306\tbest: 0.7939306 (0)\ttotal: 36.3ms\tremaining: 3m 1s\n",
      "250:\ttest: 0.8423747\tbest: 0.8423747 (250)\ttotal: 8.84s\tremaining: 2m 47s\n",
      "Stopped by overfitting detector  (200 iterations wait)\n",
      "\n",
      "bestTest = 0.8424595905\n",
      "bestIteration = 273\n",
      "\n",
      "Shrink model to first 274 iterations.\n",
      "Train score : 0.8607559224116395\n",
      "Validation score : 0.8424595904700853\n",
      "\n",
      "***************************Fold :10***********************************************\n",
      "Learning rate set to 0.051321\n",
      "0:\ttest: 0.8087203\tbest: 0.8087203 (0)\ttotal: 32.2ms\tremaining: 2m 40s\n",
      "250:\ttest: 0.8528447\tbest: 0.8528575 (222)\ttotal: 8.69s\tremaining: 2m 44s\n",
      "Stopped by overfitting detector  (200 iterations wait)\n",
      "\n",
      "bestTest = 0.8528711978\n",
      "bestIteration = 263\n",
      "\n",
      "Shrink model to first 264 iterations.\n",
      "Train score : 0.8590074387300172\n",
      "Validation score : 0.8528711977919375\n",
      "\n",
      "Training ROC score : 0.859029731953983\n",
      "Testing ROC score : 0.849613128149362 +/- 0.006752743999578181\n"
     ]
    }
   ],
   "source": [
    "model_cat =  CatBoostClassifier(random_seed=34,use_best_model=True,\n",
    "                          n_estimators=5000,silent=True,eval_metric='AUC')\n",
    "\n",
    "train_roc_cat, val_roc_cat = [], []\n",
    "\n",
    "train_pred_cat = np.zeros(len(X_Train))\n",
    "val_pred_cat = np.zeros(len(X_Train))\n",
    "test_pred_cat = np.zeros(len(test))\n",
    "validation_pred_cat = np.zeros(len(X_Test))\n",
    "fold = 0\n",
    "\n",
    "for train_index, val_index in skfold.split(X_Train, y_Train):\n",
    "    X_train = X_Train.iloc[train_index] ; y_train = y_Train.iloc[train_index].values\n",
    "    X_val = X_Train.iloc[val_index] ; y_val = y_Train.iloc[val_index].values\n",
    "    fold += 1\n",
    "    print(f'***************************Fold :{fold}***********************************************')\n",
    "    \n",
    "    model_cat.fit(X_train,y_train,eval_set=[(X_val,y_val)],early_stopping_rounds=200,\n",
    "                               verbose=250,use_best_model=True)\n",
    "    train_pred = model_cat.predict_proba(X_train)[:,1]\n",
    "    val_pred = model_cat.predict_proba(X_val)[:,1]\n",
    "\n",
    "    train_pred_cat[train_index] = train_pred\n",
    "    val_pred_cat[val_index] = val_pred\n",
    "    \n",
    "    test_pred_cat += model_cat.predict_proba(test)[:,1]\n",
    "    validation_pred_cat += model_cat.predict_proba(X_Test)[:,1]\n",
    "    \n",
    "    print(f'Train score : {roc_auc_score(y_train, train_pred)}')\n",
    "    print(f'Validation score : {roc_auc_score(y_val, val_pred)}\\n')\n",
    "    \n",
    "   \n",
    "    train_roc_cat.append(roc_auc_score(y_train, train_pred)); val_roc_cat.append(roc_auc_score(y_val,val_pred))\n",
    "    \n",
    "test_pred_cat = test_pred_cat / 10\n",
    "validation_pred_cat = validation_pred_cat / 10\n",
    "print(f'Training ROC score : {np.mean(train_roc_cat)}')\n",
    "print(f'Testing ROC score : {np.mean(val_roc_cat)} +/- {np.std(val_roc_cat)}')"
   ]
  },
  {
   "cell_type": "markdown",
   "metadata": {
    "id": "HIDGWZpZbfNZ"
   },
   "source": [
    "### **Choosing Treshold**"
   ]
  },
  {
   "cell_type": "code",
   "execution_count": 35,
   "metadata": {
    "id": "YJXyD8FWaW0y"
   },
   "outputs": [],
   "source": [
    "train_prediction['CatBoost_Prob'] = val_pred_cat"
   ]
  },
  {
   "cell_type": "code",
   "execution_count": 36,
   "metadata": {
    "colab": {
     "base_uri": "https://localhost:8080/",
     "height": 300
    },
    "id": "OZeIxGJrbUiq",
    "outputId": "d0b3d7d4-ac87-4e6e-f61b-37f943ab8a43"
   },
   "outputs": [
    {
     "data": {
      "text/html": [
       "\n",
       "  <div id=\"df-1788a5a0-2ca2-4b93-bcd8-d58b4b7bff5f\">\n",
       "    <div class=\"colab-df-container\">\n",
       "      <div>\n",
       "<style scoped>\n",
       "    .dataframe tbody tr th:only-of-type {\n",
       "        vertical-align: middle;\n",
       "    }\n",
       "\n",
       "    .dataframe tbody tr th {\n",
       "        vertical-align: top;\n",
       "    }\n",
       "\n",
       "    .dataframe thead th {\n",
       "        text-align: right;\n",
       "    }\n",
       "</style>\n",
       "<table border=\"1\" class=\"dataframe\">\n",
       "  <thead>\n",
       "    <tr style=\"text-align: right;\">\n",
       "      <th></th>\n",
       "      <th>XGBoost_Prob</th>\n",
       "      <th>Target</th>\n",
       "      <th>LightGBM_Prob</th>\n",
       "      <th>CatBoost_Prob</th>\n",
       "    </tr>\n",
       "  </thead>\n",
       "  <tbody>\n",
       "    <tr>\n",
       "      <th>count</th>\n",
       "      <td>12544.000000</td>\n",
       "      <td>12544.0</td>\n",
       "      <td>12544.000000</td>\n",
       "      <td>12544.000000</td>\n",
       "    </tr>\n",
       "    <tr>\n",
       "      <th>mean</th>\n",
       "      <td>0.267931</td>\n",
       "      <td>1.0</td>\n",
       "      <td>0.249302</td>\n",
       "      <td>0.258343</td>\n",
       "    </tr>\n",
       "    <tr>\n",
       "      <th>std</th>\n",
       "      <td>0.163892</td>\n",
       "      <td>0.0</td>\n",
       "      <td>0.157925</td>\n",
       "      <td>0.168871</td>\n",
       "    </tr>\n",
       "    <tr>\n",
       "      <th>min</th>\n",
       "      <td>0.009081</td>\n",
       "      <td>1.0</td>\n",
       "      <td>0.005600</td>\n",
       "      <td>0.002457</td>\n",
       "    </tr>\n",
       "    <tr>\n",
       "      <th>25%</th>\n",
       "      <td>0.136217</td>\n",
       "      <td>1.0</td>\n",
       "      <td>0.119747</td>\n",
       "      <td>0.122539</td>\n",
       "    </tr>\n",
       "    <tr>\n",
       "      <th>50%</th>\n",
       "      <td>0.241273</td>\n",
       "      <td>1.0</td>\n",
       "      <td>0.229223</td>\n",
       "      <td>0.235412</td>\n",
       "    </tr>\n",
       "    <tr>\n",
       "      <th>75%</th>\n",
       "      <td>0.373489</td>\n",
       "      <td>1.0</td>\n",
       "      <td>0.355282</td>\n",
       "      <td>0.366528</td>\n",
       "    </tr>\n",
       "    <tr>\n",
       "      <th>max</th>\n",
       "      <td>0.868208</td>\n",
       "      <td>1.0</td>\n",
       "      <td>0.730671</td>\n",
       "      <td>0.883919</td>\n",
       "    </tr>\n",
       "  </tbody>\n",
       "</table>\n",
       "</div>\n",
       "      <button class=\"colab-df-convert\" onclick=\"convertToInteractive('df-1788a5a0-2ca2-4b93-bcd8-d58b4b7bff5f')\"\n",
       "              title=\"Convert this dataframe to an interactive table.\"\n",
       "              style=\"display:none;\">\n",
       "        \n",
       "  <svg xmlns=\"http://www.w3.org/2000/svg\" height=\"24px\"viewBox=\"0 0 24 24\"\n",
       "       width=\"24px\">\n",
       "    <path d=\"M0 0h24v24H0V0z\" fill=\"none\"/>\n",
       "    <path d=\"M18.56 5.44l.94 2.06.94-2.06 2.06-.94-2.06-.94-.94-2.06-.94 2.06-2.06.94zm-11 1L8.5 8.5l.94-2.06 2.06-.94-2.06-.94L8.5 2.5l-.94 2.06-2.06.94zm10 10l.94 2.06.94-2.06 2.06-.94-2.06-.94-.94-2.06-.94 2.06-2.06.94z\"/><path d=\"M17.41 7.96l-1.37-1.37c-.4-.4-.92-.59-1.43-.59-.52 0-1.04.2-1.43.59L10.3 9.45l-7.72 7.72c-.78.78-.78 2.05 0 2.83L4 21.41c.39.39.9.59 1.41.59.51 0 1.02-.2 1.41-.59l7.78-7.78 2.81-2.81c.8-.78.8-2.07 0-2.86zM5.41 20L4 18.59l7.72-7.72 1.47 1.35L5.41 20z\"/>\n",
       "  </svg>\n",
       "      </button>\n",
       "      \n",
       "  <style>\n",
       "    .colab-df-container {\n",
       "      display:flex;\n",
       "      flex-wrap:wrap;\n",
       "      gap: 12px;\n",
       "    }\n",
       "\n",
       "    .colab-df-convert {\n",
       "      background-color: #E8F0FE;\n",
       "      border: none;\n",
       "      border-radius: 50%;\n",
       "      cursor: pointer;\n",
       "      display: none;\n",
       "      fill: #1967D2;\n",
       "      height: 32px;\n",
       "      padding: 0 0 0 0;\n",
       "      width: 32px;\n",
       "    }\n",
       "\n",
       "    .colab-df-convert:hover {\n",
       "      background-color: #E2EBFA;\n",
       "      box-shadow: 0px 1px 2px rgba(60, 64, 67, 0.3), 0px 1px 3px 1px rgba(60, 64, 67, 0.15);\n",
       "      fill: #174EA6;\n",
       "    }\n",
       "\n",
       "    [theme=dark] .colab-df-convert {\n",
       "      background-color: #3B4455;\n",
       "      fill: #D2E3FC;\n",
       "    }\n",
       "\n",
       "    [theme=dark] .colab-df-convert:hover {\n",
       "      background-color: #434B5C;\n",
       "      box-shadow: 0px 1px 3px 1px rgba(0, 0, 0, 0.15);\n",
       "      filter: drop-shadow(0px 1px 2px rgba(0, 0, 0, 0.3));\n",
       "      fill: #FFFFFF;\n",
       "    }\n",
       "  </style>\n",
       "\n",
       "      <script>\n",
       "        const buttonEl =\n",
       "          document.querySelector('#df-1788a5a0-2ca2-4b93-bcd8-d58b4b7bff5f button.colab-df-convert');\n",
       "        buttonEl.style.display =\n",
       "          google.colab.kernel.accessAllowed ? 'block' : 'none';\n",
       "\n",
       "        async function convertToInteractive(key) {\n",
       "          const element = document.querySelector('#df-1788a5a0-2ca2-4b93-bcd8-d58b4b7bff5f');\n",
       "          const dataTable =\n",
       "            await google.colab.kernel.invokeFunction('convertToInteractive',\n",
       "                                                     [key], {});\n",
       "          if (!dataTable) return;\n",
       "\n",
       "          const docLinkHtml = 'Like what you see? Visit the ' +\n",
       "            '<a target=\"_blank\" href=https://colab.research.google.com/notebooks/data_table.ipynb>data table notebook</a>'\n",
       "            + ' to learn more about interactive tables.';\n",
       "          element.innerHTML = '';\n",
       "          dataTable['output_type'] = 'display_data';\n",
       "          await google.colab.output.renderOutput(dataTable, element);\n",
       "          const docLink = document.createElement('div');\n",
       "          docLink.innerHTML = docLinkHtml;\n",
       "          element.appendChild(docLink);\n",
       "        }\n",
       "      </script>\n",
       "    </div>\n",
       "  </div>\n",
       "  "
      ],
      "text/plain": [
       "       XGBoost_Prob   Target  LightGBM_Prob  CatBoost_Prob\n",
       "count  12544.000000  12544.0   12544.000000   12544.000000\n",
       "mean       0.267931      1.0       0.249302       0.258343\n",
       "std        0.163892      0.0       0.157925       0.168871\n",
       "min        0.009081      1.0       0.005600       0.002457\n",
       "25%        0.136217      1.0       0.119747       0.122539\n",
       "50%        0.241273      1.0       0.229223       0.235412\n",
       "75%        0.373489      1.0       0.355282       0.366528\n",
       "max        0.868208      1.0       0.730671       0.883919"
      ]
     },
     "execution_count": 36,
     "metadata": {},
     "output_type": "execute_result"
    }
   ],
   "source": [
    "train_prediction[train_prediction['Target'].eq(1)].describe()"
   ]
  },
  {
   "cell_type": "code",
   "execution_count": 37,
   "metadata": {
    "colab": {
     "base_uri": "https://localhost:8080/",
     "height": 300
    },
    "id": "dTSZWxDzbUpg",
    "outputId": "882e3c3b-5974-40e6-8b17-9cbb882b83cd"
   },
   "outputs": [
    {
     "data": {
      "text/html": [
       "\n",
       "  <div id=\"df-a548975c-1f27-4b82-a23f-ba7bc6a439c8\">\n",
       "    <div class=\"colab-df-container\">\n",
       "      <div>\n",
       "<style scoped>\n",
       "    .dataframe tbody tr th:only-of-type {\n",
       "        vertical-align: middle;\n",
       "    }\n",
       "\n",
       "    .dataframe tbody tr th {\n",
       "        vertical-align: top;\n",
       "    }\n",
       "\n",
       "    .dataframe thead th {\n",
       "        text-align: right;\n",
       "    }\n",
       "</style>\n",
       "<table border=\"1\" class=\"dataframe\">\n",
       "  <thead>\n",
       "    <tr style=\"text-align: right;\">\n",
       "      <th></th>\n",
       "      <th>XGBoost_Prob</th>\n",
       "      <th>Target</th>\n",
       "      <th>LightGBM_Prob</th>\n",
       "      <th>CatBoost_Prob</th>\n",
       "    </tr>\n",
       "  </thead>\n",
       "  <tbody>\n",
       "    <tr>\n",
       "      <th>count</th>\n",
       "      <td>120638.000000</td>\n",
       "      <td>120638.0</td>\n",
       "      <td>120638.000000</td>\n",
       "      <td>120638.000000</td>\n",
       "    </tr>\n",
       "    <tr>\n",
       "      <th>mean</th>\n",
       "      <td>0.096920</td>\n",
       "      <td>0.0</td>\n",
       "      <td>0.077756</td>\n",
       "      <td>0.077000</td>\n",
       "    </tr>\n",
       "    <tr>\n",
       "      <th>std</th>\n",
       "      <td>0.103169</td>\n",
       "      <td>0.0</td>\n",
       "      <td>0.100690</td>\n",
       "      <td>0.105689</td>\n",
       "    </tr>\n",
       "    <tr>\n",
       "      <th>min</th>\n",
       "      <td>0.008152</td>\n",
       "      <td>0.0</td>\n",
       "      <td>0.005577</td>\n",
       "      <td>0.001428</td>\n",
       "    </tr>\n",
       "    <tr>\n",
       "      <th>25%</th>\n",
       "      <td>0.022955</td>\n",
       "      <td>0.0</td>\n",
       "      <td>0.011976</td>\n",
       "      <td>0.009044</td>\n",
       "    </tr>\n",
       "    <tr>\n",
       "      <th>50%</th>\n",
       "      <td>0.067303</td>\n",
       "      <td>0.0</td>\n",
       "      <td>0.033697</td>\n",
       "      <td>0.028950</td>\n",
       "    </tr>\n",
       "    <tr>\n",
       "      <th>75%</th>\n",
       "      <td>0.123228</td>\n",
       "      <td>0.0</td>\n",
       "      <td>0.103540</td>\n",
       "      <td>0.103026</td>\n",
       "    </tr>\n",
       "    <tr>\n",
       "      <th>max</th>\n",
       "      <td>0.874465</td>\n",
       "      <td>0.0</td>\n",
       "      <td>0.723518</td>\n",
       "      <td>0.872950</td>\n",
       "    </tr>\n",
       "  </tbody>\n",
       "</table>\n",
       "</div>\n",
       "      <button class=\"colab-df-convert\" onclick=\"convertToInteractive('df-a548975c-1f27-4b82-a23f-ba7bc6a439c8')\"\n",
       "              title=\"Convert this dataframe to an interactive table.\"\n",
       "              style=\"display:none;\">\n",
       "        \n",
       "  <svg xmlns=\"http://www.w3.org/2000/svg\" height=\"24px\"viewBox=\"0 0 24 24\"\n",
       "       width=\"24px\">\n",
       "    <path d=\"M0 0h24v24H0V0z\" fill=\"none\"/>\n",
       "    <path d=\"M18.56 5.44l.94 2.06.94-2.06 2.06-.94-2.06-.94-.94-2.06-.94 2.06-2.06.94zm-11 1L8.5 8.5l.94-2.06 2.06-.94-2.06-.94L8.5 2.5l-.94 2.06-2.06.94zm10 10l.94 2.06.94-2.06 2.06-.94-2.06-.94-.94-2.06-.94 2.06-2.06.94z\"/><path d=\"M17.41 7.96l-1.37-1.37c-.4-.4-.92-.59-1.43-.59-.52 0-1.04.2-1.43.59L10.3 9.45l-7.72 7.72c-.78.78-.78 2.05 0 2.83L4 21.41c.39.39.9.59 1.41.59.51 0 1.02-.2 1.41-.59l7.78-7.78 2.81-2.81c.8-.78.8-2.07 0-2.86zM5.41 20L4 18.59l7.72-7.72 1.47 1.35L5.41 20z\"/>\n",
       "  </svg>\n",
       "      </button>\n",
       "      \n",
       "  <style>\n",
       "    .colab-df-container {\n",
       "      display:flex;\n",
       "      flex-wrap:wrap;\n",
       "      gap: 12px;\n",
       "    }\n",
       "\n",
       "    .colab-df-convert {\n",
       "      background-color: #E8F0FE;\n",
       "      border: none;\n",
       "      border-radius: 50%;\n",
       "      cursor: pointer;\n",
       "      display: none;\n",
       "      fill: #1967D2;\n",
       "      height: 32px;\n",
       "      padding: 0 0 0 0;\n",
       "      width: 32px;\n",
       "    }\n",
       "\n",
       "    .colab-df-convert:hover {\n",
       "      background-color: #E2EBFA;\n",
       "      box-shadow: 0px 1px 2px rgba(60, 64, 67, 0.3), 0px 1px 3px 1px rgba(60, 64, 67, 0.15);\n",
       "      fill: #174EA6;\n",
       "    }\n",
       "\n",
       "    [theme=dark] .colab-df-convert {\n",
       "      background-color: #3B4455;\n",
       "      fill: #D2E3FC;\n",
       "    }\n",
       "\n",
       "    [theme=dark] .colab-df-convert:hover {\n",
       "      background-color: #434B5C;\n",
       "      box-shadow: 0px 1px 3px 1px rgba(0, 0, 0, 0.15);\n",
       "      filter: drop-shadow(0px 1px 2px rgba(0, 0, 0, 0.3));\n",
       "      fill: #FFFFFF;\n",
       "    }\n",
       "  </style>\n",
       "\n",
       "      <script>\n",
       "        const buttonEl =\n",
       "          document.querySelector('#df-a548975c-1f27-4b82-a23f-ba7bc6a439c8 button.colab-df-convert');\n",
       "        buttonEl.style.display =\n",
       "          google.colab.kernel.accessAllowed ? 'block' : 'none';\n",
       "\n",
       "        async function convertToInteractive(key) {\n",
       "          const element = document.querySelector('#df-a548975c-1f27-4b82-a23f-ba7bc6a439c8');\n",
       "          const dataTable =\n",
       "            await google.colab.kernel.invokeFunction('convertToInteractive',\n",
       "                                                     [key], {});\n",
       "          if (!dataTable) return;\n",
       "\n",
       "          const docLinkHtml = 'Like what you see? Visit the ' +\n",
       "            '<a target=\"_blank\" href=https://colab.research.google.com/notebooks/data_table.ipynb>data table notebook</a>'\n",
       "            + ' to learn more about interactive tables.';\n",
       "          element.innerHTML = '';\n",
       "          dataTable['output_type'] = 'display_data';\n",
       "          await google.colab.output.renderOutput(dataTable, element);\n",
       "          const docLink = document.createElement('div');\n",
       "          docLink.innerHTML = docLinkHtml;\n",
       "          element.appendChild(docLink);\n",
       "        }\n",
       "      </script>\n",
       "    </div>\n",
       "  </div>\n",
       "  "
      ],
      "text/plain": [
       "        XGBoost_Prob    Target  LightGBM_Prob  CatBoost_Prob\n",
       "count  120638.000000  120638.0  120638.000000  120638.000000\n",
       "mean        0.096920       0.0       0.077756       0.077000\n",
       "std         0.103169       0.0       0.100690       0.105689\n",
       "min         0.008152       0.0       0.005577       0.001428\n",
       "25%         0.022955       0.0       0.011976       0.009044\n",
       "50%         0.067303       0.0       0.033697       0.028950\n",
       "75%         0.123228       0.0       0.103540       0.103026\n",
       "max         0.874465       0.0       0.723518       0.872950"
      ]
     },
     "execution_count": 37,
     "metadata": {},
     "output_type": "execute_result"
    }
   ],
   "source": [
    "train_prediction[train_prediction['Target'].eq(0)].describe()"
   ]
  },
  {
   "cell_type": "markdown",
   "metadata": {
    "id": "OCD8Griebj6Y"
   },
   "source": [
    "### **Model Evaluation**"
   ]
  },
  {
   "cell_type": "code",
   "execution_count": 67,
   "metadata": {
    "colab": {
     "base_uri": "https://localhost:8080/"
    },
    "id": "xgC5jkldf2lW",
    "outputId": "013b87a4-1a9b-4af7-88e8-cd4088a5f145"
   },
   "outputs": [
    {
     "data": {
      "text/plain": [
       "0.4207148067104304"
      ]
     },
     "execution_count": 67,
     "metadata": {},
     "output_type": "execute_result"
    }
   ],
   "source": [
    "cat_train_pred= train_prediction['CatBoost_Prob'].apply(lambda x: 1 if x >= 0.2 else 0)\n",
    "f1_score(train_prediction['Target'], cat_train_pred)"
   ]
  },
  {
   "cell_type": "code",
   "execution_count": 68,
   "metadata": {
    "colab": {
     "base_uri": "https://localhost:8080/"
    },
    "id": "tGBiNoU3b-Au",
    "outputId": "021c1ace-bb0a-4e5f-e31d-0173e2c9023a"
   },
   "outputs": [
    {
     "data": {
      "text/plain": [
       "0.4255725190839695"
      ]
     },
     "execution_count": 68,
     "metadata": {},
     "output_type": "execute_result"
    }
   ],
   "source": [
    "val_prediction['CatBoost_Prob'] = validation_pred_cat\n",
    "cat_val_pred = val_prediction['CatBoost_Prob'].apply(lambda x: 1 if x >= 0.2 else 0)\n",
    "f1_score(y_Test, cat_val_pred)"
   ]
  },
  {
   "cell_type": "markdown",
   "metadata": {
    "id": "2w6X1mwucSd3"
   },
   "source": [
    "### **CatBoost Model Submission**"
   ]
  },
  {
   "cell_type": "code",
   "execution_count": 69,
   "metadata": {
    "id": "Pe8O_vyIcRaf"
   },
   "outputs": [],
   "source": [
    "test_prediction['CatBoost_Prob'] = test_pred_cat\n",
    "cat_test_pred = test_prediction['CatBoost_Prob'].apply(lambda x: 1 if x >= 0.2 else 0)\n",
    "\n",
    "sub_3 = sample_submission.copy()\n",
    "sub_3['target'] = cat_test_pred\n",
    "sub_3.to_csv('Ml-Olympiad/CatBoost_unbal.csv', index = False)"
   ]
  },
  {
   "cell_type": "markdown",
   "metadata": {
    "id": "fty0Vs3AisML"
   },
   "source": [
    "# **Model Blending**"
   ]
  },
  {
   "cell_type": "code",
   "execution_count": 76,
   "metadata": {
    "id": "45mxEs9Gi9WZ"
   },
   "outputs": [],
   "source": [
    "train_prediction['Blend'] = 0.5 * train_prediction['XGBoost_Prob'] + 0.3 * train_prediction['LightGBM_Prob'] + 0.2 * train_prediction['CatBoost_Prob']\n",
    "val_prediction['Blend'] = 0.5 * val_prediction['XGBoost_Prob'] + 0.3 * val_prediction['LightGBM_Prob'] + 0.2 * val_prediction['CatBoost_Prob']\n",
    "test_prediction['Blend'] = 0.5 * test_prediction['XGBoost_Prob'] + 0.3 * test_prediction['LightGBM_Prob'] + 0.2 * test_prediction['CatBoost_Prob']"
   ]
  },
  {
   "cell_type": "code",
   "execution_count": 79,
   "metadata": {
    "colab": {
     "base_uri": "https://localhost:8080/"
    },
    "id": "MPzMHO4glPFf",
    "outputId": "fa6f5c3b-81ed-4428-ab9a-e0418eac1f3e"
   },
   "outputs": [
    {
     "data": {
      "text/plain": [
       "0.4195940336110396"
      ]
     },
     "execution_count": 79,
     "metadata": {},
     "output_type": "execute_result"
    }
   ],
   "source": [
    "blend_train_pred= train_prediction['Blend'].apply(lambda x: 1 if x >= 0.2 else 0)\n",
    "f1_score(train_prediction['Target'], blend_train_pred)"
   ]
  },
  {
   "cell_type": "code",
   "execution_count": 80,
   "metadata": {
    "colab": {
     "base_uri": "https://localhost:8080/",
     "height": 206
    },
    "id": "0vaC5Fh7RuqI",
    "outputId": "68ffd7e5-69f8-4d9e-cbf2-25f4160a9d0d"
   },
   "outputs": [
    {
     "data": {
      "text/html": [
       "\n",
       "  <div id=\"df-c908d8bb-b36d-47a6-8ffe-9c7745e027fe\">\n",
       "    <div class=\"colab-df-container\">\n",
       "      <div>\n",
       "<style scoped>\n",
       "    .dataframe tbody tr th:only-of-type {\n",
       "        vertical-align: middle;\n",
       "    }\n",
       "\n",
       "    .dataframe tbody tr th {\n",
       "        vertical-align: top;\n",
       "    }\n",
       "\n",
       "    .dataframe thead th {\n",
       "        text-align: right;\n",
       "    }\n",
       "</style>\n",
       "<table border=\"1\" class=\"dataframe\">\n",
       "  <thead>\n",
       "    <tr style=\"text-align: right;\">\n",
       "      <th></th>\n",
       "      <th>XGBoost_Prob</th>\n",
       "      <th>Target</th>\n",
       "      <th>CatBoost_Prob</th>\n",
       "      <th>LightGBM_Prob</th>\n",
       "      <th>Blend</th>\n",
       "    </tr>\n",
       "  </thead>\n",
       "  <tbody>\n",
       "    <tr>\n",
       "      <th>153205</th>\n",
       "      <td>0.028577</td>\n",
       "      <td>0</td>\n",
       "      <td>0.004041</td>\n",
       "      <td>0.006975</td>\n",
       "      <td>0.017189</td>\n",
       "    </tr>\n",
       "    <tr>\n",
       "      <th>136740</th>\n",
       "      <td>0.074955</td>\n",
       "      <td>0</td>\n",
       "      <td>0.051071</td>\n",
       "      <td>0.053474</td>\n",
       "      <td>0.063734</td>\n",
       "    </tr>\n",
       "    <tr>\n",
       "      <th>118183</th>\n",
       "      <td>0.028408</td>\n",
       "      <td>0</td>\n",
       "      <td>0.004223</td>\n",
       "      <td>0.006245</td>\n",
       "      <td>0.016922</td>\n",
       "    </tr>\n",
       "    <tr>\n",
       "      <th>150106</th>\n",
       "      <td>0.029316</td>\n",
       "      <td>0</td>\n",
       "      <td>0.005371</td>\n",
       "      <td>0.006564</td>\n",
       "      <td>0.017701</td>\n",
       "    </tr>\n",
       "    <tr>\n",
       "      <th>163046</th>\n",
       "      <td>0.046891</td>\n",
       "      <td>0</td>\n",
       "      <td>0.024138</td>\n",
       "      <td>0.025851</td>\n",
       "      <td>0.036029</td>\n",
       "    </tr>\n",
       "  </tbody>\n",
       "</table>\n",
       "</div>\n",
       "      <button class=\"colab-df-convert\" onclick=\"convertToInteractive('df-c908d8bb-b36d-47a6-8ffe-9c7745e027fe')\"\n",
       "              title=\"Convert this dataframe to an interactive table.\"\n",
       "              style=\"display:none;\">\n",
       "        \n",
       "  <svg xmlns=\"http://www.w3.org/2000/svg\" height=\"24px\"viewBox=\"0 0 24 24\"\n",
       "       width=\"24px\">\n",
       "    <path d=\"M0 0h24v24H0V0z\" fill=\"none\"/>\n",
       "    <path d=\"M18.56 5.44l.94 2.06.94-2.06 2.06-.94-2.06-.94-.94-2.06-.94 2.06-2.06.94zm-11 1L8.5 8.5l.94-2.06 2.06-.94-2.06-.94L8.5 2.5l-.94 2.06-2.06.94zm10 10l.94 2.06.94-2.06 2.06-.94-2.06-.94-.94-2.06-.94 2.06-2.06.94z\"/><path d=\"M17.41 7.96l-1.37-1.37c-.4-.4-.92-.59-1.43-.59-.52 0-1.04.2-1.43.59L10.3 9.45l-7.72 7.72c-.78.78-.78 2.05 0 2.83L4 21.41c.39.39.9.59 1.41.59.51 0 1.02-.2 1.41-.59l7.78-7.78 2.81-2.81c.8-.78.8-2.07 0-2.86zM5.41 20L4 18.59l7.72-7.72 1.47 1.35L5.41 20z\"/>\n",
       "  </svg>\n",
       "      </button>\n",
       "      \n",
       "  <style>\n",
       "    .colab-df-container {\n",
       "      display:flex;\n",
       "      flex-wrap:wrap;\n",
       "      gap: 12px;\n",
       "    }\n",
       "\n",
       "    .colab-df-convert {\n",
       "      background-color: #E8F0FE;\n",
       "      border: none;\n",
       "      border-radius: 50%;\n",
       "      cursor: pointer;\n",
       "      display: none;\n",
       "      fill: #1967D2;\n",
       "      height: 32px;\n",
       "      padding: 0 0 0 0;\n",
       "      width: 32px;\n",
       "    }\n",
       "\n",
       "    .colab-df-convert:hover {\n",
       "      background-color: #E2EBFA;\n",
       "      box-shadow: 0px 1px 2px rgba(60, 64, 67, 0.3), 0px 1px 3px 1px rgba(60, 64, 67, 0.15);\n",
       "      fill: #174EA6;\n",
       "    }\n",
       "\n",
       "    [theme=dark] .colab-df-convert {\n",
       "      background-color: #3B4455;\n",
       "      fill: #D2E3FC;\n",
       "    }\n",
       "\n",
       "    [theme=dark] .colab-df-convert:hover {\n",
       "      background-color: #434B5C;\n",
       "      box-shadow: 0px 1px 3px 1px rgba(0, 0, 0, 0.15);\n",
       "      filter: drop-shadow(0px 1px 2px rgba(0, 0, 0, 0.3));\n",
       "      fill: #FFFFFF;\n",
       "    }\n",
       "  </style>\n",
       "\n",
       "      <script>\n",
       "        const buttonEl =\n",
       "          document.querySelector('#df-c908d8bb-b36d-47a6-8ffe-9c7745e027fe button.colab-df-convert');\n",
       "        buttonEl.style.display =\n",
       "          google.colab.kernel.accessAllowed ? 'block' : 'none';\n",
       "\n",
       "        async function convertToInteractive(key) {\n",
       "          const element = document.querySelector('#df-c908d8bb-b36d-47a6-8ffe-9c7745e027fe');\n",
       "          const dataTable =\n",
       "            await google.colab.kernel.invokeFunction('convertToInteractive',\n",
       "                                                     [key], {});\n",
       "          if (!dataTable) return;\n",
       "\n",
       "          const docLinkHtml = 'Like what you see? Visit the ' +\n",
       "            '<a target=\"_blank\" href=https://colab.research.google.com/notebooks/data_table.ipynb>data table notebook</a>'\n",
       "            + ' to learn more about interactive tables.';\n",
       "          element.innerHTML = '';\n",
       "          dataTable['output_type'] = 'display_data';\n",
       "          await google.colab.output.renderOutput(dataTable, element);\n",
       "          const docLink = document.createElement('div');\n",
       "          docLink.innerHTML = docLinkHtml;\n",
       "          element.appendChild(docLink);\n",
       "        }\n",
       "      </script>\n",
       "    </div>\n",
       "  </div>\n",
       "  "
      ],
      "text/plain": [
       "        XGBoost_Prob  Target  CatBoost_Prob  LightGBM_Prob     Blend\n",
       "153205      0.028577       0       0.004041       0.006975  0.017189\n",
       "136740      0.074955       0       0.051071       0.053474  0.063734\n",
       "118183      0.028408       0       0.004223       0.006245  0.016922\n",
       "150106      0.029316       0       0.005371       0.006564  0.017701\n",
       "163046      0.046891       0       0.024138       0.025851  0.036029"
      ]
     },
     "execution_count": 80,
     "metadata": {},
     "output_type": "execute_result"
    }
   ],
   "source": [
    "val_prediction.head()"
   ]
  },
  {
   "cell_type": "code",
   "execution_count": 81,
   "metadata": {
    "colab": {
     "base_uri": "https://localhost:8080/"
    },
    "id": "oGTkwtLzmt7S",
    "outputId": "aa45b9ac-58d3-476c-b215-57da11ecbe8a"
   },
   "outputs": [
    {
     "data": {
      "text/plain": [
       "0.42632161402911384"
      ]
     },
     "execution_count": 81,
     "metadata": {},
     "output_type": "execute_result"
    }
   ],
   "source": [
    "blend_val_pred= val_prediction['Blend'].apply(lambda x: 1 if x >= 0.2 else 0)\n",
    "f1_score(val_prediction['Target'], blend_val_pred)"
   ]
  },
  {
   "cell_type": "code",
   "execution_count": 82,
   "metadata": {
    "id": "P0RgCePQQxli"
   },
   "outputs": [],
   "source": [
    "sub_4 = sample_submission.copy()\n",
    "sub_4['target'] = test_prediction['Blend'].apply(lambda x: 1 if x >= 0.2 else 0)\n",
    "sub_4.to_csv('Ml-Olympiad/Blending_unbal.csv', index = False)"
   ]
  },
  {
   "cell_type": "code",
   "execution_count": 86,
   "metadata": {
    "colab": {
     "base_uri": "https://localhost:8080/",
     "height": 206
    },
    "id": "sedGMsx3SiRr",
    "outputId": "a6cd22ce-4fd6-4f9e-9288-92133f5aa276"
   },
   "outputs": [
    {
     "data": {
      "text/html": [
       "\n",
       "  <div id=\"df-cabb7113-9564-4839-b5d0-43b94fd96e25\">\n",
       "    <div class=\"colab-df-container\">\n",
       "      <div>\n",
       "<style scoped>\n",
       "    .dataframe tbody tr th:only-of-type {\n",
       "        vertical-align: middle;\n",
       "    }\n",
       "\n",
       "    .dataframe tbody tr th {\n",
       "        vertical-align: top;\n",
       "    }\n",
       "\n",
       "    .dataframe thead th {\n",
       "        text-align: right;\n",
       "    }\n",
       "</style>\n",
       "<table border=\"1\" class=\"dataframe\">\n",
       "  <thead>\n",
       "    <tr style=\"text-align: right;\">\n",
       "      <th></th>\n",
       "      <th>XGBoost_Prob</th>\n",
       "      <th>Target</th>\n",
       "      <th>CatBoost_Prob</th>\n",
       "      <th>LightGBM_Prob</th>\n",
       "      <th>Blend</th>\n",
       "    </tr>\n",
       "  </thead>\n",
       "  <tbody>\n",
       "    <tr>\n",
       "      <th>153205</th>\n",
       "      <td>0.028577</td>\n",
       "      <td>0</td>\n",
       "      <td>0.004041</td>\n",
       "      <td>0.006975</td>\n",
       "      <td>0.017189</td>\n",
       "    </tr>\n",
       "    <tr>\n",
       "      <th>136740</th>\n",
       "      <td>0.074955</td>\n",
       "      <td>0</td>\n",
       "      <td>0.051071</td>\n",
       "      <td>0.053474</td>\n",
       "      <td>0.063734</td>\n",
       "    </tr>\n",
       "    <tr>\n",
       "      <th>118183</th>\n",
       "      <td>0.028408</td>\n",
       "      <td>0</td>\n",
       "      <td>0.004223</td>\n",
       "      <td>0.006245</td>\n",
       "      <td>0.016922</td>\n",
       "    </tr>\n",
       "    <tr>\n",
       "      <th>150106</th>\n",
       "      <td>0.029316</td>\n",
       "      <td>0</td>\n",
       "      <td>0.005371</td>\n",
       "      <td>0.006564</td>\n",
       "      <td>0.017701</td>\n",
       "    </tr>\n",
       "    <tr>\n",
       "      <th>163046</th>\n",
       "      <td>0.046891</td>\n",
       "      <td>0</td>\n",
       "      <td>0.024138</td>\n",
       "      <td>0.025851</td>\n",
       "      <td>0.036029</td>\n",
       "    </tr>\n",
       "  </tbody>\n",
       "</table>\n",
       "</div>\n",
       "      <button class=\"colab-df-convert\" onclick=\"convertToInteractive('df-cabb7113-9564-4839-b5d0-43b94fd96e25')\"\n",
       "              title=\"Convert this dataframe to an interactive table.\"\n",
       "              style=\"display:none;\">\n",
       "        \n",
       "  <svg xmlns=\"http://www.w3.org/2000/svg\" height=\"24px\"viewBox=\"0 0 24 24\"\n",
       "       width=\"24px\">\n",
       "    <path d=\"M0 0h24v24H0V0z\" fill=\"none\"/>\n",
       "    <path d=\"M18.56 5.44l.94 2.06.94-2.06 2.06-.94-2.06-.94-.94-2.06-.94 2.06-2.06.94zm-11 1L8.5 8.5l.94-2.06 2.06-.94-2.06-.94L8.5 2.5l-.94 2.06-2.06.94zm10 10l.94 2.06.94-2.06 2.06-.94-2.06-.94-.94-2.06-.94 2.06-2.06.94z\"/><path d=\"M17.41 7.96l-1.37-1.37c-.4-.4-.92-.59-1.43-.59-.52 0-1.04.2-1.43.59L10.3 9.45l-7.72 7.72c-.78.78-.78 2.05 0 2.83L4 21.41c.39.39.9.59 1.41.59.51 0 1.02-.2 1.41-.59l7.78-7.78 2.81-2.81c.8-.78.8-2.07 0-2.86zM5.41 20L4 18.59l7.72-7.72 1.47 1.35L5.41 20z\"/>\n",
       "  </svg>\n",
       "      </button>\n",
       "      \n",
       "  <style>\n",
       "    .colab-df-container {\n",
       "      display:flex;\n",
       "      flex-wrap:wrap;\n",
       "      gap: 12px;\n",
       "    }\n",
       "\n",
       "    .colab-df-convert {\n",
       "      background-color: #E8F0FE;\n",
       "      border: none;\n",
       "      border-radius: 50%;\n",
       "      cursor: pointer;\n",
       "      display: none;\n",
       "      fill: #1967D2;\n",
       "      height: 32px;\n",
       "      padding: 0 0 0 0;\n",
       "      width: 32px;\n",
       "    }\n",
       "\n",
       "    .colab-df-convert:hover {\n",
       "      background-color: #E2EBFA;\n",
       "      box-shadow: 0px 1px 2px rgba(60, 64, 67, 0.3), 0px 1px 3px 1px rgba(60, 64, 67, 0.15);\n",
       "      fill: #174EA6;\n",
       "    }\n",
       "\n",
       "    [theme=dark] .colab-df-convert {\n",
       "      background-color: #3B4455;\n",
       "      fill: #D2E3FC;\n",
       "    }\n",
       "\n",
       "    [theme=dark] .colab-df-convert:hover {\n",
       "      background-color: #434B5C;\n",
       "      box-shadow: 0px 1px 3px 1px rgba(0, 0, 0, 0.15);\n",
       "      filter: drop-shadow(0px 1px 2px rgba(0, 0, 0, 0.3));\n",
       "      fill: #FFFFFF;\n",
       "    }\n",
       "  </style>\n",
       "\n",
       "      <script>\n",
       "        const buttonEl =\n",
       "          document.querySelector('#df-cabb7113-9564-4839-b5d0-43b94fd96e25 button.colab-df-convert');\n",
       "        buttonEl.style.display =\n",
       "          google.colab.kernel.accessAllowed ? 'block' : 'none';\n",
       "\n",
       "        async function convertToInteractive(key) {\n",
       "          const element = document.querySelector('#df-cabb7113-9564-4839-b5d0-43b94fd96e25');\n",
       "          const dataTable =\n",
       "            await google.colab.kernel.invokeFunction('convertToInteractive',\n",
       "                                                     [key], {});\n",
       "          if (!dataTable) return;\n",
       "\n",
       "          const docLinkHtml = 'Like what you see? Visit the ' +\n",
       "            '<a target=\"_blank\" href=https://colab.research.google.com/notebooks/data_table.ipynb>data table notebook</a>'\n",
       "            + ' to learn more about interactive tables.';\n",
       "          element.innerHTML = '';\n",
       "          dataTable['output_type'] = 'display_data';\n",
       "          await google.colab.output.renderOutput(dataTable, element);\n",
       "          const docLink = document.createElement('div');\n",
       "          docLink.innerHTML = docLinkHtml;\n",
       "          element.appendChild(docLink);\n",
       "        }\n",
       "      </script>\n",
       "    </div>\n",
       "  </div>\n",
       "  "
      ],
      "text/plain": [
       "        XGBoost_Prob  Target  CatBoost_Prob  LightGBM_Prob     Blend\n",
       "153205      0.028577       0       0.004041       0.006975  0.017189\n",
       "136740      0.074955       0       0.051071       0.053474  0.063734\n",
       "118183      0.028408       0       0.004223       0.006245  0.016922\n",
       "150106      0.029316       0       0.005371       0.006564  0.017701\n",
       "163046      0.046891       0       0.024138       0.025851  0.036029"
      ]
     },
     "execution_count": 86,
     "metadata": {},
     "output_type": "execute_result"
    }
   ],
   "source": [
    "val_prediction.head()"
   ]
  },
  {
   "cell_type": "code",
   "execution_count": 88,
   "metadata": {
    "id": "SMKCChltSoDL"
   },
   "outputs": [],
   "source": [
    "train_prediction.drop('Stack', axis = 1, inplace = True)"
   ]
  },
  {
   "cell_type": "markdown",
   "metadata": {
    "id": "uDEPYZ6EoTkN"
   },
   "source": [
    "# **Model Stacking**"
   ]
  },
  {
   "cell_type": "code",
   "execution_count": 89,
   "metadata": {
    "id": "fkUDnP9Aocw6"
   },
   "outputs": [],
   "source": [
    "X_stack_T = train_prediction.drop(['Blend', 'Target'], axis = 1)\n",
    "y_stack_T = train_prediction['Target']\n",
    "\n",
    "X_stack_v = val_prediction.drop(['Blend', 'Target'], axis = 1)\n",
    "y_stack_v = val_prediction['Target']\n",
    "\n",
    "X_stack_t = test_prediction.drop('Blend', axis = 1)"
   ]
  },
  {
   "cell_type": "code",
   "execution_count": 84,
   "metadata": {
    "id": "7Uc_-5NIozP1"
   },
   "outputs": [],
   "source": [
    "from sklearn.linear_model import LinearRegression"
   ]
  },
  {
   "cell_type": "code",
   "execution_count": 90,
   "metadata": {
    "id": "zQW5WLnopjwf"
   },
   "outputs": [],
   "source": [
    "stack_model = LinearRegression()\n",
    "stack_model.fit(X_stack_T, y_stack_T)\n",
    "\n",
    "train_prediction['Stack'] = stack_model.predict(X_stack_T)\n",
    "val_prediction['Stack'] = stack_model.predict(X_stack_v)\n",
    "test_prediction['Stack'] = stack_model.predict(X_stack_t)"
   ]
  },
  {
   "cell_type": "code",
   "execution_count": 96,
   "metadata": {
    "id": "uIZFxYAv9ljO"
   },
   "outputs": [],
   "source": [
    "sub_5 = sample_submission.copy()\n",
    "sub_5['target'] = test_prediction['Stack'].apply(lambda x: 1 if x >= 0.2 else 0)\n",
    "sub_5.to_csv('Ml-Olympiad/Stacking_unbal.csv', index = False)"
   ]
  },
  {
   "cell_type": "code",
   "execution_count": null,
   "metadata": {
    "id": "Qd9OBa0fTQAk"
   },
   "outputs": [],
   "source": []
  }
 ],
 "metadata": {
  "colab": {
   "collapsed_sections": [
    "6z1pjpcHIvDs",
    "Dy112ymw7Whe",
    "pFKybZQZ8SCP",
    "EWbwL2H9Akwm",
    "y70-REe7_Shx",
    "AF4HNXCvBzpn",
    "j5Ft6Tls6jbV",
    "NAul7d_qatHQ",
    "1H0rgtKGXGvX",
    "wZHZNfc4YBpI",
    "HIDGWZpZbfNZ",
    "OCD8Griebj6Y",
    "fty0Vs3AisML",
    "uDEPYZ6EoTkN"
   ],
   "name": "ML_Olympiad_Hackathon_Unbalanced.ipynb",
   "provenance": []
  },
  "kernelspec": {
   "display_name": "Python 3 (ipykernel)",
   "language": "python",
   "name": "python3"
  },
  "language_info": {
   "codemirror_mode": {
    "name": "ipython",
    "version": 3
   },
   "file_extension": ".py",
   "mimetype": "text/x-python",
   "name": "python",
   "nbconvert_exporter": "python",
   "pygments_lexer": "ipython3",
   "version": "3.9.7"
  }
 },
 "nbformat": 4,
 "nbformat_minor": 1
}
